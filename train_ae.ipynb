{
 "cells": [
  {
   "cell_type": "code",
   "execution_count": 1,
   "id": "dcc24325-68f7-4f21-a0f0-d02b5e1c5f16",
   "metadata": {
    "tags": []
   },
   "outputs": [],
   "source": [
    "\"\"\"\n",
    "Author: Wouter Van Gansbeke\n",
    "\n",
    "Main file for training auto-encoders and vaes\n",
    "Licensed under the CC BY-NC 4.0 license (https://creativecommons.org/licenses/by-nc/4.0/)\n",
    "\"\"\"\n",
    "\n",
    "import os\n",
    "import sys\n",
    "sys.argv = sys.argv[:1]\n",
    "import json\n",
    "import hydra\n",
    "import wandb\n",
    "import builtins\n",
    "from termcolor import colored\n",
    "from datetime import datetime\n",
    "from omegaconf import OmegaConf, DictConfig\n",
    "from typing import Dict, Any\n",
    "from termcolor import colored\n",
    "import torch\n",
    "import torch.multiprocessing as mp\n",
    "import torch.distributed as dist\n",
    "from diffusers import AutoencoderKL\n",
    "\n",
    "from ldmseg.models import GeneralVAESeg\n",
    "from ldmseg.trainers import TrainerAE\n",
    "from ldmseg.utils import prepare_config, Logger, is_main_process\n",
    "\n",
    "from hydra import initialize, compose\n",
    "from main_worker_ae import main_worker"
   ]
  },
  {
   "cell_type": "code",
   "execution_count": 2,
   "id": "ed022413-7319-4d2d-be69-628d67398f1e",
   "metadata": {
    "tags": []
   },
   "outputs": [
    {
     "name": "stderr",
     "output_type": "stream",
     "text": [
      "/tmp/ipykernel_785724/952905737.py:8: UserWarning: \n",
      "The version_base parameter is not specified.\n",
      "Please specify a compatability version level, or None.\n",
      "Will assume defaults for version 1.1\n",
      "  with initialize(config_path=\"tools/configs/\", job_name=\"config\"):\n"
     ]
    },
    {
     "name": "stdout",
     "output_type": "stream",
     "text": [
      "\u001b[31mUsing current time as run identifier: 20250417_120829\u001b[0m\n",
      "Use GPU: 0 for printing\n",
      "\u001b[33mStarting distributed training\u001b[0m\n",
      "\u001b[33mInitialized distributed training\u001b[0m\n",
      "\u001b[31m{\n",
      "    \"backbone\": \"unet\",\n",
      "    \"data_dir\": \"/root/autodl-tmp/video_sequence\",\n",
      "    \"ema_kwargs\": {\n",
      "        \"decay\": 0.9999,\n",
      "        \"device\": \"cuda\"\n",
      "    },\n",
      "    \"ema_on\": false,\n",
      "    \"eval_kwargs\": {\n",
      "        \"batch_size\": 16,\n",
      "        \"count_th\": 512,\n",
      "        \"mask_th\": 0.5,\n",
      "        \"num_workers\": 2,\n",
      "        \"overlap_th\": 0.5,\n",
      "        \"print_freq\": 100,\n",
      "        \"vis_every\": 5000\n",
      "    },\n",
      "    \"eval_only\": false,\n",
      "    \"fill_value\": 0.5,\n",
      "    \"has_bg\": false,\n",
      "    \"ignore_label\": 0,\n",
      "    \"image_scaling_factor\": 0.18215,\n",
      "    \"inpainting_strength\": 0.0,\n",
      "    \"load_path\": null,\n",
      "    \"log_file\": \"/root/autodl-tmp/Video-latent-diffusion-panoptic-segmentation/simple_diffusion/kitti/run_20250417_120829/logger.txt\",\n",
      "    \"loss_kwargs\": {\n",
      "        \"cost_class\": 1.0,\n",
      "        \"cost_mask\": 1.0,\n",
      "        \"importance_sample_ratio\": 0.75,\n",
      "        \"num_points\": 12544,\n",
      "        \"oversample_ratio\": 3,\n",
      "        \"temperature\": 1.0\n",
      "    },\n",
      "    \"loss_weights\": {\n",
      "        \"ce\": 1.0,\n",
      "        \"kl\": 0.0,\n",
      "        \"mask\": 1.0\n",
      "    },\n",
      "    \"lr_scheduler_kwargs\": {\n",
      "        \"final_lr\": 1e-06,\n",
      "        \"warmup_iters\": 100\n",
      "    },\n",
      "    \"lr_scheduler_name\": \"warmup\",\n",
      "    \"model_kwargs\": {\n",
      "        \"add_adaptor\": false,\n",
      "        \"cond_channels\": 0,\n",
      "        \"in_channels\": 8,\n",
      "        \"init_mode_adaptor\": \"random\",\n",
      "        \"init_mode_image\": \"zero\",\n",
      "        \"init_mode_seg\": \"copy\",\n",
      "        \"separate_conv\": false,\n",
      "        \"separate_encoder\": false\n",
      "    },\n",
      "    \"name\": \"kitti_20250417_120829\",\n",
      "    \"noise_scheduler_kwargs\": {\n",
      "        \"beta_end\": 0.012,\n",
      "        \"beta_schedule\": \"scaled_linear\",\n",
      "        \"beta_start\": 0.00085,\n",
      "        \"clip_sample\": false,\n",
      "        \"clip_sample_range\": 1.0,\n",
      "        \"dynamic_thresholding_ratio\": 0.995,\n",
      "        \"max_snr\": 5.0,\n",
      "        \"num_train_timesteps\": 1000,\n",
      "        \"prediction_type\": \"epsilon\",\n",
      "        \"sample_max_value\": 1.0,\n",
      "        \"set_alpha_to_one\": false,\n",
      "        \"steps_offset\": 1,\n",
      "        \"thresholding\": false,\n",
      "        \"weight\": \"none\"\n",
      "    },\n",
      "    \"num_bits\": 7,\n",
      "    \"num_classes\": 128,\n",
      "    \"optimizer_backbone_multiplier\": 1.0,\n",
      "    \"optimizer_kwargs\": {\n",
      "        \"betas\": [\n",
      "            0.9,\n",
      "            0.999\n",
      "        ],\n",
      "        \"lr\": 0.0001,\n",
      "        \"weight_decay\": 0.0,\n",
      "        \"weight_decay_norm\": 0.0\n",
      "    },\n",
      "    \"optimizer_name\": \"adamw\",\n",
      "    \"optimizer_save_optim\": false,\n",
      "    \"optimizer_zero_redundancy\": false,\n",
      "    \"output_dir\": \"/root/autodl-tmp/Video-latent-diffusion-panoptic-segmentation/simple_diffusion/kitti/run_20250417_120829\",\n",
      "    \"pretrained_model_path\": \"/root/autodl-tmp/stable-diffusion-v1-4\",\n",
      "    \"sampling_kwargs\": {\n",
      "        \"block_size\": 2,\n",
      "        \"guidance_scale\": 7.5,\n",
      "        \"num_inference_steps\": 50,\n",
      "        \"prob_mask\": 0.5,\n",
      "        \"seed\": 0\n",
      "    },\n",
      "    \"save_dir\": \"/root/autodl-tmp/Video-latent-diffusion-panoptic-segmentation/simple_diffusion/kitti/run_20250417_120829/predictions\",\n",
      "    \"shared_vae_encoder\": false,\n",
      "    \"split\": \"train\",\n",
      "    \"train_db_name\": \"kitti\",\n",
      "    \"train_kwargs\": {\n",
      "        \"accumulate\": 1,\n",
      "        \"allow_tf32\": false,\n",
      "        \"batch_size\": 8,\n",
      "        \"caption_dropout\": 1.0,\n",
      "        \"caption_type\": \"none\",\n",
      "        \"clip_grad\": 3.0,\n",
      "        \"cond_noise_level\": 0,\n",
      "        \"cudnn\": false,\n",
      "        \"dropout\": 0.0,\n",
      "        \"encoding_mode\": \"bits\",\n",
      "        \"find_unused_parameters\": false,\n",
      "        \"fp16\": false,\n",
      "        \"freeze_layers\": [\n",
      "            \"time_embedding\"\n",
      "        ],\n",
      "        \"gradient_as_bucket_view\": false,\n",
      "        \"gradient_checkpointing\": false,\n",
      "        \"image_descriptors\": \"remove\",\n",
      "        \"inpaint_mask_size\": [\n",
      "            64,\n",
      "            64\n",
      "        ],\n",
      "        \"latent_mask\": false,\n",
      "        \"loss\": \"l2\",\n",
      "        \"min_noise_level\": 0,\n",
      "        \"num_workers\": 2,\n",
      "        \"ohem_ratio\": 1.0,\n",
      "        \"prob_inpainting\": 0.0,\n",
      "        \"prob_train_on_pred\": 0.0,\n",
      "        \"remap_seg\": true,\n",
      "        \"rgb_noise_level\": 0,\n",
      "        \"sample_posterior\": false,\n",
      "        \"sample_posterior_rgb\": false,\n",
      "        \"self_condition\": false,\n",
      "        \"train_num_steps\": 500,\n",
      "        \"type_mask\": \"ignore\",\n",
      "        \"use_xformers\": false,\n",
      "        \"weight_dtype\": \"float32\"\n",
      "    },\n",
      "    \"transformation_kwargs\": {\n",
      "        \"flip\": true,\n",
      "        \"max_scale\": 1.5,\n",
      "        \"max_size\": 512,\n",
      "        \"min_scale\": 0.5,\n",
      "        \"normalize\": false,\n",
      "        \"normalize_params\": {\n",
      "            \"mean\": [\n",
      "                0.485,\n",
      "                0.456,\n",
      "                0.406\n",
      "            ],\n",
      "            \"std\": [\n",
      "                0.229,\n",
      "                0.224,\n",
      "                0.225\n",
      "            ]\n",
      "        },\n",
      "        \"pad_value\": 0,\n",
      "        \"scales\": [\n",
      "            352,\n",
      "            384,\n",
      "            416,\n",
      "            448,\n",
      "            480,\n",
      "            512,\n",
      "            544,\n",
      "            576,\n",
      "            608,\n",
      "            640\n",
      "        ],\n",
      "        \"size\": 512,\n",
      "        \"size_rgb\": 512,\n",
      "        \"type\": \"crop_resize_pil\"\n",
      "    },\n",
      "    \"vae_model_kwargs\": {\n",
      "        \"act_fn\": \"none\",\n",
      "        \"block_out_channels\": [\n",
      "            32,\n",
      "            64,\n",
      "            128,\n",
      "            256\n",
      "        ],\n",
      "        \"clamp_output\": false,\n",
      "        \"freeze_codebook\": false,\n",
      "        \"fuse_rgb\": false,\n",
      "        \"in_channels\": 7,\n",
      "        \"int_channels\": 256,\n",
      "        \"latent_channels\": 4,\n",
      "        \"norm_num_groups\": 32,\n",
      "        \"num_latents\": 2,\n",
      "        \"num_mid_blocks\": 0,\n",
      "        \"num_upscalers\": 2,\n",
      "        \"out_channels\": 128,\n",
      "        \"parametrization\": \"gaussian\",\n",
      "        \"pretrained_path\": null,\n",
      "        \"resize_input\": false,\n",
      "        \"scaling_factor\": 0.2,\n",
      "        \"skip_encoder\": false,\n",
      "        \"upscale_channels\": 256\n",
      "    },\n",
      "    \"val_db_name\": \"kitti\",\n",
      "    \"wandb\": false\n",
      "}\u001b[0m\n",
      "\u001b[33m2025-04-17 12:08:33.922126\u001b[0m\n",
      "pretrained_model_path /root/autodl-tmp/stable-diffusion-v1-4\n",
      "Interpolation factor:  2\n",
      "Parametrization:  gaussian\n",
      "Activation function:  none\n",
      "GeneralVAESeg(\n",
      "  (encoder): Sequential(\n",
      "    (0): Conv2d(7, 32, kernel_size=(3, 3), stride=(1, 1), padding=(1, 1))\n",
      "    (1): SiLU()\n",
      "    (2): Conv2d(32, 32, kernel_size=(3, 3), stride=(1, 1), padding=(1, 1))\n",
      "    (3): Conv2d(32, 64, kernel_size=(3, 3), stride=(2, 2), padding=(1, 1))\n",
      "    (4): SiLU()\n",
      "    (5): Conv2d(64, 64, kernel_size=(3, 3), stride=(1, 1), padding=(1, 1))\n",
      "    (6): Conv2d(64, 128, kernel_size=(3, 3), stride=(2, 2), padding=(1, 1))\n",
      "    (7): SiLU()\n",
      "    (8): Conv2d(128, 128, kernel_size=(3, 3), stride=(1, 1), padding=(1, 1))\n",
      "    (9): Conv2d(128, 256, kernel_size=(3, 3), stride=(2, 2), padding=(1, 1))\n",
      "    (10): SiLU()\n",
      "    (11): Conv2d(256, 256, kernel_size=(3, 3), stride=(1, 1), padding=(1, 1))\n",
      "    (12): Identity()\n",
      "    (13): GroupNorm(32, 256, eps=1e-06, affine=True)\n",
      "    (14): SiLU()\n",
      "    (15): Conv2d(256, 8, kernel_size=(3, 3), stride=(1, 1), padding=(1, 1))\n",
      "  )\n",
      "  (decoder): Sequential(\n",
      "    (0): Conv2d(4, 256, kernel_size=(3, 3), stride=(1, 1), padding=(1, 1))\n",
      "    (1): Identity()\n",
      "    (2): ConvTranspose2d(256, 256, kernel_size=(2, 2), stride=(2, 2))\n",
      "    (3): LayerNorm2d()\n",
      "    (4): SiLU()\n",
      "    (5): ConvTranspose2d(256, 256, kernel_size=(2, 2), stride=(2, 2))\n",
      "    (6): LayerNorm2d()\n",
      "    (7): SiLU()\n",
      "    (8): GroupNorm(32, 256, eps=1e-05, affine=True)\n",
      "    (9): SiLU()\n",
      "    (10): Conv2d(256, 128, kernel_size=(3, 3), stride=(1, 1), padding=(1, 1))\n",
      "  )\n",
      ")\n",
      "\u001b[33mNumber of trainable parameters: 2.02M\u001b[0m\n",
      "\u001b[33mBatch size per process is 8\u001b[0m\n",
      "\u001b[33mWorkers per process is 2\u001b[0m\n",
      "\u001b[33mWarning -- Using gradient clipping of 3.0\u001b[0m\n",
      "\u001b[31mMost likely not enough memory for training\u001b[0m\n",
      "\u001b[31mPlease use zero redundancy optimizer with adamw\u001b[0m\n",
      "AdamW (\n",
      "Parameter Group 0\n",
      "    amsgrad: False\n",
      "    betas: [0.9, 0.999]\n",
      "    capturable: False\n",
      "    differentiable: False\n",
      "    eps: 1e-08\n",
      "    foreach: None\n",
      "    fused: None\n",
      "    lr: 0.0001\n",
      "    maximize: False\n",
      "    weight_decay: 0.0\n",
      ")\n",
      "Train transforms Compose(\n",
      "    RandomHorizontalFlip(p=0.5)\n",
      "    CropResize(size=(512, 512), crop_mode=None)\n",
      "    ToTensor\n",
      "    Identity()\n",
      ")\n",
      "Val transforms Compose(\n",
      "    CropResize(size=(512, 512), crop_mode=None)\n",
      "    ToTensor\n",
      "    Identity()\n",
      ")\n",
      "Split: train\n",
      "Initializing dataloader for KITTI train set\n",
      "Found 50 samples in split train\n",
      "Split: val\n",
      "Initializing dataloader for KITTI val set\n",
      "Found 100 samples in split val\n",
      "\u001b[34mThe dataset contains 50 samples\u001b[0m\n",
      "\u001b[33mtraining for 167 epochs or 3 iters per epoch or 501 iterations\u001b[0m\n",
      "\u001b[33mUsing lr scheduler warmup with effective lr: 1.000e-04, final lr: 1.000e-06, warmup iters 100\u001b[0m\n",
      "\u001b[34mNo saved model at /root/autodl-tmp/Video-latent-diffusion-panoptic-segmentation/simple_diffusion/kitti/run_20250417_120829/model.pt to resume ...\u001b[0m\n",
      "\u001b[34mDistributed evaluation on the validation set\u001b[0m\n",
      "Thresholding output\n"
     ]
    },
    {
     "name": "stderr",
     "output_type": "stream",
     "text": [
      "7it [00:05,  1.38it/s]\n",
      "7it [00:05,  1.34it/s]\n",
      "  0%|          | 0/7 [00:00<?, ?it/s]"
     ]
    },
    {
     "name": "stdout",
     "output_type": "stream",
     "text": [
      "images saved\n",
      "Evaluation for semantic segmentation - val set\n",
      "mIoU is 0.00\n"
     ]
    },
    {
     "name": "stderr",
     "output_type": "stream",
     "text": [
      "100%|██████████| 7/7 [00:03<00:00,  1.76it/s]\n",
      "100%|██████████| 7/7 [00:03<00:00,  1.76it/s]\n"
     ]
    },
    {
     "name": "stdout",
     "output_type": "stream",
     "text": [
      "KITTI 全景评价结果： {'pq': 0.0, 'sq': 0.0, 'rq': 0.0, 'iou_sum': 0.0, 'tp': 0, 'fp': 3750, 'fn': 0}\n",
      "\u001b[34m-------------------------\u001b[0m\n",
      "\u001b[34mStarting epoch 0\u001b[0m\n"
     ]
    },
    {
     "name": "stderr",
     "output_type": "stream",
     "text": [
      "0it [00:00, ?it/s]"
     ]
    },
    {
     "name": "stdout",
     "output_type": "stream",
     "text": [
      "Learning rate is set to: 0.000e+00\n",
      "\u001b[33mModel saved for run kitti_20250417_120829\u001b[0m\n",
      "\u001b[34mDistributed evaluation on the validation set\u001b[0m\n",
      "Thresholding output\n"
     ]
    },
    {
     "name": "stderr",
     "output_type": "stream",
     "text": [
      "7it [00:03,  1.78it/s]\n",
      "7it [00:03,  1.76it/s]\n",
      "  0%|          | 0/7 [00:00<?, ?it/s]"
     ]
    },
    {
     "name": "stdout",
     "output_type": "stream",
     "text": [
      "images saved\n",
      "Evaluation for semantic segmentation - val set\n",
      "mIoU is 0.00\n"
     ]
    },
    {
     "name": "stderr",
     "output_type": "stream",
     "text": [
      "100%|██████████| 7/7 [00:03<00:00,  1.79it/s]\n",
      "100%|██████████| 7/7 [00:03<00:00,  1.76it/s]\n"
     ]
    },
    {
     "name": "stdout",
     "output_type": "stream",
     "text": [
      "KITTI 全景评价结果： {'pq': 0.0, 'sq': 0.0, 'rq': 0.0, 'iou_sum': 0.0, 'tp': 0, 'fp': 3750, 'fn': 0}\n",
      "\u001b[33mAverage loss: nan\u001b[0m\n",
      "\u001b[33mEpoch took 0:00:11.471692\u001b[0m\n",
      "\u001b[33mETA: 0:57:16.062476\u001b[0m\n",
      "\u001b[34m-------------------------\u001b[0m\n",
      "\u001b[34mStarting epoch 1\u001b[0m\n"
     ]
    },
    {
     "name": "stderr",
     "output_type": "stream",
     "text": [
      "0it [00:00, ?it/s]"
     ]
    },
    {
     "name": "stdout",
     "output_type": "stream",
     "text": [
      "Learning rate is set to: 3.030e-06\n",
      "\u001b[33mModel saved for run kitti_20250417_120829\u001b[0m\n",
      "\u001b[34mDistributed evaluation on the validation set\u001b[0m\n",
      "Thresholding output\n"
     ]
    },
    {
     "name": "stderr",
     "output_type": "stream",
     "text": [
      "7it [00:03,  1.76it/s]\n",
      "7it [00:03,  1.77it/s]\n",
      "  0%|          | 0/7 [00:00<?, ?it/s]"
     ]
    },
    {
     "name": "stdout",
     "output_type": "stream",
     "text": [
      "images saved\n",
      "Evaluation for semantic segmentation - val set\n",
      "mIoU is 0.00\n"
     ]
    },
    {
     "name": "stderr",
     "output_type": "stream",
     "text": [
      "100%|██████████| 7/7 [00:03<00:00,  1.77it/s]\n",
      "100%|██████████| 7/7 [00:03<00:00,  1.77it/s]\n"
     ]
    },
    {
     "name": "stdout",
     "output_type": "stream",
     "text": [
      "KITTI 全景评价结果： {'pq': 0.0, 'sq': 0.0, 'rq': 0.0, 'iou_sum': 0.0, 'tp': 0, 'fp': 3750, 'fn': 0}\n",
      "\u001b[33mAverage loss: nan\u001b[0m\n",
      "\u001b[33mEpoch took 0:00:11.664275\u001b[0m\n",
      "\u001b[33mETA: 0:44:29.991691\u001b[0m\n",
      "\u001b[34m-------------------------\u001b[0m\n",
      "\u001b[34mStarting epoch 2\u001b[0m\n"
     ]
    },
    {
     "name": "stderr",
     "output_type": "stream",
     "text": [
      "0it [00:00, ?it/s]"
     ]
    },
    {
     "name": "stdout",
     "output_type": "stream",
     "text": [
      "Learning rate is set to: 6.061e-06\n",
      "\u001b[33mModel saved for run kitti_20250417_120829\u001b[0m\n",
      "\u001b[34mDistributed evaluation on the validation set\u001b[0m\n",
      "Thresholding output\n"
     ]
    },
    {
     "name": "stderr",
     "output_type": "stream",
     "text": [
      "7it [00:03,  1.76it/s]\n",
      "7it [00:04,  1.75it/s]\n",
      "  0%|          | 0/7 [00:00<?, ?it/s]"
     ]
    },
    {
     "name": "stdout",
     "output_type": "stream",
     "text": [
      "images saved\n",
      "Evaluation for semantic segmentation - val set\n",
      "mIoU is 0.00\n"
     ]
    },
    {
     "name": "stderr",
     "output_type": "stream",
     "text": [
      "100%|██████████| 7/7 [00:03<00:00,  1.76it/s]\n",
      "100%|██████████| 7/7 [00:03<00:00,  1.76it/s]\n"
     ]
    },
    {
     "name": "stdout",
     "output_type": "stream",
     "text": [
      "KITTI 全景评价结果： {'pq': 0.0, 'sq': 0.0, 'rq': 0.0, 'iou_sum': 0.0, 'tp': 0, 'fp': 3750, 'fn': 0}\n",
      "\u001b[33mAverage loss: nan\u001b[0m\n",
      "\u001b[33mEpoch took 0:00:11.648060\u001b[0m\n",
      "\u001b[33mETA: 0:40:05.971560\u001b[0m\n",
      "\u001b[34m-------------------------\u001b[0m\n",
      "\u001b[34mStarting epoch 3\u001b[0m\n"
     ]
    },
    {
     "name": "stderr",
     "output_type": "stream",
     "text": [
      "0it [00:00, ?it/s]"
     ]
    },
    {
     "name": "stdout",
     "output_type": "stream",
     "text": [
      "Learning rate is set to: 9.091e-06\n",
      "\u001b[33mModel saved for run kitti_20250417_120829\u001b[0m\n",
      "\u001b[34mDistributed evaluation on the validation set\u001b[0m\n",
      "Thresholding output\n"
     ]
    },
    {
     "name": "stderr",
     "output_type": "stream",
     "text": [
      "7it [00:03,  1.77it/s]\n",
      "7it [00:04,  1.73it/s]\n",
      "  0%|          | 0/7 [00:00<?, ?it/s]"
     ]
    },
    {
     "name": "stdout",
     "output_type": "stream",
     "text": [
      "images saved\n",
      "Evaluation for semantic segmentation - val set\n",
      "mIoU is 0.00\n"
     ]
    },
    {
     "name": "stderr",
     "output_type": "stream",
     "text": [
      "100%|██████████| 7/7 [00:03<00:00,  1.79it/s]\n",
      "100%|██████████| 7/7 [00:03<00:00,  1.75it/s]\n"
     ]
    },
    {
     "name": "stdout",
     "output_type": "stream",
     "text": [
      "KITTI 全景评价结果： {'pq': 0.0, 'sq': 0.0, 'rq': 0.0, 'iou_sum': 0.0, 'tp': 0, 'fp': 3750, 'fn': 0}\n",
      "\u001b[33mAverage loss: nan\u001b[0m\n",
      "\u001b[33mEpoch took 0:00:11.617074\u001b[0m\n",
      "\u001b[33mETA: 0:37:46.874743\u001b[0m\n",
      "\u001b[34m-------------------------\u001b[0m\n",
      "\u001b[34mStarting epoch 4\u001b[0m\n"
     ]
    },
    {
     "name": "stderr",
     "output_type": "stream",
     "text": [
      "0it [00:00, ?it/s]"
     ]
    },
    {
     "name": "stdout",
     "output_type": "stream",
     "text": [
      "Learning rate is set to: 1.212e-05\n",
      "\u001b[33mModel saved for run kitti_20250417_120829\u001b[0m\n",
      "\u001b[34mDistributed evaluation on the validation set\u001b[0m\n",
      "Thresholding output\n"
     ]
    },
    {
     "name": "stderr",
     "output_type": "stream",
     "text": [
      "7it [00:03,  1.75it/s]\n",
      "7it [00:04,  1.74it/s]\n",
      "  0%|          | 0/7 [00:00<?, ?it/s]"
     ]
    },
    {
     "name": "stdout",
     "output_type": "stream",
     "text": [
      "images saved\n",
      "Evaluation for semantic segmentation - val set\n",
      "mIoU is 0.00\n"
     ]
    },
    {
     "name": "stderr",
     "output_type": "stream",
     "text": [
      "100%|██████████| 7/7 [00:03<00:00,  1.79it/s]\n",
      "100%|██████████| 7/7 [00:03<00:00,  1.79it/s]\n"
     ]
    },
    {
     "name": "stdout",
     "output_type": "stream",
     "text": [
      "KITTI 全景评价结果： {'pq': 0.0, 'sq': 0.0, 'rq': 0.0, 'iou_sum': 0.0, 'tp': 0, 'fp': 3750, 'fn': 0}\n",
      "\u001b[33mAverage loss: nan\u001b[0m\n",
      "\u001b[33mEpoch took 0:00:11.534996\u001b[0m\n",
      "\u001b[33mETA: 0:36:16.110697\u001b[0m\n",
      "\u001b[34m-------------------------\u001b[0m\n",
      "\u001b[34mStarting epoch 5\u001b[0m\n"
     ]
    },
    {
     "name": "stderr",
     "output_type": "stream",
     "text": [
      "0it [00:00, ?it/s]"
     ]
    },
    {
     "name": "stdout",
     "output_type": "stream",
     "text": [
      "Learning rate is set to: 1.515e-05\n",
      "\u001b[33mModel saved for run kitti_20250417_120829\u001b[0m\n",
      "\u001b[34mDistributed evaluation on the validation set\u001b[0m\n",
      "Thresholding output\n"
     ]
    },
    {
     "name": "stderr",
     "output_type": "stream",
     "text": [
      "7it [00:04,  1.74it/s]\n",
      "7it [00:04,  1.71it/s]\n",
      "  0%|          | 0/7 [00:00<?, ?it/s]"
     ]
    },
    {
     "name": "stdout",
     "output_type": "stream",
     "text": [
      "images saved\n",
      "Evaluation for semantic segmentation - val set\n",
      "mIoU is 0.00\n"
     ]
    },
    {
     "name": "stderr",
     "output_type": "stream",
     "text": [
      "100%|██████████| 7/7 [00:03<00:00,  1.80it/s]\n",
      "100%|██████████| 7/7 [00:03<00:00,  1.78it/s]\n"
     ]
    },
    {
     "name": "stdout",
     "output_type": "stream",
     "text": [
      "KITTI 全景评价结果： {'pq': 0.0, 'sq': 0.0, 'rq': 0.0, 'iou_sum': 0.0, 'tp': 0, 'fp': 3750, 'fn': 0}\n",
      "\u001b[33mAverage loss: nan\u001b[0m\n",
      "\u001b[33mEpoch took 0:00:11.578775\u001b[0m\n",
      "\u001b[33mETA: 0:35:12.931506\u001b[0m\n",
      "\u001b[34m-------------------------\u001b[0m\n",
      "\u001b[34mStarting epoch 6\u001b[0m\n"
     ]
    },
    {
     "name": "stderr",
     "output_type": "stream",
     "text": [
      "0it [00:00, ?it/s]"
     ]
    },
    {
     "name": "stdout",
     "output_type": "stream",
     "text": [
      "Learning rate is set to: 1.818e-05\n",
      "\u001b[33mModel saved for run kitti_20250417_120829\u001b[0m\n",
      "\u001b[34mDistributed evaluation on the validation set\u001b[0m\n",
      "Thresholding output\n"
     ]
    },
    {
     "name": "stderr",
     "output_type": "stream",
     "text": [
      "7it [00:03,  1.78it/s]\n",
      "7it [00:04,  1.74it/s]\n",
      "  0%|          | 0/7 [00:00<?, ?it/s]"
     ]
    },
    {
     "name": "stdout",
     "output_type": "stream",
     "text": [
      "images saved\n",
      "Evaluation for semantic segmentation - val set\n",
      "mIoU is 0.00\n"
     ]
    },
    {
     "name": "stderr",
     "output_type": "stream",
     "text": [
      "100%|██████████| 7/7 [00:03<00:00,  1.76it/s]\n",
      "100%|██████████| 7/7 [00:03<00:00,  1.76it/s]\n"
     ]
    },
    {
     "name": "stdout",
     "output_type": "stream",
     "text": [
      "KITTI 全景评价结果： {'pq': 0.0, 'sq': 0.0, 'rq': 0.0, 'iou_sum': 0.0, 'tp': 0, 'fp': 3750, 'fn': 0}\n",
      "\u001b[33mAverage loss: nan\u001b[0m\n",
      "\u001b[33mEpoch took 0:00:11.660269\u001b[0m\n",
      "\u001b[33mETA: 0:34:26.357313\u001b[0m\n",
      "\u001b[34m-------------------------\u001b[0m\n",
      "\u001b[34mStarting epoch 7\u001b[0m\n"
     ]
    },
    {
     "name": "stderr",
     "output_type": "stream",
     "text": [
      "0it [00:00, ?it/s]"
     ]
    },
    {
     "name": "stdout",
     "output_type": "stream",
     "text": [
      "Learning rate is set to: 2.121e-05\n",
      "\u001b[33mModel saved for run kitti_20250417_120829\u001b[0m\n",
      "\u001b[34mDistributed evaluation on the validation set\u001b[0m\n",
      "Thresholding output\n"
     ]
    },
    {
     "name": "stderr",
     "output_type": "stream",
     "text": [
      "7it [00:03,  1.79it/s]\n",
      "7it [00:03,  1.76it/s]\n",
      "  0%|          | 0/7 [00:00<?, ?it/s]"
     ]
    },
    {
     "name": "stdout",
     "output_type": "stream",
     "text": [
      "images saved\n",
      "Evaluation for semantic segmentation - val set\n",
      "mIoU is 0.00\n"
     ]
    },
    {
     "name": "stderr",
     "output_type": "stream",
     "text": [
      "100%|██████████| 7/7 [00:03<00:00,  1.78it/s]\n",
      "100%|██████████| 7/7 [00:03<00:00,  1.75it/s]\n"
     ]
    },
    {
     "name": "stdout",
     "output_type": "stream",
     "text": [
      "KITTI 全景评价结果： {'pq': 0.0, 'sq': 0.0, 'rq': 0.0, 'iou_sum': 0.0, 'tp': 0, 'fp': 3750, 'fn': 0}\n",
      "\u001b[33mAverage loss: nan\u001b[0m\n",
      "\u001b[33mEpoch took 0:00:11.503711\u001b[0m\n",
      "\u001b[33mETA: 0:33:45.400148\u001b[0m\n",
      "\u001b[34m-------------------------\u001b[0m\n",
      "\u001b[34mStarting epoch 8\u001b[0m\n"
     ]
    },
    {
     "name": "stderr",
     "output_type": "stream",
     "text": [
      "0it [00:00, ?it/s]"
     ]
    },
    {
     "name": "stdout",
     "output_type": "stream",
     "text": [
      "Learning rate is set to: 2.424e-05\n",
      "\u001b[33mModel saved for run kitti_20250417_120829\u001b[0m\n",
      "\u001b[34mDistributed evaluation on the validation set\u001b[0m\n",
      "Thresholding output\n"
     ]
    },
    {
     "name": "stderr",
     "output_type": "stream",
     "text": [
      "7it [00:03,  1.79it/s]\n",
      "7it [00:03,  1.77it/s]\n",
      "  0%|          | 0/7 [00:00<?, ?it/s]"
     ]
    },
    {
     "name": "stdout",
     "output_type": "stream",
     "text": [
      "images saved\n",
      "Evaluation for semantic segmentation - val set\n",
      "mIoU is 0.00\n"
     ]
    },
    {
     "name": "stderr",
     "output_type": "stream",
     "text": [
      "100%|██████████| 7/7 [00:03<00:00,  1.79it/s]\n",
      "100%|██████████| 7/7 [00:03<00:00,  1.79it/s]\n"
     ]
    },
    {
     "name": "stdout",
     "output_type": "stream",
     "text": [
      "KITTI 全景评价结果： {'pq': 0.0, 'sq': 0.0, 'rq': 0.0, 'iou_sum': 0.0, 'tp': 0, 'fp': 3750, 'fn': 0}\n",
      "\u001b[33mAverage loss: nan\u001b[0m\n",
      "\u001b[33mEpoch took 0:00:11.362614\u001b[0m\n",
      "\u001b[33mETA: 0:33:08.510934\u001b[0m\n",
      "\u001b[34m-------------------------\u001b[0m\n",
      "\u001b[34mStarting epoch 9\u001b[0m\n"
     ]
    },
    {
     "name": "stderr",
     "output_type": "stream",
     "text": [
      "0it [00:00, ?it/s]"
     ]
    },
    {
     "name": "stdout",
     "output_type": "stream",
     "text": [
      "Learning rate is set to: 2.727e-05\n",
      "\u001b[33mModel saved for run kitti_20250417_120829\u001b[0m\n",
      "\u001b[34mDistributed evaluation on the validation set\u001b[0m\n",
      "Thresholding output\n"
     ]
    },
    {
     "name": "stderr",
     "output_type": "stream",
     "text": [
      "7it [00:03,  1.81it/s]\n",
      "7it [00:03,  1.80it/s]\n",
      "  0%|          | 0/7 [00:00<?, ?it/s]"
     ]
    },
    {
     "name": "stdout",
     "output_type": "stream",
     "text": [
      "images saved\n",
      "Evaluation for semantic segmentation - val set\n",
      "mIoU is 0.00\n"
     ]
    },
    {
     "name": "stderr",
     "output_type": "stream",
     "text": [
      "100%|██████████| 7/7 [00:03<00:00,  1.78it/s]\n",
      "100%|██████████| 7/7 [00:03<00:00,  1.75it/s]\n"
     ]
    },
    {
     "name": "stdout",
     "output_type": "stream",
     "text": [
      "KITTI 全景评价结果： {'pq': 0.0, 'sq': 0.0, 'rq': 0.0, 'iou_sum': 0.0, 'tp': 0, 'fp': 3750, 'fn': 0}\n",
      "\u001b[33mAverage loss: nan\u001b[0m\n",
      "\u001b[33mEpoch took 0:00:11.396425\u001b[0m\n",
      "\u001b[33mETA: 0:32:37.257800\u001b[0m\n",
      "\u001b[34m-------------------------\u001b[0m\n",
      "\u001b[34mStarting epoch 10\u001b[0m\n"
     ]
    },
    {
     "name": "stderr",
     "output_type": "stream",
     "text": [
      "0it [00:00, ?it/s]"
     ]
    },
    {
     "name": "stdout",
     "output_type": "stream",
     "text": [
      "Learning rate is set to: 3.030e-05\n",
      "\u001b[33mModel saved for run kitti_20250417_120829\u001b[0m\n",
      "\u001b[34mDistributed evaluation on the validation set\u001b[0m\n",
      "Thresholding output\n"
     ]
    },
    {
     "name": "stderr",
     "output_type": "stream",
     "text": [
      "7it [00:03,  1.79it/s]\n",
      "7it [00:03,  1.79it/s]\n",
      "  0%|          | 0/7 [00:00<?, ?it/s]"
     ]
    },
    {
     "name": "stdout",
     "output_type": "stream",
     "text": [
      "images saved\n",
      "Evaluation for semantic segmentation - val set\n",
      "mIoU is 0.00\n"
     ]
    },
    {
     "name": "stderr",
     "output_type": "stream",
     "text": [
      "100%|██████████| 7/7 [00:03<00:00,  1.79it/s]\n",
      "100%|██████████| 7/7 [00:03<00:00,  1.78it/s]\n"
     ]
    },
    {
     "name": "stdout",
     "output_type": "stream",
     "text": [
      "KITTI 全景评价结果： {'pq': 0.0, 'sq': 0.0, 'rq': 0.0, 'iou_sum': 0.0, 'tp': 0, 'fp': 3750, 'fn': 0}\n",
      "\u001b[33mAverage loss: nan\u001b[0m\n",
      "\u001b[33mEpoch took 0:00:11.367002\u001b[0m\n",
      "\u001b[33mETA: 0:32:09.197680\u001b[0m\n",
      "\u001b[34m-------------------------\u001b[0m\n",
      "\u001b[34mStarting epoch 11\u001b[0m\n"
     ]
    },
    {
     "name": "stderr",
     "output_type": "stream",
     "text": [
      "0it [00:00, ?it/s]"
     ]
    },
    {
     "name": "stdout",
     "output_type": "stream",
     "text": [
      "Learning rate is set to: 3.333e-05\n",
      "\u001b[33mModel saved for run kitti_20250417_120829\u001b[0m\n",
      "\u001b[34mDistributed evaluation on the validation set\u001b[0m\n",
      "Thresholding output\n"
     ]
    },
    {
     "name": "stderr",
     "output_type": "stream",
     "text": [
      "7it [00:03,  1.81it/s]\n",
      "7it [00:03,  1.80it/s]\n",
      "  0%|          | 0/7 [00:00<?, ?it/s]"
     ]
    },
    {
     "name": "stdout",
     "output_type": "stream",
     "text": [
      "images saved\n",
      "Evaluation for semantic segmentation - val set\n",
      "mIoU is 0.00\n"
     ]
    },
    {
     "name": "stderr",
     "output_type": "stream",
     "text": [
      "100%|██████████| 7/7 [00:03<00:00,  1.78it/s]\n",
      "100%|██████████| 7/7 [00:03<00:00,  1.76it/s]\n"
     ]
    },
    {
     "name": "stdout",
     "output_type": "stream",
     "text": [
      "KITTI 全景评价结果： {'pq': 0.0, 'sq': 0.0, 'rq': 0.0, 'iou_sum': 0.0, 'tp': 0, 'fp': 3750, 'fn': 0}\n",
      "\u001b[33mAverage loss: nan\u001b[0m\n",
      "\u001b[33mEpoch took 0:00:11.379797\u001b[0m\n",
      "\u001b[33mETA: 0:31:44.085124\u001b[0m\n",
      "\u001b[34m-------------------------\u001b[0m\n",
      "\u001b[34mStarting epoch 12\u001b[0m\n"
     ]
    },
    {
     "name": "stderr",
     "output_type": "stream",
     "text": [
      "0it [00:00, ?it/s]"
     ]
    },
    {
     "name": "stdout",
     "output_type": "stream",
     "text": [
      "Learning rate is set to: 3.636e-05\n",
      "\u001b[33mModel saved for run kitti_20250417_120829\u001b[0m\n",
      "\u001b[34mDistributed evaluation on the validation set\u001b[0m\n",
      "Thresholding output\n"
     ]
    },
    {
     "name": "stderr",
     "output_type": "stream",
     "text": [
      "7it [00:03,  1.79it/s]\n",
      "7it [00:03,  1.75it/s]\n",
      "  0%|          | 0/7 [00:00<?, ?it/s]"
     ]
    },
    {
     "name": "stdout",
     "output_type": "stream",
     "text": [
      "images saved\n",
      "Evaluation for semantic segmentation - val set\n",
      "mIoU is 0.00\n"
     ]
    },
    {
     "name": "stderr",
     "output_type": "stream",
     "text": [
      "100%|██████████| 7/7 [00:04<00:00,  1.74it/s]\n",
      "100%|██████████| 7/7 [00:04<00:00,  1.73it/s]\n"
     ]
    },
    {
     "name": "stdout",
     "output_type": "stream",
     "text": [
      "KITTI 全景评价结果： {'pq': 0.0, 'sq': 0.0, 'rq': 0.0, 'iou_sum': 0.0, 'tp': 0, 'fp': 3750, 'fn': 0}\n",
      "\u001b[33mAverage loss: nan\u001b[0m\n",
      "\u001b[33mEpoch took 0:00:11.553748\u001b[0m\n",
      "\u001b[33mETA: 0:31:23.145954\u001b[0m\n",
      "\u001b[34m-------------------------\u001b[0m\n",
      "\u001b[34mStarting epoch 13\u001b[0m\n"
     ]
    },
    {
     "name": "stderr",
     "output_type": "stream",
     "text": [
      "0it [00:00, ?it/s]"
     ]
    },
    {
     "name": "stdout",
     "output_type": "stream",
     "text": [
      "Learning rate is set to: 3.939e-05\n",
      "\u001b[33mModel saved for run kitti_20250417_120829\u001b[0m\n",
      "\u001b[34mDistributed evaluation on the validation set\u001b[0m\n",
      "Thresholding output\n"
     ]
    },
    {
     "name": "stderr",
     "output_type": "stream",
     "text": [
      "7it [00:03,  1.78it/s]\n",
      "7it [00:03,  1.79it/s]\n",
      "  0%|          | 0/7 [00:00<?, ?it/s]"
     ]
    },
    {
     "name": "stdout",
     "output_type": "stream",
     "text": [
      "images saved\n",
      "Evaluation for semantic segmentation - val set\n",
      "mIoU is 0.00\n"
     ]
    },
    {
     "name": "stderr",
     "output_type": "stream",
     "text": [
      "100%|██████████| 7/7 [00:03<00:00,  1.77it/s]\n",
      "100%|██████████| 7/7 [00:03<00:00,  1.77it/s]\n"
     ]
    },
    {
     "name": "stdout",
     "output_type": "stream",
     "text": [
      "KITTI 全景评价结果： {'pq': 0.0, 'sq': 0.0, 'rq': 0.0, 'iou_sum': 0.0, 'tp': 0, 'fp': 3750, 'fn': 0}\n",
      "\u001b[33mAverage loss: nan\u001b[0m\n",
      "\u001b[33mEpoch took 0:00:11.369651\u001b[0m\n",
      "\u001b[33mETA: 0:31:01.535729\u001b[0m\n",
      "\u001b[34m-------------------------\u001b[0m\n",
      "\u001b[34mStarting epoch 14\u001b[0m\n"
     ]
    },
    {
     "name": "stderr",
     "output_type": "stream",
     "text": [
      "0it [00:00, ?it/s]"
     ]
    },
    {
     "name": "stdout",
     "output_type": "stream",
     "text": [
      "Learning rate is set to: 4.242e-05\n",
      "\u001b[33mModel saved for run kitti_20250417_120829\u001b[0m\n",
      "\u001b[34mDistributed evaluation on the validation set\u001b[0m\n",
      "Thresholding output\n"
     ]
    },
    {
     "name": "stderr",
     "output_type": "stream",
     "text": [
      "7it [00:03,  1.77it/s]\n",
      "7it [00:03,  1.76it/s]\n",
      "  0%|          | 0/7 [00:00<?, ?it/s]"
     ]
    },
    {
     "name": "stdout",
     "output_type": "stream",
     "text": [
      "images saved\n",
      "Evaluation for semantic segmentation - val set\n",
      "mIoU is 0.00\n"
     ]
    },
    {
     "name": "stderr",
     "output_type": "stream",
     "text": [
      "100%|██████████| 7/7 [00:03<00:00,  1.78it/s]\n",
      "100%|██████████| 7/7 [00:03<00:00,  1.77it/s]\n"
     ]
    },
    {
     "name": "stdout",
     "output_type": "stream",
     "text": [
      "KITTI 全景评价结果： {'pq': 0.0, 'sq': 0.0, 'rq': 0.0, 'iou_sum': 0.0, 'tp': 0, 'fp': 3750, 'fn': 0}\n",
      "\u001b[33mAverage loss: nan\u001b[0m\n",
      "\u001b[33mEpoch took 0:00:11.630711\u001b[0m\n",
      "\u001b[33mETA: 0:30:43.936193\u001b[0m\n",
      "\u001b[34m-------------------------\u001b[0m\n",
      "\u001b[34mStarting epoch 15\u001b[0m\n"
     ]
    },
    {
     "name": "stderr",
     "output_type": "stream",
     "text": [
      "0it [00:00, ?it/s]"
     ]
    },
    {
     "name": "stdout",
     "output_type": "stream",
     "text": [
      "Learning rate is set to: 4.545e-05\n",
      "\u001b[33mModel saved for run kitti_20250417_120829\u001b[0m\n",
      "\u001b[34mDistributed evaluation on the validation set\u001b[0m\n",
      "Thresholding output\n"
     ]
    },
    {
     "name": "stderr",
     "output_type": "stream",
     "text": [
      "7it [00:03,  1.80it/s]\n",
      "7it [00:03,  1.81it/s]\n",
      "  0%|          | 0/7 [00:00<?, ?it/s]"
     ]
    },
    {
     "name": "stdout",
     "output_type": "stream",
     "text": [
      "images saved\n",
      "Evaluation for semantic segmentation - val set\n",
      "mIoU is 0.00\n"
     ]
    },
    {
     "name": "stderr",
     "output_type": "stream",
     "text": [
      "100%|██████████| 7/7 [00:03<00:00,  1.83it/s]\n",
      "100%|██████████| 7/7 [00:03<00:00,  1.82it/s]\n"
     ]
    },
    {
     "name": "stdout",
     "output_type": "stream",
     "text": [
      "KITTI 全景评价结果： {'pq': 0.0, 'sq': 0.0, 'rq': 0.0, 'iou_sum': 0.0, 'tp': 0, 'fp': 3750, 'fn': 0}\n",
      "\u001b[33mAverage loss: nan\u001b[0m\n",
      "\u001b[33mEpoch took 0:00:11.281321\u001b[0m\n",
      "\u001b[33mETA: 0:30:23.785397\u001b[0m\n",
      "\u001b[34m-------------------------\u001b[0m\n",
      "\u001b[34mStarting epoch 16\u001b[0m\n"
     ]
    },
    {
     "name": "stderr",
     "output_type": "stream",
     "text": [
      "0it [00:00, ?it/s]"
     ]
    },
    {
     "name": "stdout",
     "output_type": "stream",
     "text": [
      "Learning rate is set to: 4.848e-05\n",
      "\u001b[33mModel saved for run kitti_20250417_120829\u001b[0m\n",
      "\u001b[34mDistributed evaluation on the validation set\u001b[0m\n",
      "Thresholding output\n"
     ]
    },
    {
     "name": "stderr",
     "output_type": "stream",
     "text": [
      "7it [00:03,  1.82it/s]\n",
      "7it [00:03,  1.80it/s]\n",
      "  0%|          | 0/7 [00:00<?, ?it/s]"
     ]
    },
    {
     "name": "stdout",
     "output_type": "stream",
     "text": [
      "images saved\n",
      "Evaluation for semantic segmentation - val set\n",
      "mIoU is 0.00\n"
     ]
    },
    {
     "name": "stderr",
     "output_type": "stream",
     "text": [
      "100%|██████████| 7/7 [00:03<00:00,  1.79it/s]\n",
      "100%|██████████| 7/7 [00:03<00:00,  1.78it/s]\n"
     ]
    },
    {
     "name": "stdout",
     "output_type": "stream",
     "text": [
      "KITTI 全景评价结果： {'pq': 0.0, 'sq': 0.0, 'rq': 0.0, 'iou_sum': 0.0, 'tp': 0, 'fp': 3750, 'fn': 0}\n",
      "\u001b[33mAverage loss: nan\u001b[0m\n",
      "\u001b[33mEpoch took 0:00:11.491109\u001b[0m\n",
      "\u001b[33mETA: 0:30:06.529061\u001b[0m\n",
      "\u001b[34m-------------------------\u001b[0m\n",
      "\u001b[34mStarting epoch 17\u001b[0m\n"
     ]
    },
    {
     "name": "stderr",
     "output_type": "stream",
     "text": [
      "0it [00:00, ?it/s]"
     ]
    },
    {
     "name": "stdout",
     "output_type": "stream",
     "text": [
      "Learning rate is set to: 5.152e-05\n",
      "\u001b[33mModel saved for run kitti_20250417_120829\u001b[0m\n",
      "\u001b[34mDistributed evaluation on the validation set\u001b[0m\n",
      "Thresholding output\n"
     ]
    },
    {
     "name": "stderr",
     "output_type": "stream",
     "text": [
      "7it [00:03,  1.78it/s]\n",
      "7it [00:04,  1.74it/s]\n",
      "  0%|          | 0/7 [00:00<?, ?it/s]"
     ]
    },
    {
     "name": "stdout",
     "output_type": "stream",
     "text": [
      "images saved\n",
      "Evaluation for semantic segmentation - val set\n",
      "mIoU is 0.00\n"
     ]
    },
    {
     "name": "stderr",
     "output_type": "stream",
     "text": [
      "100%|██████████| 7/7 [00:04<00:00,  1.75it/s]\n",
      "100%|██████████| 7/7 [00:04<00:00,  1.75it/s]\n"
     ]
    },
    {
     "name": "stdout",
     "output_type": "stream",
     "text": [
      "KITTI 全景评价结果： {'pq': 0.0, 'sq': 0.0, 'rq': 0.0, 'iou_sum': 0.0, 'tp': 0, 'fp': 3750, 'fn': 0}\n",
      "\u001b[33mAverage loss: nan\u001b[0m\n",
      "\u001b[33mEpoch took 0:00:11.792735\u001b[0m\n",
      "\u001b[33mETA: 0:29:52.410098\u001b[0m\n",
      "\u001b[34m-------------------------\u001b[0m\n",
      "\u001b[34mStarting epoch 18\u001b[0m\n"
     ]
    },
    {
     "name": "stderr",
     "output_type": "stream",
     "text": [
      "0it [00:00, ?it/s]"
     ]
    },
    {
     "name": "stdout",
     "output_type": "stream",
     "text": [
      "Learning rate is set to: 5.455e-05\n",
      "\u001b[33mModel saved for run kitti_20250417_120829\u001b[0m\n",
      "\u001b[34mDistributed evaluation on the validation set\u001b[0m\n",
      "Thresholding output\n"
     ]
    },
    {
     "name": "stderr",
     "output_type": "stream",
     "text": [
      "7it [00:03,  1.79it/s]\n",
      "7it [00:03,  1.76it/s]\n",
      "  0%|          | 0/7 [00:00<?, ?it/s]"
     ]
    },
    {
     "name": "stdout",
     "output_type": "stream",
     "text": [
      "images saved\n",
      "Evaluation for semantic segmentation - val set\n",
      "mIoU is 0.00\n"
     ]
    },
    {
     "name": "stderr",
     "output_type": "stream",
     "text": [
      "100%|██████████| 7/7 [00:03<00:00,  1.81it/s]\n",
      "100%|██████████| 7/7 [00:03<00:00,  1.80it/s]\n"
     ]
    },
    {
     "name": "stdout",
     "output_type": "stream",
     "text": [
      "KITTI 全景评价结果： {'pq': 0.0, 'sq': 0.0, 'rq': 0.0, 'iou_sum': 0.0, 'tp': 0, 'fp': 3750, 'fn': 0}\n",
      "\u001b[33mAverage loss: nan\u001b[0m\n",
      "\u001b[33mEpoch took 0:00:11.481277\u001b[0m\n",
      "\u001b[33mETA: 0:29:36.109936\u001b[0m\n",
      "\u001b[34m-------------------------\u001b[0m\n",
      "\u001b[34mStarting epoch 19\u001b[0m\n"
     ]
    },
    {
     "name": "stderr",
     "output_type": "stream",
     "text": [
      "0it [00:00, ?it/s]"
     ]
    },
    {
     "name": "stdout",
     "output_type": "stream",
     "text": [
      "Learning rate is set to: 5.758e-05\n",
      "\u001b[33mModel saved for run kitti_20250417_120829\u001b[0m\n",
      "\u001b[34mDistributed evaluation on the validation set\u001b[0m\n",
      "Thresholding output\n"
     ]
    },
    {
     "name": "stderr",
     "output_type": "stream",
     "text": [
      "7it [00:03,  1.78it/s]\n",
      "7it [00:04,  1.74it/s]\n",
      "  0%|          | 0/7 [00:00<?, ?it/s]"
     ]
    },
    {
     "name": "stdout",
     "output_type": "stream",
     "text": [
      "images saved\n",
      "Evaluation for semantic segmentation - val set\n",
      "mIoU is 0.00\n"
     ]
    },
    {
     "name": "stderr",
     "output_type": "stream",
     "text": [
      "100%|██████████| 7/7 [00:03<00:00,  1.79it/s]\n",
      "100%|██████████| 7/7 [00:03<00:00,  1.78it/s]\n"
     ]
    },
    {
     "name": "stdout",
     "output_type": "stream",
     "text": [
      "KITTI 全景评价结果： {'pq': 0.0, 'sq': 0.0, 'rq': 0.0, 'iou_sum': 0.0, 'tp': 0, 'fp': 3750, 'fn': 0}\n",
      "\u001b[33mAverage loss: nan\u001b[0m\n",
      "\u001b[33mEpoch took 0:00:11.620193\u001b[0m\n",
      "\u001b[33mETA: 0:29:21.312727\u001b[0m\n",
      "\u001b[34m-------------------------\u001b[0m\n",
      "\u001b[34mStarting epoch 20\u001b[0m\n"
     ]
    },
    {
     "name": "stderr",
     "output_type": "stream",
     "text": [
      "0it [00:00, ?it/s]"
     ]
    },
    {
     "name": "stdout",
     "output_type": "stream",
     "text": [
      "Learning rate is set to: 6.061e-05\n",
      "\u001b[33mModel saved for run kitti_20250417_120829\u001b[0m\n",
      "\u001b[34mDistributed evaluation on the validation set\u001b[0m\n",
      "Thresholding output\n"
     ]
    },
    {
     "name": "stderr",
     "output_type": "stream",
     "text": [
      "7it [00:03,  1.81it/s]\n",
      "7it [00:03,  1.78it/s]\n",
      "  0%|          | 0/7 [00:00<?, ?it/s]"
     ]
    },
    {
     "name": "stdout",
     "output_type": "stream",
     "text": [
      "images saved\n",
      "Evaluation for semantic segmentation - val set\n",
      "mIoU is 0.00\n"
     ]
    },
    {
     "name": "stderr",
     "output_type": "stream",
     "text": [
      "100%|██████████| 7/7 [00:03<00:00,  1.81it/s]\n",
      "100%|██████████| 7/7 [00:03<00:00,  1.77it/s]\n"
     ]
    },
    {
     "name": "stdout",
     "output_type": "stream",
     "text": [
      "KITTI 全景评价结果： {'pq': 0.0, 'sq': 0.0, 'rq': 0.0, 'iou_sum': 0.0, 'tp': 0, 'fp': 3750, 'fn': 0}\n",
      "\u001b[33mAverage loss: nan\u001b[0m\n",
      "\u001b[33mEpoch took 0:00:11.452057\u001b[0m\n",
      "\u001b[33mETA: 0:29:05.649121\u001b[0m\n",
      "\u001b[34m-------------------------\u001b[0m\n",
      "\u001b[34mStarting epoch 21\u001b[0m\n"
     ]
    },
    {
     "name": "stderr",
     "output_type": "stream",
     "text": [
      "0it [00:00, ?it/s]"
     ]
    },
    {
     "name": "stdout",
     "output_type": "stream",
     "text": [
      "Learning rate is set to: 6.364e-05\n",
      "\u001b[33mModel saved for run kitti_20250417_120829\u001b[0m\n",
      "\u001b[34mDistributed evaluation on the validation set\u001b[0m\n",
      "Thresholding output\n"
     ]
    },
    {
     "name": "stderr",
     "output_type": "stream",
     "text": [
      "7it [00:03,  1.76it/s]\n",
      "7it [00:04,  1.73it/s]\n",
      "  0%|          | 0/7 [00:00<?, ?it/s]"
     ]
    },
    {
     "name": "stdout",
     "output_type": "stream",
     "text": [
      "images saved\n",
      "Evaluation for semantic segmentation - val set\n",
      "mIoU is 0.00\n"
     ]
    },
    {
     "name": "stderr",
     "output_type": "stream",
     "text": [
      "100%|██████████| 7/7 [00:03<00:00,  1.80it/s]\n",
      "100%|██████████| 7/7 [00:03<00:00,  1.79it/s]\n"
     ]
    },
    {
     "name": "stdout",
     "output_type": "stream",
     "text": [
      "KITTI 全景评价结果： {'pq': 0.0, 'sq': 0.0, 'rq': 0.0, 'iou_sum': 0.0, 'tp': 0, 'fp': 3750, 'fn': 0}\n",
      "\u001b[33mAverage loss: nan\u001b[0m\n",
      "\u001b[33mEpoch took 0:00:11.490791\u001b[0m\n",
      "\u001b[33mETA: 0:28:50.623647\u001b[0m\n",
      "\u001b[34m-------------------------\u001b[0m\n",
      "\u001b[34mStarting epoch 22\u001b[0m\n"
     ]
    },
    {
     "name": "stderr",
     "output_type": "stream",
     "text": [
      "0it [00:00, ?it/s]"
     ]
    },
    {
     "name": "stdout",
     "output_type": "stream",
     "text": [
      "Learning rate is set to: 6.667e-05\n",
      "\u001b[33mModel saved for run kitti_20250417_120829\u001b[0m\n",
      "\u001b[34mDistributed evaluation on the validation set\u001b[0m\n",
      "Thresholding output\n"
     ]
    },
    {
     "name": "stderr",
     "output_type": "stream",
     "text": [
      "7it [00:03,  1.79it/s]\n",
      "7it [00:03,  1.80it/s]\n",
      "  0%|          | 0/7 [00:00<?, ?it/s]"
     ]
    },
    {
     "name": "stdout",
     "output_type": "stream",
     "text": [
      "images saved\n",
      "Evaluation for semantic segmentation - val set\n",
      "mIoU is 0.00\n"
     ]
    },
    {
     "name": "stderr",
     "output_type": "stream",
     "text": [
      "100%|██████████| 7/7 [00:03<00:00,  1.84it/s]\n",
      "100%|██████████| 7/7 [00:03<00:00,  1.81it/s]\n"
     ]
    },
    {
     "name": "stdout",
     "output_type": "stream",
     "text": [
      "KITTI 全景评价结果： {'pq': 0.0, 'sq': 0.0, 'rq': 0.0, 'iou_sum': 0.0, 'tp': 0, 'fp': 3750, 'fn': 0}\n",
      "\u001b[33mAverage loss: nan\u001b[0m\n",
      "\u001b[33mEpoch took 0:00:11.289422\u001b[0m\n",
      "\u001b[33mETA: 0:28:34.644876\u001b[0m\n",
      "\u001b[34m-------------------------\u001b[0m\n",
      "\u001b[34mStarting epoch 23\u001b[0m\n"
     ]
    },
    {
     "name": "stderr",
     "output_type": "stream",
     "text": [
      "0it [00:00, ?it/s]"
     ]
    },
    {
     "name": "stdout",
     "output_type": "stream",
     "text": [
      "Learning rate is set to: 6.970e-05\n",
      "\u001b[33mModel saved for run kitti_20250417_120829\u001b[0m\n",
      "\u001b[34mDistributed evaluation on the validation set\u001b[0m\n",
      "Thresholding output\n"
     ]
    },
    {
     "name": "stderr",
     "output_type": "stream",
     "text": [
      "7it [00:03,  1.81it/s]\n",
      "7it [00:03,  1.82it/s]\n",
      "  0%|          | 0/7 [00:00<?, ?it/s]"
     ]
    },
    {
     "name": "stdout",
     "output_type": "stream",
     "text": [
      "images saved\n",
      "Evaluation for semantic segmentation - val set\n",
      "mIoU is 0.00\n"
     ]
    },
    {
     "name": "stderr",
     "output_type": "stream",
     "text": [
      "100%|██████████| 7/7 [00:03<00:00,  1.82it/s]\n",
      "100%|██████████| 7/7 [00:03<00:00,  1.78it/s]\n"
     ]
    },
    {
     "name": "stdout",
     "output_type": "stream",
     "text": [
      "KITTI 全景评价结果： {'pq': 0.0, 'sq': 0.0, 'rq': 0.0, 'iou_sum': 0.0, 'tp': 0, 'fp': 3750, 'fn': 0}\n",
      "\u001b[33mAverage loss: nan\u001b[0m\n",
      "\u001b[33mEpoch took 0:00:11.250562\u001b[0m\n",
      "\u001b[33mETA: 0:28:18.825534\u001b[0m\n",
      "\u001b[34m-------------------------\u001b[0m\n",
      "\u001b[34mStarting epoch 24\u001b[0m\n"
     ]
    },
    {
     "name": "stderr",
     "output_type": "stream",
     "text": [
      "0it [00:00, ?it/s]"
     ]
    },
    {
     "name": "stdout",
     "output_type": "stream",
     "text": [
      "Learning rate is set to: 7.273e-05\n",
      "\u001b[33mModel saved for run kitti_20250417_120829\u001b[0m\n",
      "\u001b[34mDistributed evaluation on the validation set\u001b[0m\n",
      "Thresholding output\n"
     ]
    },
    {
     "name": "stderr",
     "output_type": "stream",
     "text": [
      "7it [00:03,  1.81it/s]\n",
      "7it [00:03,  1.76it/s]\n"
     ]
    },
    {
     "name": "stdout",
     "output_type": "stream",
     "text": [
      "images saved\n",
      "Evaluation for semantic segmentation - val set\n",
      "mIoU is 0.00\n"
     ]
    },
    {
     "name": "stderr",
     "output_type": "stream",
     "text": [
      "100%|██████████| 7/7 [00:03<00:00,  1.81it/s]\n",
      "100%|██████████| 7/7 [00:03<00:00,  1.78it/s]\n"
     ]
    },
    {
     "name": "stdout",
     "output_type": "stream",
     "text": [
      "KITTI 全景评价结果： {'pq': 0.0, 'sq': 0.0, 'rq': 0.0, 'iou_sum': 0.0, 'tp': 0, 'fp': 3750, 'fn': 0}\n",
      "\u001b[33mAverage loss: nan\u001b[0m\n",
      "\u001b[33mEpoch took 0:00:11.563158\u001b[0m\n",
      "\u001b[33mETA: 0:28:05.146987\u001b[0m\n",
      "\u001b[34m-------------------------\u001b[0m\n",
      "\u001b[34mStarting epoch 25\u001b[0m\n"
     ]
    },
    {
     "name": "stderr",
     "output_type": "stream",
     "text": [
      "0it [00:00, ?it/s]"
     ]
    },
    {
     "name": "stdout",
     "output_type": "stream",
     "text": [
      "Learning rate is set to: 7.576e-05\n",
      "\u001b[33mModel saved for run kitti_20250417_120829\u001b[0m\n",
      "\u001b[34mDistributed evaluation on the validation set\u001b[0m\n",
      "Thresholding output\n"
     ]
    },
    {
     "name": "stderr",
     "output_type": "stream",
     "text": [
      "7it [00:03,  1.80it/s]\n",
      "7it [00:03,  1.77it/s]\n",
      "  0%|          | 0/7 [00:00<?, ?it/s]"
     ]
    },
    {
     "name": "stdout",
     "output_type": "stream",
     "text": [
      "images saved\n",
      "Evaluation for semantic segmentation - val set\n",
      "mIoU is 0.00\n"
     ]
    },
    {
     "name": "stderr",
     "output_type": "stream",
     "text": [
      "100%|██████████| 7/7 [00:03<00:00,  1.78it/s]\n",
      "100%|██████████| 7/7 [00:03<00:00,  1.78it/s]\n"
     ]
    },
    {
     "name": "stdout",
     "output_type": "stream",
     "text": [
      "KITTI 全景评价结果： {'pq': 0.0, 'sq': 0.0, 'rq': 0.0, 'iou_sum': 0.0, 'tp': 0, 'fp': 3750, 'fn': 0}\n",
      "\u001b[33mAverage loss: nan\u001b[0m\n",
      "\u001b[33mEpoch took 0:00:11.300367\u001b[0m\n",
      "\u001b[33mETA: 0:27:50.205970\u001b[0m\n",
      "\u001b[34m-------------------------\u001b[0m\n",
      "\u001b[34mStarting epoch 26\u001b[0m\n"
     ]
    },
    {
     "name": "stderr",
     "output_type": "stream",
     "text": [
      "0it [00:00, ?it/s]"
     ]
    },
    {
     "name": "stdout",
     "output_type": "stream",
     "text": [
      "Learning rate is set to: 7.879e-05\n",
      "\u001b[33mModel saved for run kitti_20250417_120829\u001b[0m\n",
      "\u001b[34mDistributed evaluation on the validation set\u001b[0m\n",
      "Thresholding output\n"
     ]
    },
    {
     "name": "stderr",
     "output_type": "stream",
     "text": [
      "7it [00:03,  1.76it/s]\n",
      "7it [00:04,  1.74it/s]\n",
      "  0%|          | 0/7 [00:00<?, ?it/s]"
     ]
    },
    {
     "name": "stdout",
     "output_type": "stream",
     "text": [
      "images saved\n",
      "Evaluation for semantic segmentation - val set\n",
      "mIoU is 0.00\n"
     ]
    },
    {
     "name": "stderr",
     "output_type": "stream",
     "text": [
      "100%|██████████| 7/7 [00:03<00:00,  1.83it/s]\n",
      "100%|██████████| 7/7 [00:03<00:00,  1.78it/s]\n"
     ]
    },
    {
     "name": "stdout",
     "output_type": "stream",
     "text": [
      "KITTI 全景评价结果： {'pq': 0.0, 'sq': 0.0, 'rq': 0.0, 'iou_sum': 0.0, 'tp': 0, 'fp': 3750, 'fn': 0}\n",
      "\u001b[33mAverage loss: nan\u001b[0m\n",
      "\u001b[33mEpoch took 0:00:11.483379\u001b[0m\n",
      "\u001b[33mETA: 0:27:36.483646\u001b[0m\n",
      "\u001b[34m-------------------------\u001b[0m\n",
      "\u001b[34mStarting epoch 27\u001b[0m\n"
     ]
    },
    {
     "name": "stderr",
     "output_type": "stream",
     "text": [
      "0it [00:00, ?it/s]"
     ]
    },
    {
     "name": "stdout",
     "output_type": "stream",
     "text": [
      "Learning rate is set to: 8.182e-05\n",
      "\u001b[33mModel saved for run kitti_20250417_120829\u001b[0m\n",
      "\u001b[34mDistributed evaluation on the validation set\u001b[0m\n",
      "Thresholding output\n"
     ]
    },
    {
     "name": "stderr",
     "output_type": "stream",
     "text": [
      "7it [00:03,  1.82it/s]\n",
      "7it [00:03,  1.80it/s]\n",
      "  0%|          | 0/7 [00:00<?, ?it/s]"
     ]
    },
    {
     "name": "stdout",
     "output_type": "stream",
     "text": [
      "images saved\n",
      "Evaluation for semantic segmentation - val set\n",
      "mIoU is 0.00\n"
     ]
    },
    {
     "name": "stderr",
     "output_type": "stream",
     "text": [
      "100%|██████████| 7/7 [00:03<00:00,  1.81it/s]\n",
      "100%|██████████| 7/7 [00:03<00:00,  1.77it/s]\n"
     ]
    },
    {
     "name": "stdout",
     "output_type": "stream",
     "text": [
      "KITTI 全景评价结果： {'pq': 0.0, 'sq': 0.0, 'rq': 0.0, 'iou_sum': 0.0, 'tp': 0, 'fp': 3750, 'fn': 0}\n",
      "\u001b[33mAverage loss: nan\u001b[0m\n",
      "\u001b[33mEpoch took 0:00:11.383813\u001b[0m\n",
      "\u001b[33mETA: 0:27:22.427012\u001b[0m\n",
      "\u001b[34m-------------------------\u001b[0m\n",
      "\u001b[34mStarting epoch 28\u001b[0m\n"
     ]
    },
    {
     "name": "stderr",
     "output_type": "stream",
     "text": [
      "0it [00:00, ?it/s]"
     ]
    },
    {
     "name": "stdout",
     "output_type": "stream",
     "text": [
      "Learning rate is set to: 8.485e-05\n",
      "\u001b[33mModel saved for run kitti_20250417_120829\u001b[0m\n",
      "\u001b[34mDistributed evaluation on the validation set\u001b[0m\n",
      "Thresholding output\n"
     ]
    },
    {
     "name": "stderr",
     "output_type": "stream",
     "text": [
      "7it [00:03,  1.78it/s]\n",
      "7it [00:03,  1.76it/s]\n",
      "  0%|          | 0/7 [00:00<?, ?it/s]"
     ]
    },
    {
     "name": "stdout",
     "output_type": "stream",
     "text": [
      "images saved\n",
      "Evaluation for semantic segmentation - val set\n",
      "mIoU is 0.00\n"
     ]
    },
    {
     "name": "stderr",
     "output_type": "stream",
     "text": [
      "100%|██████████| 7/7 [00:03<00:00,  1.77it/s]\n",
      "100%|██████████| 7/7 [00:03<00:00,  1.76it/s]\n"
     ]
    },
    {
     "name": "stdout",
     "output_type": "stream",
     "text": [
      "KITTI 全景评价结果： {'pq': 0.0, 'sq': 0.0, 'rq': 0.0, 'iou_sum': 0.0, 'tp': 0, 'fp': 3750, 'fn': 0}\n",
      "\u001b[33mAverage loss: nan\u001b[0m\n",
      "\u001b[33mEpoch took 0:00:11.545649\u001b[0m\n",
      "\u001b[33mETA: 0:27:09.324767\u001b[0m\n",
      "\u001b[34m-------------------------\u001b[0m\n",
      "\u001b[34mStarting epoch 29\u001b[0m\n"
     ]
    },
    {
     "name": "stderr",
     "output_type": "stream",
     "text": [
      "0it [00:00, ?it/s]"
     ]
    },
    {
     "name": "stdout",
     "output_type": "stream",
     "text": [
      "Learning rate is set to: 8.788e-05\n",
      "\u001b[33mModel saved for run kitti_20250417_120829\u001b[0m\n",
      "\u001b[34mDistributed evaluation on the validation set\u001b[0m\n",
      "Thresholding output\n"
     ]
    },
    {
     "name": "stderr",
     "output_type": "stream",
     "text": [
      "7it [00:03,  1.83it/s]\n",
      "7it [00:03,  1.82it/s]\n",
      "  0%|          | 0/7 [00:00<?, ?it/s]"
     ]
    },
    {
     "name": "stdout",
     "output_type": "stream",
     "text": [
      "images saved\n",
      "Evaluation for semantic segmentation - val set\n",
      "mIoU is 0.00\n"
     ]
    },
    {
     "name": "stderr",
     "output_type": "stream",
     "text": [
      "100%|██████████| 7/7 [00:03<00:00,  1.82it/s]\n",
      "100%|██████████| 7/7 [00:03<00:00,  1.76it/s]\n"
     ]
    },
    {
     "name": "stdout",
     "output_type": "stream",
     "text": [
      "KITTI 全景评价结果： {'pq': 0.0, 'sq': 0.0, 'rq': 0.0, 'iou_sum': 0.0, 'tp': 0, 'fp': 3750, 'fn': 0}\n",
      "\u001b[33mAverage loss: nan\u001b[0m\n",
      "\u001b[33mEpoch took 0:00:11.408475\u001b[0m\n",
      "\u001b[33mETA: 0:26:55.699810\u001b[0m\n",
      "\u001b[34m-------------------------\u001b[0m\n",
      "\u001b[34mStarting epoch 30\u001b[0m\n"
     ]
    },
    {
     "name": "stderr",
     "output_type": "stream",
     "text": [
      "0it [00:00, ?it/s]"
     ]
    },
    {
     "name": "stdout",
     "output_type": "stream",
     "text": [
      "Learning rate is set to: 9.091e-05\n",
      "\u001b[33mModel saved for run kitti_20250417_120829\u001b[0m\n",
      "\u001b[34mDistributed evaluation on the validation set\u001b[0m\n",
      "Thresholding output\n"
     ]
    },
    {
     "name": "stderr",
     "output_type": "stream",
     "text": [
      "7it [00:03,  1.82it/s]\n",
      "7it [00:03,  1.80it/s]\n",
      "  0%|          | 0/7 [00:00<?, ?it/s]"
     ]
    },
    {
     "name": "stdout",
     "output_type": "stream",
     "text": [
      "images saved\n",
      "Evaluation for semantic segmentation - val set\n",
      "mIoU is 0.00\n"
     ]
    },
    {
     "name": "stderr",
     "output_type": "stream",
     "text": [
      "100%|██████████| 7/7 [00:04<00:00,  1.75it/s]\n",
      "100%|██████████| 7/7 [00:04<00:00,  1.74it/s]\n"
     ]
    },
    {
     "name": "stdout",
     "output_type": "stream",
     "text": [
      "KITTI 全景评价结果： {'pq': 0.0, 'sq': 0.0, 'rq': 0.0, 'iou_sum': 0.0, 'tp': 0, 'fp': 3750, 'fn': 0}\n",
      "\u001b[33mAverage loss: nan\u001b[0m\n",
      "\u001b[33mEpoch took 0:00:11.353318\u001b[0m\n",
      "\u001b[33mETA: 0:26:41.975867\u001b[0m\n",
      "\u001b[34m-------------------------\u001b[0m\n",
      "\u001b[34mStarting epoch 31\u001b[0m\n"
     ]
    },
    {
     "name": "stderr",
     "output_type": "stream",
     "text": [
      "0it [00:00, ?it/s]"
     ]
    },
    {
     "name": "stdout",
     "output_type": "stream",
     "text": [
      "Learning rate is set to: 9.394e-05\n",
      "\u001b[33mModel saved for run kitti_20250417_120829\u001b[0m\n",
      "\u001b[34mDistributed evaluation on the validation set\u001b[0m\n",
      "Thresholding output\n"
     ]
    },
    {
     "name": "stderr",
     "output_type": "stream",
     "text": [
      "7it [00:03,  1.78it/s]\n",
      "7it [00:04,  1.74it/s]\n",
      "  0%|          | 0/7 [00:00<?, ?it/s]"
     ]
    },
    {
     "name": "stdout",
     "output_type": "stream",
     "text": [
      "images saved\n",
      "Evaluation for semantic segmentation - val set\n",
      "mIoU is 0.00\n"
     ]
    },
    {
     "name": "stderr",
     "output_type": "stream",
     "text": [
      "100%|██████████| 7/7 [00:03<00:00,  1.80it/s]\n",
      "100%|██████████| 7/7 [00:03<00:00,  1.79it/s]\n"
     ]
    },
    {
     "name": "stdout",
     "output_type": "stream",
     "text": [
      "KITTI 全景评价结果： {'pq': 0.0, 'sq': 0.0, 'rq': 0.0, 'iou_sum': 0.0, 'tp': 0, 'fp': 3750, 'fn': 0}\n",
      "\u001b[33mAverage loss: nan\u001b[0m\n",
      "\u001b[33mEpoch took 0:00:11.690419\u001b[0m\n",
      "\u001b[33mETA: 0:26:29.822271\u001b[0m\n",
      "\u001b[34m-------------------------\u001b[0m\n",
      "\u001b[34mStarting epoch 32\u001b[0m\n"
     ]
    },
    {
     "name": "stderr",
     "output_type": "stream",
     "text": [
      "0it [00:00, ?it/s]"
     ]
    },
    {
     "name": "stdout",
     "output_type": "stream",
     "text": [
      "Learning rate is set to: 9.697e-05\n",
      "\u001b[33mModel saved for run kitti_20250417_120829\u001b[0m\n",
      "\u001b[34mDistributed evaluation on the validation set\u001b[0m\n",
      "Thresholding output\n"
     ]
    },
    {
     "name": "stderr",
     "output_type": "stream",
     "text": [
      "7it [00:03,  1.77it/s]\n",
      "7it [00:03,  1.77it/s]\n",
      "  0%|          | 0/7 [00:00<?, ?it/s]"
     ]
    },
    {
     "name": "stdout",
     "output_type": "stream",
     "text": [
      "images saved\n",
      "Evaluation for semantic segmentation - val set\n",
      "mIoU is 0.00\n"
     ]
    },
    {
     "name": "stderr",
     "output_type": "stream",
     "text": [
      "100%|██████████| 7/7 [00:03<00:00,  1.77it/s]\n",
      "100%|██████████| 7/7 [00:03<00:00,  1.77it/s]\n"
     ]
    },
    {
     "name": "stdout",
     "output_type": "stream",
     "text": [
      "KITTI 全景评价结果： {'pq': 0.0, 'sq': 0.0, 'rq': 0.0, 'iou_sum': 0.0, 'tp': 0, 'fp': 3750, 'fn': 0}\n",
      "\u001b[33mAverage loss: nan\u001b[0m\n",
      "\u001b[33mEpoch took 0:00:11.579956\u001b[0m\n",
      "\u001b[33mETA: 0:26:17.248175\u001b[0m\n",
      "\u001b[34m-------------------------\u001b[0m\n",
      "\u001b[34mStarting epoch 33\u001b[0m\n"
     ]
    },
    {
     "name": "stderr",
     "output_type": "stream",
     "text": [
      "0it [00:00, ?it/s]"
     ]
    },
    {
     "name": "stdout",
     "output_type": "stream",
     "text": [
      "Learning rate is set to: 1.000e-04\n",
      "\u001b[33mModel saved for run kitti_20250417_120829\u001b[0m\n",
      "\u001b[34mDistributed evaluation on the validation set\u001b[0m\n",
      "Thresholding output\n"
     ]
    },
    {
     "name": "stderr",
     "output_type": "stream",
     "text": [
      "7it [00:03,  1.77it/s]\n",
      "7it [00:03,  1.76it/s]\n",
      "  0%|          | 0/7 [00:00<?, ?it/s]"
     ]
    },
    {
     "name": "stdout",
     "output_type": "stream",
     "text": [
      "images saved\n",
      "Evaluation for semantic segmentation - val set\n",
      "mIoU is 0.00\n"
     ]
    },
    {
     "name": "stderr",
     "output_type": "stream",
     "text": [
      "100%|██████████| 7/7 [00:03<00:00,  1.76it/s]\n",
      "100%|██████████| 7/7 [00:04<00:00,  1.75it/s]\n"
     ]
    },
    {
     "name": "stdout",
     "output_type": "stream",
     "text": [
      "KITTI 全景评价结果： {'pq': 0.0, 'sq': 0.0, 'rq': 0.0, 'iou_sum': 0.0, 'tp': 0, 'fp': 3750, 'fn': 0}\n",
      "\u001b[33mAverage loss: nan\u001b[0m\n",
      "\u001b[33mEpoch took 0:00:11.779625\u001b[0m\n",
      "\u001b[33mETA: 0:26:05.513643\u001b[0m\n",
      "\u001b[34m-------------------------\u001b[0m\n",
      "\u001b[34mStarting epoch 34\u001b[0m\n"
     ]
    },
    {
     "name": "stderr",
     "output_type": "stream",
     "text": [
      "0it [00:00, ?it/s]"
     ]
    },
    {
     "name": "stdout",
     "output_type": "stream",
     "text": [
      "Learning rate is set to: 1.000e-04\n",
      "\u001b[33mModel saved for run kitti_20250417_120829\u001b[0m\n",
      "\u001b[34mDistributed evaluation on the validation set\u001b[0m\n",
      "Thresholding output\n"
     ]
    },
    {
     "name": "stderr",
     "output_type": "stream",
     "text": [
      "7it [00:03,  1.80it/s]\n",
      "7it [00:03,  1.79it/s]\n",
      "  0%|          | 0/7 [00:00<?, ?it/s]"
     ]
    },
    {
     "name": "stdout",
     "output_type": "stream",
     "text": [
      "images saved\n",
      "Evaluation for semantic segmentation - val set\n",
      "mIoU is 0.00\n"
     ]
    },
    {
     "name": "stderr",
     "output_type": "stream",
     "text": [
      "100%|██████████| 7/7 [00:03<00:00,  1.79it/s]\n",
      "100%|██████████| 7/7 [00:03<00:00,  1.79it/s]\n"
     ]
    },
    {
     "name": "stdout",
     "output_type": "stream",
     "text": [
      "KITTI 全景评价结果： {'pq': 0.0, 'sq': 0.0, 'rq': 0.0, 'iou_sum': 0.0, 'tp': 0, 'fp': 3750, 'fn': 0}\n",
      "\u001b[33mAverage loss: nan\u001b[0m\n",
      "\u001b[33mEpoch took 0:00:11.364752\u001b[0m\n",
      "\u001b[33mETA: 0:25:52.211836\u001b[0m\n",
      "\u001b[34m-------------------------\u001b[0m\n",
      "\u001b[34mStarting epoch 35\u001b[0m\n"
     ]
    },
    {
     "name": "stderr",
     "output_type": "stream",
     "text": [
      "0it [00:00, ?it/s]"
     ]
    },
    {
     "name": "stdout",
     "output_type": "stream",
     "text": [
      "Learning rate is set to: 1.000e-04\n",
      "\u001b[33mModel saved for run kitti_20250417_120829\u001b[0m\n",
      "\u001b[34mDistributed evaluation on the validation set\u001b[0m\n",
      "Thresholding output\n"
     ]
    },
    {
     "name": "stderr",
     "output_type": "stream",
     "text": [
      "7it [00:03,  1.75it/s]\n",
      "7it [00:03,  1.77it/s]\n",
      "  0%|          | 0/7 [00:00<?, ?it/s]"
     ]
    },
    {
     "name": "stdout",
     "output_type": "stream",
     "text": [
      "images saved\n",
      "Evaluation for semantic segmentation - val set\n",
      "mIoU is 0.00\n"
     ]
    },
    {
     "name": "stderr",
     "output_type": "stream",
     "text": [
      "100%|██████████| 7/7 [00:03<00:00,  1.80it/s]\n",
      "100%|██████████| 7/7 [00:03<00:00,  1.79it/s]\n"
     ]
    },
    {
     "name": "stdout",
     "output_type": "stream",
     "text": [
      "KITTI 全景评价结果： {'pq': 0.0, 'sq': 0.0, 'rq': 0.0, 'iou_sum': 0.0, 'tp': 0, 'fp': 3750, 'fn': 0}\n",
      "\u001b[33mAverage loss: nan\u001b[0m\n",
      "\u001b[33mEpoch took 0:00:11.443231\u001b[0m\n",
      "\u001b[33mETA: 0:25:39.303207\u001b[0m\n",
      "\u001b[34m-------------------------\u001b[0m\n",
      "\u001b[34mStarting epoch 36\u001b[0m\n"
     ]
    },
    {
     "name": "stderr",
     "output_type": "stream",
     "text": [
      "0it [00:00, ?it/s]"
     ]
    },
    {
     "name": "stdout",
     "output_type": "stream",
     "text": [
      "Learning rate is set to: 1.000e-04\n",
      "\u001b[33mModel saved for run kitti_20250417_120829\u001b[0m\n",
      "\u001b[34mDistributed evaluation on the validation set\u001b[0m\n",
      "Thresholding output\n"
     ]
    },
    {
     "name": "stderr",
     "output_type": "stream",
     "text": [
      "7it [00:03,  1.76it/s]\n",
      "7it [00:04,  1.74it/s]\n",
      "  0%|          | 0/7 [00:00<?, ?it/s]"
     ]
    },
    {
     "name": "stdout",
     "output_type": "stream",
     "text": [
      "images saved\n",
      "Evaluation for semantic segmentation - val set\n",
      "mIoU is 0.00\n"
     ]
    },
    {
     "name": "stderr",
     "output_type": "stream",
     "text": [
      "100%|██████████| 7/7 [00:03<00:00,  1.82it/s]\n",
      "100%|██████████| 7/7 [00:03<00:00,  1.78it/s]\n"
     ]
    },
    {
     "name": "stdout",
     "output_type": "stream",
     "text": [
      "KITTI 全景评价结果： {'pq': 0.0, 'sq': 0.0, 'rq': 0.0, 'iou_sum': 0.0, 'tp': 0, 'fp': 3750, 'fn': 0}\n",
      "\u001b[33mAverage loss: nan\u001b[0m\n",
      "\u001b[33mEpoch took 0:00:11.782416\u001b[0m\n",
      "\u001b[33mETA: 0:25:27.665559\u001b[0m\n",
      "\u001b[34m-------------------------\u001b[0m\n",
      "\u001b[34mStarting epoch 37\u001b[0m\n"
     ]
    },
    {
     "name": "stderr",
     "output_type": "stream",
     "text": [
      "0it [00:00, ?it/s]"
     ]
    },
    {
     "name": "stdout",
     "output_type": "stream",
     "text": [
      "Learning rate is set to: 1.000e-04\n",
      "\u001b[33mModel saved for run kitti_20250417_120829\u001b[0m\n",
      "\u001b[34mDistributed evaluation on the validation set\u001b[0m\n",
      "Thresholding output\n"
     ]
    },
    {
     "name": "stderr",
     "output_type": "stream",
     "text": [
      "7it [00:03,  1.79it/s]\n",
      "7it [00:03,  1.77it/s]\n",
      "  0%|          | 0/7 [00:00<?, ?it/s]"
     ]
    },
    {
     "name": "stdout",
     "output_type": "stream",
     "text": [
      "images saved\n",
      "Evaluation for semantic segmentation - val set\n",
      "mIoU is 0.00\n"
     ]
    },
    {
     "name": "stderr",
     "output_type": "stream",
     "text": [
      "100%|██████████| 7/7 [00:03<00:00,  1.82it/s]\n",
      "100%|██████████| 7/7 [00:03<00:00,  1.82it/s]\n"
     ]
    },
    {
     "name": "stdout",
     "output_type": "stream",
     "text": [
      "KITTI 全景评价结果： {'pq': 0.0, 'sq': 0.0, 'rq': 0.0, 'iou_sum': 0.0, 'tp': 0, 'fp': 3750, 'fn': 0}\n",
      "\u001b[33mAverage loss: nan\u001b[0m\n",
      "\u001b[33mEpoch took 0:00:11.332622\u001b[0m\n",
      "\u001b[33mETA: 0:25:14.493348\u001b[0m\n",
      "\u001b[34m-------------------------\u001b[0m\n",
      "\u001b[34mStarting epoch 38\u001b[0m\n"
     ]
    },
    {
     "name": "stderr",
     "output_type": "stream",
     "text": [
      "0it [00:00, ?it/s]"
     ]
    },
    {
     "name": "stdout",
     "output_type": "stream",
     "text": [
      "Learning rate is set to: 1.000e-04\n",
      "\u001b[33mModel saved for run kitti_20250417_120829\u001b[0m\n",
      "\u001b[34mDistributed evaluation on the validation set\u001b[0m\n",
      "Thresholding output\n"
     ]
    },
    {
     "name": "stderr",
     "output_type": "stream",
     "text": [
      "7it [00:03,  1.79it/s]\n",
      "7it [00:03,  1.76it/s]\n",
      "  0%|          | 0/7 [00:00<?, ?it/s]"
     ]
    },
    {
     "name": "stdout",
     "output_type": "stream",
     "text": [
      "images saved\n",
      "Evaluation for semantic segmentation - val set\n",
      "mIoU is 0.00\n"
     ]
    },
    {
     "name": "stderr",
     "output_type": "stream",
     "text": [
      "100%|██████████| 7/7 [00:03<00:00,  1.78it/s]\n",
      "100%|██████████| 7/7 [00:03<00:00,  1.77it/s]\n"
     ]
    },
    {
     "name": "stdout",
     "output_type": "stream",
     "text": [
      "KITTI 全景评价结果： {'pq': 0.0, 'sq': 0.0, 'rq': 0.0, 'iou_sum': 0.0, 'tp': 0, 'fp': 3750, 'fn': 0}\n",
      "\u001b[33mAverage loss: nan\u001b[0m\n",
      "\u001b[33mEpoch took 0:00:11.580388\u001b[0m\n",
      "\u001b[33mETA: 0:25:02.228613\u001b[0m\n",
      "\u001b[34m-------------------------\u001b[0m\n",
      "\u001b[34mStarting epoch 39\u001b[0m\n"
     ]
    },
    {
     "name": "stderr",
     "output_type": "stream",
     "text": [
      "0it [00:00, ?it/s]"
     ]
    },
    {
     "name": "stdout",
     "output_type": "stream",
     "text": [
      "Learning rate is set to: 1.000e-04\n",
      "\u001b[33mModel saved for run kitti_20250417_120829\u001b[0m\n",
      "\u001b[34mDistributed evaluation on the validation set\u001b[0m\n",
      "Thresholding output\n"
     ]
    },
    {
     "name": "stderr",
     "output_type": "stream",
     "text": [
      "7it [00:03,  1.79it/s]\n",
      "7it [00:03,  1.79it/s]\n",
      "  0%|          | 0/7 [00:00<?, ?it/s]"
     ]
    },
    {
     "name": "stdout",
     "output_type": "stream",
     "text": [
      "images saved\n",
      "Evaluation for semantic segmentation - val set\n",
      "mIoU is 0.00\n"
     ]
    },
    {
     "name": "stderr",
     "output_type": "stream",
     "text": [
      "100%|██████████| 7/7 [00:03<00:00,  1.77it/s]\n",
      "100%|██████████| 7/7 [00:03<00:00,  1.77it/s]\n"
     ]
    },
    {
     "name": "stdout",
     "output_type": "stream",
     "text": [
      "KITTI 全景评价结果： {'pq': 0.0, 'sq': 0.0, 'rq': 0.0, 'iou_sum': 0.0, 'tp': 0, 'fp': 3750, 'fn': 0}\n",
      "\u001b[33mAverage loss: nan\u001b[0m\n",
      "\u001b[33mEpoch took 0:00:11.343883\u001b[0m\n",
      "\u001b[33mETA: 0:24:49.247184\u001b[0m\n",
      "\u001b[34m-------------------------\u001b[0m\n",
      "\u001b[34mStarting epoch 40\u001b[0m\n"
     ]
    },
    {
     "name": "stderr",
     "output_type": "stream",
     "text": [
      "0it [00:00, ?it/s]"
     ]
    },
    {
     "name": "stdout",
     "output_type": "stream",
     "text": [
      "Learning rate is set to: 1.000e-04\n",
      "\u001b[33mModel saved for run kitti_20250417_120829\u001b[0m\n",
      "\u001b[34mDistributed evaluation on the validation set\u001b[0m\n",
      "Thresholding output\n"
     ]
    },
    {
     "name": "stderr",
     "output_type": "stream",
     "text": [
      "7it [00:03,  1.78it/s]\n",
      "7it [00:04,  1.75it/s]\n",
      "  0%|          | 0/7 [00:00<?, ?it/s]"
     ]
    },
    {
     "name": "stdout",
     "output_type": "stream",
     "text": [
      "images saved\n",
      "Evaluation for semantic segmentation - val set\n",
      "mIoU is 0.00\n"
     ]
    },
    {
     "name": "stderr",
     "output_type": "stream",
     "text": [
      "100%|██████████| 7/7 [00:03<00:00,  1.76it/s]\n",
      "100%|██████████| 7/7 [00:04<00:00,  1.73it/s]\n"
     ]
    },
    {
     "name": "stdout",
     "output_type": "stream",
     "text": [
      "KITTI 全景评价结果： {'pq': 0.0, 'sq': 0.0, 'rq': 0.0, 'iou_sum': 0.0, 'tp': 0, 'fp': 3750, 'fn': 0}\n",
      "\u001b[33mAverage loss: nan\u001b[0m\n",
      "\u001b[33mEpoch took 0:00:11.617734\u001b[0m\n",
      "\u001b[33mETA: 0:24:37.187251\u001b[0m\n",
      "\u001b[34m-------------------------\u001b[0m\n",
      "\u001b[34mStarting epoch 41\u001b[0m\n"
     ]
    },
    {
     "name": "stderr",
     "output_type": "stream",
     "text": [
      "0it [00:00, ?it/s]"
     ]
    },
    {
     "name": "stdout",
     "output_type": "stream",
     "text": [
      "Learning rate is set to: 1.000e-04\n",
      "\u001b[33mModel saved for run kitti_20250417_120829\u001b[0m\n",
      "\u001b[34mDistributed evaluation on the validation set\u001b[0m\n",
      "Thresholding output\n"
     ]
    },
    {
     "name": "stderr",
     "output_type": "stream",
     "text": [
      "7it [00:03,  1.80it/s]\n",
      "7it [00:03,  1.76it/s]\n",
      "  0%|          | 0/7 [00:00<?, ?it/s]"
     ]
    },
    {
     "name": "stdout",
     "output_type": "stream",
     "text": [
      "images saved\n",
      "Evaluation for semantic segmentation - val set\n",
      "mIoU is 0.00\n"
     ]
    },
    {
     "name": "stderr",
     "output_type": "stream",
     "text": [
      "100%|██████████| 7/7 [00:03<00:00,  1.80it/s]\n",
      "100%|██████████| 7/7 [00:03<00:00,  1.78it/s]\n"
     ]
    },
    {
     "name": "stdout",
     "output_type": "stream",
     "text": [
      "KITTI 全景评价结果： {'pq': 0.0, 'sq': 0.0, 'rq': 0.0, 'iou_sum': 0.0, 'tp': 0, 'fp': 3750, 'fn': 0}\n",
      "\u001b[33mAverage loss: nan\u001b[0m\n",
      "\u001b[33mEpoch took 0:00:11.439934\u001b[0m\n",
      "\u001b[33mETA: 0:24:24.619197\u001b[0m\n",
      "\u001b[34m-------------------------\u001b[0m\n",
      "\u001b[34mStarting epoch 42\u001b[0m\n"
     ]
    },
    {
     "name": "stderr",
     "output_type": "stream",
     "text": [
      "0it [00:00, ?it/s]"
     ]
    },
    {
     "name": "stdout",
     "output_type": "stream",
     "text": [
      "Learning rate is set to: 1.000e-04\n",
      "\u001b[33mModel saved for run kitti_20250417_120829\u001b[0m\n",
      "\u001b[34mDistributed evaluation on the validation set\u001b[0m\n",
      "Thresholding output\n"
     ]
    },
    {
     "name": "stderr",
     "output_type": "stream",
     "text": [
      "7it [00:03,  1.78it/s]\n",
      "7it [00:03,  1.76it/s]\n",
      "  0%|          | 0/7 [00:00<?, ?it/s]"
     ]
    },
    {
     "name": "stdout",
     "output_type": "stream",
     "text": [
      "images saved\n",
      "Evaluation for semantic segmentation - val set\n",
      "mIoU is 0.00\n"
     ]
    },
    {
     "name": "stderr",
     "output_type": "stream",
     "text": [
      "100%|██████████| 7/7 [00:03<00:00,  1.79it/s]\n",
      "100%|██████████| 7/7 [00:03<00:00,  1.79it/s]\n"
     ]
    },
    {
     "name": "stdout",
     "output_type": "stream",
     "text": [
      "KITTI 全景评价结果： {'pq': 0.0, 'sq': 0.0, 'rq': 0.0, 'iou_sum': 0.0, 'tp': 0, 'fp': 3750, 'fn': 0}\n",
      "\u001b[33mAverage loss: nan\u001b[0m\n",
      "\u001b[33mEpoch took 0:00:11.468681\u001b[0m\n",
      "\u001b[33mETA: 0:24:12.186497\u001b[0m\n",
      "\u001b[34m-------------------------\u001b[0m\n",
      "\u001b[34mStarting epoch 43\u001b[0m\n"
     ]
    },
    {
     "name": "stderr",
     "output_type": "stream",
     "text": [
      "0it [00:00, ?it/s]"
     ]
    },
    {
     "name": "stdout",
     "output_type": "stream",
     "text": [
      "Learning rate is set to: 1.000e-04\n",
      "\u001b[33mModel saved for run kitti_20250417_120829\u001b[0m\n",
      "\u001b[34mDistributed evaluation on the validation set\u001b[0m\n",
      "Thresholding output\n"
     ]
    },
    {
     "name": "stderr",
     "output_type": "stream",
     "text": [
      "7it [00:03,  1.76it/s]\n",
      "7it [00:03,  1.77it/s]\n",
      "  0%|          | 0/7 [00:00<?, ?it/s]"
     ]
    },
    {
     "name": "stdout",
     "output_type": "stream",
     "text": [
      "images saved\n",
      "Evaluation for semantic segmentation - val set\n",
      "mIoU is 0.00\n"
     ]
    },
    {
     "name": "stderr",
     "output_type": "stream",
     "text": [
      "100%|██████████| 7/7 [00:03<00:00,  1.79it/s]\n",
      "100%|██████████| 7/7 [00:03<00:00,  1.78it/s]\n"
     ]
    },
    {
     "name": "stdout",
     "output_type": "stream",
     "text": [
      "KITTI 全景评价结果： {'pq': 0.0, 'sq': 0.0, 'rq': 0.0, 'iou_sum': 0.0, 'tp': 0, 'fp': 3750, 'fn': 0}\n",
      "\u001b[33mAverage loss: nan\u001b[0m\n",
      "\u001b[33mEpoch took 0:00:11.459526\u001b[0m\n",
      "\u001b[33mETA: 0:23:59.772033\u001b[0m\n",
      "\u001b[34m-------------------------\u001b[0m\n",
      "\u001b[34mStarting epoch 44\u001b[0m\n"
     ]
    },
    {
     "name": "stderr",
     "output_type": "stream",
     "text": [
      "0it [00:00, ?it/s]"
     ]
    },
    {
     "name": "stdout",
     "output_type": "stream",
     "text": [
      "Learning rate is set to: 1.000e-04\n",
      "\u001b[33mModel saved for run kitti_20250417_120829\u001b[0m\n",
      "\u001b[34mDistributed evaluation on the validation set\u001b[0m\n",
      "Thresholding output\n"
     ]
    },
    {
     "name": "stderr",
     "output_type": "stream",
     "text": [
      "7it [00:03,  1.77it/s]\n",
      "7it [00:03,  1.78it/s]\n",
      "  0%|          | 0/7 [00:00<?, ?it/s]"
     ]
    },
    {
     "name": "stdout",
     "output_type": "stream",
     "text": [
      "images saved\n",
      "Evaluation for semantic segmentation - val set\n",
      "mIoU is 0.00\n"
     ]
    },
    {
     "name": "stderr",
     "output_type": "stream",
     "text": [
      "100%|██████████| 7/7 [00:03<00:00,  1.78it/s]\n",
      "100%|██████████| 7/7 [00:03<00:00,  1.76it/s]\n"
     ]
    },
    {
     "name": "stdout",
     "output_type": "stream",
     "text": [
      "KITTI 全景评价结果： {'pq': 0.0, 'sq': 0.0, 'rq': 0.0, 'iou_sum': 0.0, 'tp': 0, 'fp': 3750, 'fn': 0}\n",
      "\u001b[33mAverage loss: nan\u001b[0m\n",
      "\u001b[33mEpoch took 0:00:11.562303\u001b[0m\n",
      "\u001b[33mETA: 0:23:47.678667\u001b[0m\n",
      "\u001b[34m-------------------------\u001b[0m\n",
      "\u001b[34mStarting epoch 45\u001b[0m\n"
     ]
    },
    {
     "name": "stderr",
     "output_type": "stream",
     "text": [
      "0it [00:00, ?it/s]"
     ]
    },
    {
     "name": "stdout",
     "output_type": "stream",
     "text": [
      "Learning rate is set to: 1.000e-04\n",
      "\u001b[33mModel saved for run kitti_20250417_120829\u001b[0m\n",
      "\u001b[34mDistributed evaluation on the validation set\u001b[0m\n",
      "Thresholding output\n"
     ]
    },
    {
     "name": "stderr",
     "output_type": "stream",
     "text": [
      "7it [00:03,  1.77it/s]\n",
      "7it [00:03,  1.76it/s]\n",
      "  0%|          | 0/7 [00:00<?, ?it/s]"
     ]
    },
    {
     "name": "stdout",
     "output_type": "stream",
     "text": [
      "images saved\n",
      "Evaluation for semantic segmentation - val set\n",
      "mIoU is 0.00\n"
     ]
    },
    {
     "name": "stderr",
     "output_type": "stream",
     "text": [
      "100%|██████████| 7/7 [00:03<00:00,  1.77it/s]\n",
      "100%|██████████| 7/7 [00:03<00:00,  1.77it/s]\n"
     ]
    },
    {
     "name": "stdout",
     "output_type": "stream",
     "text": [
      "KITTI 全景评价结果： {'pq': 0.0, 'sq': 0.0, 'rq': 0.0, 'iou_sum': 0.0, 'tp': 0, 'fp': 3750, 'fn': 0}\n",
      "\u001b[33mAverage loss: nan\u001b[0m\n",
      "\u001b[33mEpoch took 0:00:11.532086\u001b[0m\n",
      "\u001b[33mETA: 0:23:35.528874\u001b[0m\n",
      "\u001b[34m-------------------------\u001b[0m\n",
      "\u001b[34mStarting epoch 46\u001b[0m\n"
     ]
    },
    {
     "name": "stderr",
     "output_type": "stream",
     "text": [
      "0it [00:00, ?it/s]"
     ]
    },
    {
     "name": "stdout",
     "output_type": "stream",
     "text": [
      "Learning rate is set to: 1.000e-04\n",
      "\u001b[33mModel saved for run kitti_20250417_120829\u001b[0m\n",
      "\u001b[34mDistributed evaluation on the validation set\u001b[0m\n",
      "Thresholding output\n"
     ]
    },
    {
     "name": "stderr",
     "output_type": "stream",
     "text": [
      "7it [00:03,  1.77it/s]\n",
      "7it [00:03,  1.76it/s]\n",
      "  0%|          | 0/7 [00:00<?, ?it/s]"
     ]
    },
    {
     "name": "stdout",
     "output_type": "stream",
     "text": [
      "images saved\n",
      "Evaluation for semantic segmentation - val set\n",
      "mIoU is 0.00\n"
     ]
    },
    {
     "name": "stderr",
     "output_type": "stream",
     "text": [
      "100%|██████████| 7/7 [00:03<00:00,  1.85it/s]\n",
      "100%|██████████| 7/7 [00:03<00:00,  1.80it/s]\n"
     ]
    },
    {
     "name": "stdout",
     "output_type": "stream",
     "text": [
      "KITTI 全景评价结果： {'pq': 0.0, 'sq': 0.0, 'rq': 0.0, 'iou_sum': 0.0, 'tp': 0, 'fp': 3750, 'fn': 0}\n",
      "\u001b[33mAverage loss: nan\u001b[0m\n",
      "\u001b[33mEpoch took 0:00:11.374622\u001b[0m\n",
      "\u001b[33mETA: 0:23:23.003348\u001b[0m\n",
      "\u001b[34m-------------------------\u001b[0m\n",
      "\u001b[34mStarting epoch 47\u001b[0m\n"
     ]
    },
    {
     "name": "stderr",
     "output_type": "stream",
     "text": [
      "0it [00:00, ?it/s]"
     ]
    },
    {
     "name": "stdout",
     "output_type": "stream",
     "text": [
      "Learning rate is set to: 1.000e-04\n",
      "\u001b[33mModel saved for run kitti_20250417_120829\u001b[0m\n",
      "\u001b[34mDistributed evaluation on the validation set\u001b[0m\n",
      "Thresholding output\n"
     ]
    },
    {
     "name": "stderr",
     "output_type": "stream",
     "text": [
      "7it [00:03,  1.76it/s]\n",
      "7it [00:04,  1.75it/s]\n",
      "  0%|          | 0/7 [00:00<?, ?it/s]"
     ]
    },
    {
     "name": "stdout",
     "output_type": "stream",
     "text": [
      "images saved\n",
      "Evaluation for semantic segmentation - val set\n",
      "mIoU is 0.00\n"
     ]
    },
    {
     "name": "stderr",
     "output_type": "stream",
     "text": [
      "100%|██████████| 7/7 [00:03<00:00,  1.82it/s]\n",
      "100%|██████████| 7/7 [00:03<00:00,  1.77it/s]\n"
     ]
    },
    {
     "name": "stdout",
     "output_type": "stream",
     "text": [
      "KITTI 全景评价结果： {'pq': 0.0, 'sq': 0.0, 'rq': 0.0, 'iou_sum': 0.0, 'tp': 0, 'fp': 3750, 'fn': 0}\n",
      "\u001b[33mAverage loss: nan\u001b[0m\n",
      "\u001b[33mEpoch took 0:00:11.557357\u001b[0m\n",
      "\u001b[33mETA: 0:23:10.978902\u001b[0m\n",
      "\u001b[34m-------------------------\u001b[0m\n",
      "\u001b[34mStarting epoch 48\u001b[0m\n"
     ]
    },
    {
     "name": "stderr",
     "output_type": "stream",
     "text": [
      "0it [00:00, ?it/s]"
     ]
    },
    {
     "name": "stdout",
     "output_type": "stream",
     "text": [
      "Learning rate is set to: 1.000e-04\n",
      "\u001b[33mModel saved for run kitti_20250417_120829\u001b[0m\n",
      "\u001b[34mDistributed evaluation on the validation set\u001b[0m\n",
      "Thresholding output\n"
     ]
    },
    {
     "name": "stderr",
     "output_type": "stream",
     "text": [
      "7it [00:03,  1.82it/s]\n",
      "7it [00:03,  1.77it/s]\n",
      "  0%|          | 0/7 [00:00<?, ?it/s]"
     ]
    },
    {
     "name": "stdout",
     "output_type": "stream",
     "text": [
      "images saved\n",
      "Evaluation for semantic segmentation - val set\n",
      "mIoU is 0.00\n"
     ]
    },
    {
     "name": "stderr",
     "output_type": "stream",
     "text": [
      "100%|██████████| 7/7 [00:03<00:00,  1.81it/s]\n",
      "100%|██████████| 7/7 [00:03<00:00,  1.77it/s]\n"
     ]
    },
    {
     "name": "stdout",
     "output_type": "stream",
     "text": [
      "KITTI 全景评价结果： {'pq': 0.0, 'sq': 0.0, 'rq': 0.0, 'iou_sum': 0.0, 'tp': 0, 'fp': 3750, 'fn': 0}\n",
      "\u001b[33mAverage loss: nan\u001b[0m\n",
      "\u001b[33mEpoch took 0:00:11.448541\u001b[0m\n",
      "\u001b[33mETA: 0:22:58.711373\u001b[0m\n",
      "\u001b[34m-------------------------\u001b[0m\n",
      "\u001b[34mStarting epoch 49\u001b[0m\n"
     ]
    },
    {
     "name": "stderr",
     "output_type": "stream",
     "text": [
      "0it [00:00, ?it/s]"
     ]
    },
    {
     "name": "stdout",
     "output_type": "stream",
     "text": [
      "Learning rate is set to: 1.000e-04\n",
      "\u001b[33mModel saved for run kitti_20250417_120829\u001b[0m\n",
      "\u001b[34mDistributed evaluation on the validation set\u001b[0m\n",
      "Thresholding output\n"
     ]
    },
    {
     "name": "stderr",
     "output_type": "stream",
     "text": [
      "7it [00:03,  1.78it/s]\n",
      "7it [00:03,  1.77it/s]\n",
      "  0%|          | 0/7 [00:00<?, ?it/s]"
     ]
    },
    {
     "name": "stdout",
     "output_type": "stream",
     "text": [
      "images saved\n",
      "Evaluation for semantic segmentation - val set\n",
      "mIoU is 0.00\n"
     ]
    },
    {
     "name": "stderr",
     "output_type": "stream",
     "text": [
      "100%|██████████| 7/7 [00:03<00:00,  1.81it/s]\n",
      "100%|██████████| 7/7 [00:03<00:00,  1.78it/s]\n"
     ]
    },
    {
     "name": "stdout",
     "output_type": "stream",
     "text": [
      "KITTI 全景评价结果： {'pq': 0.0, 'sq': 0.0, 'rq': 0.0, 'iou_sum': 0.0, 'tp': 0, 'fp': 3750, 'fn': 0}\n",
      "\u001b[33mAverage loss: nan\u001b[0m\n",
      "\u001b[33mEpoch took 0:00:11.444594\u001b[0m\n",
      "\u001b[33mETA: 0:22:46.467336\u001b[0m\n",
      "\u001b[34m-------------------------\u001b[0m\n",
      "\u001b[34mStarting epoch 50\u001b[0m\n"
     ]
    },
    {
     "name": "stderr",
     "output_type": "stream",
     "text": [
      "0it [00:00, ?it/s]"
     ]
    },
    {
     "name": "stdout",
     "output_type": "stream",
     "text": [
      "Learning rate is set to: 1.000e-04\n",
      "\u001b[33mModel saved for run kitti_20250417_120829\u001b[0m\n",
      "\u001b[34mDistributed evaluation on the validation set\u001b[0m\n",
      "Thresholding output\n"
     ]
    },
    {
     "name": "stderr",
     "output_type": "stream",
     "text": [
      "7it [00:03,  1.80it/s]\n",
      "7it [00:03,  1.79it/s]\n",
      "  0%|          | 0/7 [00:00<?, ?it/s]"
     ]
    },
    {
     "name": "stdout",
     "output_type": "stream",
     "text": [
      "images saved\n",
      "Evaluation for semantic segmentation - val set\n",
      "mIoU is 0.00\n"
     ]
    },
    {
     "name": "stderr",
     "output_type": "stream",
     "text": [
      "100%|██████████| 7/7 [00:03<00:00,  1.82it/s]\n",
      "100%|██████████| 7/7 [00:03<00:00,  1.78it/s]\n"
     ]
    },
    {
     "name": "stdout",
     "output_type": "stream",
     "text": [
      "KITTI 全景评价结果： {'pq': 0.0, 'sq': 0.0, 'rq': 0.0, 'iou_sum': 0.0, 'tp': 0, 'fp': 3750, 'fn': 0}\n",
      "\u001b[33mAverage loss: nan\u001b[0m\n",
      "\u001b[33mEpoch took 0:00:11.471068\u001b[0m\n",
      "\u001b[33mETA: 0:22:34.314869\u001b[0m\n",
      "\u001b[34m-------------------------\u001b[0m\n",
      "\u001b[34mStarting epoch 51\u001b[0m\n"
     ]
    },
    {
     "name": "stderr",
     "output_type": "stream",
     "text": [
      "0it [00:00, ?it/s]"
     ]
    },
    {
     "name": "stdout",
     "output_type": "stream",
     "text": [
      "Learning rate is set to: 1.000e-04\n",
      "\u001b[33mModel saved for run kitti_20250417_120829\u001b[0m\n",
      "\u001b[34mDistributed evaluation on the validation set\u001b[0m\n",
      "Thresholding output\n"
     ]
    },
    {
     "name": "stderr",
     "output_type": "stream",
     "text": [
      "7it [00:03,  1.81it/s]\n",
      "7it [00:03,  1.79it/s]\n",
      "  0%|          | 0/7 [00:00<?, ?it/s]"
     ]
    },
    {
     "name": "stdout",
     "output_type": "stream",
     "text": [
      "images saved\n",
      "Evaluation for semantic segmentation - val set\n",
      "mIoU is 0.00\n"
     ]
    },
    {
     "name": "stderr",
     "output_type": "stream",
     "text": [
      "100%|██████████| 7/7 [00:03<00:00,  1.80it/s]\n",
      "100%|██████████| 7/7 [00:03<00:00,  1.80it/s]\n"
     ]
    },
    {
     "name": "stdout",
     "output_type": "stream",
     "text": [
      "KITTI 全景评价结果： {'pq': 0.0, 'sq': 0.0, 'rq': 0.0, 'iou_sum': 0.0, 'tp': 0, 'fp': 3750, 'fn': 0}\n",
      "\u001b[33mAverage loss: nan\u001b[0m\n",
      "\u001b[33mEpoch took 0:00:11.571229\u001b[0m\n",
      "\u001b[33mETA: 0:22:22.410139\u001b[0m\n",
      "\u001b[34m-------------------------\u001b[0m\n",
      "\u001b[34mStarting epoch 52\u001b[0m\n"
     ]
    },
    {
     "name": "stderr",
     "output_type": "stream",
     "text": [
      "0it [00:00, ?it/s]"
     ]
    },
    {
     "name": "stdout",
     "output_type": "stream",
     "text": [
      "Learning rate is set to: 1.000e-04\n",
      "\u001b[33mModel saved for run kitti_20250417_120829\u001b[0m\n",
      "\u001b[34mDistributed evaluation on the validation set\u001b[0m\n",
      "Thresholding output\n"
     ]
    },
    {
     "name": "stderr",
     "output_type": "stream",
     "text": [
      "7it [00:03,  1.77it/s]\n",
      "7it [00:04,  1.75it/s]\n",
      "  0%|          | 0/7 [00:00<?, ?it/s]"
     ]
    },
    {
     "name": "stdout",
     "output_type": "stream",
     "text": [
      "images saved\n",
      "Evaluation for semantic segmentation - val set\n",
      "mIoU is 0.00\n"
     ]
    },
    {
     "name": "stderr",
     "output_type": "stream",
     "text": [
      "100%|██████████| 7/7 [00:03<00:00,  1.80it/s]\n",
      "100%|██████████| 7/7 [00:03<00:00,  1.78it/s]\n"
     ]
    },
    {
     "name": "stdout",
     "output_type": "stream",
     "text": [
      "KITTI 全景评价结果： {'pq': 0.0, 'sq': 0.0, 'rq': 0.0, 'iou_sum': 0.0, 'tp': 0, 'fp': 3750, 'fn': 0}\n",
      "\u001b[33mAverage loss: nan\u001b[0m\n",
      "\u001b[33mEpoch took 0:00:11.472250\u001b[0m\n",
      "\u001b[33mETA: 0:22:10.305134\u001b[0m\n",
      "\u001b[34m-------------------------\u001b[0m\n",
      "\u001b[34mStarting epoch 53\u001b[0m\n"
     ]
    },
    {
     "name": "stderr",
     "output_type": "stream",
     "text": [
      "0it [00:00, ?it/s]"
     ]
    },
    {
     "name": "stdout",
     "output_type": "stream",
     "text": [
      "Learning rate is set to: 1.000e-04\n",
      "\u001b[33mModel saved for run kitti_20250417_120829\u001b[0m\n",
      "\u001b[34mDistributed evaluation on the validation set\u001b[0m\n",
      "Thresholding output\n"
     ]
    },
    {
     "name": "stderr",
     "output_type": "stream",
     "text": [
      "7it [00:03,  1.78it/s]\n",
      "7it [00:03,  1.76it/s]\n",
      "  0%|          | 0/7 [00:00<?, ?it/s]"
     ]
    },
    {
     "name": "stdout",
     "output_type": "stream",
     "text": [
      "images saved\n",
      "Evaluation for semantic segmentation - val set\n",
      "mIoU is 0.00\n"
     ]
    },
    {
     "name": "stderr",
     "output_type": "stream",
     "text": [
      "100%|██████████| 7/7 [00:03<00:00,  1.75it/s]\n",
      "100%|██████████| 7/7 [00:04<00:00,  1.73it/s]\n"
     ]
    },
    {
     "name": "stdout",
     "output_type": "stream",
     "text": [
      "KITTI 全景评价结果： {'pq': 0.0, 'sq': 0.0, 'rq': 0.0, 'iou_sum': 0.0, 'tp': 0, 'fp': 3750, 'fn': 0}\n",
      "\u001b[33mAverage loss: nan\u001b[0m\n",
      "\u001b[33mEpoch took 0:00:11.455764\u001b[0m\n",
      "\u001b[33mETA: 0:21:58.189033\u001b[0m\n",
      "\u001b[34m-------------------------\u001b[0m\n",
      "\u001b[34mStarting epoch 54\u001b[0m\n"
     ]
    },
    {
     "name": "stderr",
     "output_type": "stream",
     "text": [
      "0it [00:00, ?it/s]"
     ]
    },
    {
     "name": "stdout",
     "output_type": "stream",
     "text": [
      "Learning rate is set to: 1.000e-04\n",
      "\u001b[33mModel saved for run kitti_20250417_120829\u001b[0m\n",
      "\u001b[34mDistributed evaluation on the validation set\u001b[0m\n",
      "Thresholding output\n"
     ]
    },
    {
     "name": "stderr",
     "output_type": "stream",
     "text": [
      "7it [00:03,  1.77it/s]\n",
      "7it [00:03,  1.76it/s]\n",
      "  0%|          | 0/7 [00:00<?, ?it/s]"
     ]
    },
    {
     "name": "stdout",
     "output_type": "stream",
     "text": [
      "images saved\n",
      "Evaluation for semantic segmentation - val set\n",
      "mIoU is 0.00\n"
     ]
    },
    {
     "name": "stderr",
     "output_type": "stream",
     "text": [
      "100%|██████████| 7/7 [00:04<00:00,  1.73it/s]\n",
      "100%|██████████| 7/7 [00:04<00:00,  1.71it/s]\n"
     ]
    },
    {
     "name": "stdout",
     "output_type": "stream",
     "text": [
      "KITTI 全景评价结果： {'pq': 0.0, 'sq': 0.0, 'rq': 0.0, 'iou_sum': 0.0, 'tp': 0, 'fp': 3750, 'fn': 0}\n",
      "\u001b[33mAverage loss: nan\u001b[0m\n",
      "\u001b[33mEpoch took 0:00:11.911364\u001b[0m\n",
      "\u001b[33mETA: 0:21:47.024710\u001b[0m\n",
      "\u001b[34m-------------------------\u001b[0m\n",
      "\u001b[34mStarting epoch 55\u001b[0m\n"
     ]
    },
    {
     "name": "stderr",
     "output_type": "stream",
     "text": [
      "0it [00:00, ?it/s]"
     ]
    },
    {
     "name": "stdout",
     "output_type": "stream",
     "text": [
      "Learning rate is set to: 1.000e-04\n",
      "\u001b[33mModel saved for run kitti_20250417_120829\u001b[0m\n",
      "\u001b[34mDistributed evaluation on the validation set\u001b[0m\n",
      "Thresholding output\n"
     ]
    },
    {
     "name": "stderr",
     "output_type": "stream",
     "text": [
      "7it [00:03,  1.79it/s]\n",
      "7it [00:03,  1.78it/s]\n",
      "  0%|          | 0/7 [00:00<?, ?it/s]"
     ]
    },
    {
     "name": "stdout",
     "output_type": "stream",
     "text": [
      "images saved\n",
      "Evaluation for semantic segmentation - val set\n",
      "mIoU is 0.00\n"
     ]
    },
    {
     "name": "stderr",
     "output_type": "stream",
     "text": [
      "100%|██████████| 7/7 [00:03<00:00,  1.78it/s]\n",
      "100%|██████████| 7/7 [00:03<00:00,  1.78it/s]\n"
     ]
    },
    {
     "name": "stdout",
     "output_type": "stream",
     "text": [
      "KITTI 全景评价结果： {'pq': 0.0, 'sq': 0.0, 'rq': 0.0, 'iou_sum': 0.0, 'tp': 0, 'fp': 3750, 'fn': 0}\n",
      "\u001b[33mAverage loss: nan\u001b[0m\n",
      "\u001b[33mEpoch took 0:00:11.565872\u001b[0m\n",
      "\u001b[33mETA: 0:21:35.148869\u001b[0m\n",
      "\u001b[34m-------------------------\u001b[0m\n",
      "\u001b[34mStarting epoch 56\u001b[0m\n"
     ]
    },
    {
     "name": "stderr",
     "output_type": "stream",
     "text": [
      "0it [00:00, ?it/s]"
     ]
    },
    {
     "name": "stdout",
     "output_type": "stream",
     "text": [
      "Learning rate is set to: 1.000e-04\n",
      "\u001b[33mModel saved for run kitti_20250417_120829\u001b[0m\n",
      "\u001b[34mDistributed evaluation on the validation set\u001b[0m\n",
      "Thresholding output\n"
     ]
    },
    {
     "name": "stderr",
     "output_type": "stream",
     "text": [
      "7it [00:03,  1.77it/s]\n",
      "7it [00:03,  1.78it/s]\n",
      "  0%|          | 0/7 [00:00<?, ?it/s]"
     ]
    },
    {
     "name": "stdout",
     "output_type": "stream",
     "text": [
      "images saved\n",
      "Evaluation for semantic segmentation - val set\n",
      "mIoU is 0.00\n"
     ]
    },
    {
     "name": "stderr",
     "output_type": "stream",
     "text": [
      "100%|██████████| 7/7 [00:03<00:00,  1.78it/s]\n",
      "100%|██████████| 7/7 [00:03<00:00,  1.77it/s]\n"
     ]
    },
    {
     "name": "stdout",
     "output_type": "stream",
     "text": [
      "KITTI 全景评价结果： {'pq': 0.0, 'sq': 0.0, 'rq': 0.0, 'iou_sum': 0.0, 'tp': 0, 'fp': 3750, 'fn': 0}\n",
      "\u001b[33mAverage loss: nan\u001b[0m\n",
      "\u001b[33mEpoch took 0:00:11.466957\u001b[0m\n",
      "\u001b[33mETA: 0:21:23.093005\u001b[0m\n",
      "\u001b[34m-------------------------\u001b[0m\n",
      "\u001b[34mStarting epoch 57\u001b[0m\n"
     ]
    },
    {
     "name": "stderr",
     "output_type": "stream",
     "text": [
      "0it [00:00, ?it/s]"
     ]
    },
    {
     "name": "stdout",
     "output_type": "stream",
     "text": [
      "Learning rate is set to: 1.000e-04\n",
      "\u001b[33mModel saved for run kitti_20250417_120829\u001b[0m\n",
      "\u001b[34mDistributed evaluation on the validation set\u001b[0m\n",
      "Thresholding output\n"
     ]
    },
    {
     "name": "stderr",
     "output_type": "stream",
     "text": [
      "7it [00:03,  1.79it/s]\n",
      "7it [00:03,  1.78it/s]\n",
      "  0%|          | 0/7 [00:00<?, ?it/s]"
     ]
    },
    {
     "name": "stdout",
     "output_type": "stream",
     "text": [
      "images saved\n",
      "Evaluation for semantic segmentation - val set\n",
      "mIoU is 0.00\n"
     ]
    },
    {
     "name": "stderr",
     "output_type": "stream",
     "text": [
      "100%|██████████| 7/7 [00:03<00:00,  1.81it/s]\n",
      "100%|██████████| 7/7 [00:03<00:00,  1.76it/s]\n"
     ]
    },
    {
     "name": "stdout",
     "output_type": "stream",
     "text": [
      "KITTI 全景评价结果： {'pq': 0.0, 'sq': 0.0, 'rq': 0.0, 'iou_sum': 0.0, 'tp': 0, 'fp': 3750, 'fn': 0}\n",
      "\u001b[33mAverage loss: nan\u001b[0m\n",
      "\u001b[33mEpoch took 0:00:11.476880\u001b[0m\n",
      "\u001b[33mETA: 0:21:11.076118\u001b[0m\n",
      "\u001b[34m-------------------------\u001b[0m\n",
      "\u001b[34mStarting epoch 58\u001b[0m\n"
     ]
    },
    {
     "name": "stderr",
     "output_type": "stream",
     "text": [
      "0it [00:00, ?it/s]"
     ]
    },
    {
     "name": "stdout",
     "output_type": "stream",
     "text": [
      "Learning rate is set to: 1.000e-04\n",
      "\u001b[33mModel saved for run kitti_20250417_120829\u001b[0m\n",
      "\u001b[34mDistributed evaluation on the validation set\u001b[0m\n",
      "Thresholding output\n"
     ]
    },
    {
     "name": "stderr",
     "output_type": "stream",
     "text": [
      "7it [00:03,  1.77it/s]\n",
      "7it [00:04,  1.73it/s]\n",
      "  0%|          | 0/7 [00:00<?, ?it/s]"
     ]
    },
    {
     "name": "stdout",
     "output_type": "stream",
     "text": [
      "images saved\n",
      "Evaluation for semantic segmentation - val set\n",
      "mIoU is 0.00\n"
     ]
    },
    {
     "name": "stderr",
     "output_type": "stream",
     "text": [
      "100%|██████████| 7/7 [00:03<00:00,  1.76it/s]\n",
      "100%|██████████| 7/7 [00:04<00:00,  1.71it/s]\n"
     ]
    },
    {
     "name": "stdout",
     "output_type": "stream",
     "text": [
      "KITTI 全景评价结果： {'pq': 0.0, 'sq': 0.0, 'rq': 0.0, 'iou_sum': 0.0, 'tp': 0, 'fp': 3750, 'fn': 0}\n",
      "\u001b[33mAverage loss: nan\u001b[0m\n",
      "\u001b[33mEpoch took 0:00:11.670280\u001b[0m\n",
      "\u001b[33mETA: 0:20:59.431571\u001b[0m\n",
      "\u001b[34m-------------------------\u001b[0m\n",
      "\u001b[34mStarting epoch 59\u001b[0m\n"
     ]
    },
    {
     "name": "stderr",
     "output_type": "stream",
     "text": [
      "0it [00:00, ?it/s]"
     ]
    },
    {
     "name": "stdout",
     "output_type": "stream",
     "text": [
      "Learning rate is set to: 1.000e-04\n",
      "\u001b[33mModel saved for run kitti_20250417_120829\u001b[0m\n",
      "\u001b[34mDistributed evaluation on the validation set\u001b[0m\n",
      "Thresholding output\n"
     ]
    },
    {
     "name": "stderr",
     "output_type": "stream",
     "text": [
      "7it [00:03,  1.76it/s]\n",
      "7it [00:03,  1.75it/s]\n",
      "  0%|          | 0/7 [00:00<?, ?it/s]"
     ]
    },
    {
     "name": "stdout",
     "output_type": "stream",
     "text": [
      "images saved\n",
      "Evaluation for semantic segmentation - val set\n",
      "mIoU is 0.00\n"
     ]
    },
    {
     "name": "stderr",
     "output_type": "stream",
     "text": [
      "100%|██████████| 7/7 [00:03<00:00,  1.80it/s]\n",
      "100%|██████████| 7/7 [00:03<00:00,  1.80it/s]\n"
     ]
    },
    {
     "name": "stdout",
     "output_type": "stream",
     "text": [
      "KITTI 全景评价结果： {'pq': 0.0, 'sq': 0.0, 'rq': 0.0, 'iou_sum': 0.0, 'tp': 0, 'fp': 3750, 'fn': 0}\n",
      "\u001b[33mAverage loss: nan\u001b[0m\n",
      "\u001b[33mEpoch took 0:00:11.447948\u001b[0m\n",
      "\u001b[33mETA: 0:20:47.389645\u001b[0m\n",
      "\u001b[34m-------------------------\u001b[0m\n",
      "\u001b[34mStarting epoch 60\u001b[0m\n"
     ]
    },
    {
     "name": "stderr",
     "output_type": "stream",
     "text": [
      "0it [00:00, ?it/s]"
     ]
    },
    {
     "name": "stdout",
     "output_type": "stream",
     "text": [
      "Learning rate is set to: 1.000e-04\n",
      "\u001b[33mModel saved for run kitti_20250417_120829\u001b[0m\n",
      "\u001b[34mDistributed evaluation on the validation set\u001b[0m\n",
      "Thresholding output\n"
     ]
    },
    {
     "name": "stderr",
     "output_type": "stream",
     "text": [
      "7it [00:03,  1.79it/s]\n",
      "7it [00:03,  1.79it/s]\n",
      "  0%|          | 0/7 [00:00<?, ?it/s]"
     ]
    },
    {
     "name": "stdout",
     "output_type": "stream",
     "text": [
      "images saved\n",
      "Evaluation for semantic segmentation - val set\n",
      "mIoU is 0.00\n"
     ]
    },
    {
     "name": "stderr",
     "output_type": "stream",
     "text": [
      "100%|██████████| 7/7 [00:03<00:00,  1.77it/s]\n",
      "100%|██████████| 7/7 [00:03<00:00,  1.76it/s]\n"
     ]
    },
    {
     "name": "stdout",
     "output_type": "stream",
     "text": [
      "KITTI 全景评价结果： {'pq': 0.0, 'sq': 0.0, 'rq': 0.0, 'iou_sum': 0.0, 'tp': 0, 'fp': 3750, 'fn': 0}\n",
      "\u001b[33mAverage loss: nan\u001b[0m\n",
      "\u001b[33mEpoch took 0:00:11.453495\u001b[0m\n",
      "\u001b[33mETA: 0:20:35.376816\u001b[0m\n",
      "\u001b[34m-------------------------\u001b[0m\n",
      "\u001b[34mStarting epoch 61\u001b[0m\n"
     ]
    },
    {
     "name": "stderr",
     "output_type": "stream",
     "text": [
      "0it [00:00, ?it/s]"
     ]
    },
    {
     "name": "stdout",
     "output_type": "stream",
     "text": [
      "Learning rate is set to: 1.000e-04\n",
      "\u001b[33mModel saved for run kitti_20250417_120829\u001b[0m\n",
      "\u001b[34mDistributed evaluation on the validation set\u001b[0m\n",
      "Thresholding output\n"
     ]
    },
    {
     "name": "stderr",
     "output_type": "stream",
     "text": [
      "7it [00:03,  1.82it/s]\n",
      "7it [00:03,  1.79it/s]\n",
      "  0%|          | 0/7 [00:00<?, ?it/s]"
     ]
    },
    {
     "name": "stdout",
     "output_type": "stream",
     "text": [
      "images saved\n",
      "Evaluation for semantic segmentation - val set\n",
      "mIoU is 0.00\n"
     ]
    },
    {
     "name": "stderr",
     "output_type": "stream",
     "text": [
      "100%|██████████| 7/7 [00:03<00:00,  1.80it/s]\n",
      "100%|██████████| 7/7 [00:03<00:00,  1.78it/s]\n"
     ]
    },
    {
     "name": "stdout",
     "output_type": "stream",
     "text": [
      "KITTI 全景评价结果： {'pq': 0.0, 'sq': 0.0, 'rq': 0.0, 'iou_sum': 0.0, 'tp': 0, 'fp': 3750, 'fn': 0}\n",
      "\u001b[33mAverage loss: nan\u001b[0m\n",
      "\u001b[33mEpoch took 0:00:11.265703\u001b[0m\n",
      "\u001b[33mETA: 0:20:23.064001\u001b[0m\n",
      "\u001b[34m-------------------------\u001b[0m\n",
      "\u001b[34mStarting epoch 62\u001b[0m\n"
     ]
    },
    {
     "name": "stderr",
     "output_type": "stream",
     "text": [
      "0it [00:00, ?it/s]"
     ]
    },
    {
     "name": "stdout",
     "output_type": "stream",
     "text": [
      "Learning rate is set to: 1.000e-04\n",
      "\u001b[33mModel saved for run kitti_20250417_120829\u001b[0m\n",
      "\u001b[34mDistributed evaluation on the validation set\u001b[0m\n",
      "Thresholding output\n"
     ]
    },
    {
     "name": "stderr",
     "output_type": "stream",
     "text": [
      "7it [00:03,  1.78it/s]\n",
      "7it [00:03,  1.76it/s]\n",
      "  0%|          | 0/7 [00:00<?, ?it/s]"
     ]
    },
    {
     "name": "stdout",
     "output_type": "stream",
     "text": [
      "images saved\n",
      "Evaluation for semantic segmentation - val set\n",
      "mIoU is 0.00\n"
     ]
    },
    {
     "name": "stderr",
     "output_type": "stream",
     "text": [
      "100%|██████████| 7/7 [00:03<00:00,  1.80it/s]\n",
      "100%|██████████| 7/7 [00:03<00:00,  1.77it/s]\n"
     ]
    },
    {
     "name": "stdout",
     "output_type": "stream",
     "text": [
      "KITTI 全景评价结果： {'pq': 0.0, 'sq': 0.0, 'rq': 0.0, 'iou_sum': 0.0, 'tp': 0, 'fp': 3750, 'fn': 0}\n",
      "\u001b[33mAverage loss: nan\u001b[0m\n",
      "\u001b[33mEpoch took 0:00:11.452156\u001b[0m\n",
      "\u001b[33mETA: 0:20:11.092227\u001b[0m\n",
      "\u001b[34m-------------------------\u001b[0m\n",
      "\u001b[34mStarting epoch 63\u001b[0m\n"
     ]
    },
    {
     "name": "stderr",
     "output_type": "stream",
     "text": [
      "0it [00:00, ?it/s]"
     ]
    },
    {
     "name": "stdout",
     "output_type": "stream",
     "text": [
      "Learning rate is set to: 1.000e-04\n",
      "\u001b[33mModel saved for run kitti_20250417_120829\u001b[0m\n",
      "\u001b[34mDistributed evaluation on the validation set\u001b[0m\n",
      "Thresholding output\n"
     ]
    },
    {
     "name": "stderr",
     "output_type": "stream",
     "text": [
      "7it [00:03,  1.75it/s]\n",
      "7it [00:03,  1.77it/s]\n",
      "  0%|          | 0/7 [00:00<?, ?it/s]"
     ]
    },
    {
     "name": "stdout",
     "output_type": "stream",
     "text": [
      "images saved\n",
      "Evaluation for semantic segmentation - val set\n",
      "mIoU is 0.00\n"
     ]
    },
    {
     "name": "stderr",
     "output_type": "stream",
     "text": [
      "100%|██████████| 7/7 [00:03<00:00,  1.84it/s]\n",
      "100%|██████████| 7/7 [00:03<00:00,  1.81it/s]\n"
     ]
    },
    {
     "name": "stdout",
     "output_type": "stream",
     "text": [
      "KITTI 全景评价结果： {'pq': 0.0, 'sq': 0.0, 'rq': 0.0, 'iou_sum': 0.0, 'tp': 0, 'fp': 3750, 'fn': 0}\n",
      "\u001b[33mAverage loss: nan\u001b[0m\n",
      "\u001b[33mEpoch took 0:00:11.347214\u001b[0m\n",
      "\u001b[33mETA: 0:19:58.967797\u001b[0m\n",
      "\u001b[34m-------------------------\u001b[0m\n",
      "\u001b[34mStarting epoch 64\u001b[0m\n"
     ]
    },
    {
     "name": "stderr",
     "output_type": "stream",
     "text": [
      "0it [00:00, ?it/s]"
     ]
    },
    {
     "name": "stdout",
     "output_type": "stream",
     "text": [
      "Learning rate is set to: 1.000e-04\n",
      "\u001b[33mModel saved for run kitti_20250417_120829\u001b[0m\n",
      "\u001b[34mDistributed evaluation on the validation set\u001b[0m\n",
      "Thresholding output\n"
     ]
    },
    {
     "name": "stderr",
     "output_type": "stream",
     "text": [
      "7it [00:03,  1.82it/s]\n",
      "7it [00:03,  1.82it/s]\n",
      "  0%|          | 0/7 [00:00<?, ?it/s]"
     ]
    },
    {
     "name": "stdout",
     "output_type": "stream",
     "text": [
      "images saved\n",
      "Evaluation for semantic segmentation - val set\n",
      "mIoU is 0.00\n"
     ]
    },
    {
     "name": "stderr",
     "output_type": "stream",
     "text": [
      "100%|██████████| 7/7 [00:03<00:00,  1.82it/s]\n",
      "100%|██████████| 7/7 [00:03<00:00,  1.79it/s]\n"
     ]
    },
    {
     "name": "stdout",
     "output_type": "stream",
     "text": [
      "KITTI 全景评价结果： {'pq': 0.0, 'sq': 0.0, 'rq': 0.0, 'iou_sum': 0.0, 'tp': 0, 'fp': 3750, 'fn': 0}\n",
      "\u001b[33mAverage loss: nan\u001b[0m\n",
      "\u001b[33mEpoch took 0:00:11.404029\u001b[0m\n",
      "\u001b[33mETA: 0:19:46.956429\u001b[0m\n",
      "\u001b[34m-------------------------\u001b[0m\n",
      "\u001b[34mStarting epoch 65\u001b[0m\n"
     ]
    },
    {
     "name": "stderr",
     "output_type": "stream",
     "text": [
      "0it [00:00, ?it/s]"
     ]
    },
    {
     "name": "stdout",
     "output_type": "stream",
     "text": [
      "Learning rate is set to: 1.000e-04\n",
      "\u001b[33mModel saved for run kitti_20250417_120829\u001b[0m\n",
      "\u001b[34mDistributed evaluation on the validation set\u001b[0m\n",
      "Thresholding output\n"
     ]
    },
    {
     "name": "stderr",
     "output_type": "stream",
     "text": [
      "7it [00:03,  1.78it/s]\n",
      "7it [00:03,  1.76it/s]\n",
      "  0%|          | 0/7 [00:00<?, ?it/s]"
     ]
    },
    {
     "name": "stdout",
     "output_type": "stream",
     "text": [
      "images saved\n",
      "Evaluation for semantic segmentation - val set\n",
      "mIoU is 0.00\n"
     ]
    },
    {
     "name": "stderr",
     "output_type": "stream",
     "text": [
      "100%|██████████| 7/7 [00:03<00:00,  1.80it/s]\n",
      "100%|██████████| 7/7 [00:03<00:00,  1.77it/s]\n"
     ]
    },
    {
     "name": "stdout",
     "output_type": "stream",
     "text": [
      "KITTI 全景评价结果： {'pq': 0.0, 'sq': 0.0, 'rq': 0.0, 'iou_sum': 0.0, 'tp': 0, 'fp': 3750, 'fn': 0}\n",
      "\u001b[33mAverage loss: nan\u001b[0m\n",
      "\u001b[33mEpoch took 0:00:11.441572\u001b[0m\n",
      "\u001b[33mETA: 0:19:35.020925\u001b[0m\n",
      "\u001b[34m-------------------------\u001b[0m\n",
      "\u001b[34mStarting epoch 66\u001b[0m\n"
     ]
    },
    {
     "name": "stderr",
     "output_type": "stream",
     "text": [
      "0it [00:00, ?it/s]"
     ]
    },
    {
     "name": "stdout",
     "output_type": "stream",
     "text": [
      "Learning rate is set to: 1.000e-04\n",
      "\u001b[33mModel saved for run kitti_20250417_120829\u001b[0m\n",
      "\u001b[34mDistributed evaluation on the validation set\u001b[0m\n",
      "Thresholding output\n"
     ]
    },
    {
     "name": "stderr",
     "output_type": "stream",
     "text": [
      "7it [00:03,  1.79it/s]\n",
      "7it [00:03,  1.79it/s]\n",
      "  0%|          | 0/7 [00:00<?, ?it/s]"
     ]
    },
    {
     "name": "stdout",
     "output_type": "stream",
     "text": [
      "images saved\n",
      "Evaluation for semantic segmentation - val set\n",
      "mIoU is 0.00\n"
     ]
    },
    {
     "name": "stderr",
     "output_type": "stream",
     "text": [
      "100%|██████████| 7/7 [00:03<00:00,  1.81it/s]\n",
      "100%|██████████| 7/7 [00:03<00:00,  1.80it/s]\n"
     ]
    },
    {
     "name": "stdout",
     "output_type": "stream",
     "text": [
      "KITTI 全景评价结果： {'pq': 0.0, 'sq': 0.0, 'rq': 0.0, 'iou_sum': 0.0, 'tp': 0, 'fp': 3750, 'fn': 0}\n",
      "\u001b[33mAverage loss: nan\u001b[0m\n",
      "\u001b[33mEpoch took 0:00:11.362199\u001b[0m\n",
      "\u001b[33mETA: 0:19:22.981734\u001b[0m\n",
      "\u001b[34m-------------------------\u001b[0m\n",
      "\u001b[34mStarting epoch 67\u001b[0m\n"
     ]
    },
    {
     "name": "stderr",
     "output_type": "stream",
     "text": [
      "0it [00:00, ?it/s]"
     ]
    },
    {
     "name": "stdout",
     "output_type": "stream",
     "text": [
      "Learning rate is set to: 1.000e-04\n",
      "\u001b[33mModel saved for run kitti_20250417_120829\u001b[0m\n",
      "\u001b[34mDistributed evaluation on the validation set\u001b[0m\n",
      "Thresholding output\n"
     ]
    },
    {
     "name": "stderr",
     "output_type": "stream",
     "text": [
      "7it [00:04,  1.71it/s]\n",
      "7it [00:04,  1.68it/s]\n",
      "  0%|          | 0/7 [00:00<?, ?it/s]"
     ]
    },
    {
     "name": "stdout",
     "output_type": "stream",
     "text": [
      "images saved\n",
      "Evaluation for semantic segmentation - val set\n",
      "mIoU is 0.00\n"
     ]
    },
    {
     "name": "stderr",
     "output_type": "stream",
     "text": [
      "100%|██████████| 7/7 [00:03<00:00,  1.75it/s]\n",
      "100%|██████████| 7/7 [00:04<00:00,  1.70it/s]\n"
     ]
    },
    {
     "name": "stdout",
     "output_type": "stream",
     "text": [
      "KITTI 全景评价结果： {'pq': 0.0, 'sq': 0.0, 'rq': 0.0, 'iou_sum': 0.0, 'tp': 0, 'fp': 3750, 'fn': 0}\n",
      "\u001b[33mAverage loss: nan\u001b[0m\n",
      "\u001b[33mEpoch took 0:00:12.136914\u001b[0m\n",
      "\u001b[33mETA: 0:19:12.090287\u001b[0m\n",
      "\u001b[34m-------------------------\u001b[0m\n",
      "\u001b[34mStarting epoch 68\u001b[0m\n"
     ]
    },
    {
     "name": "stderr",
     "output_type": "stream",
     "text": [
      "0it [00:00, ?it/s]"
     ]
    },
    {
     "name": "stdout",
     "output_type": "stream",
     "text": [
      "Learning rate is set to: 1.000e-04\n",
      "\u001b[33mModel saved for run kitti_20250417_120829\u001b[0m\n",
      "\u001b[34mDistributed evaluation on the validation set\u001b[0m\n",
      "Thresholding output\n"
     ]
    },
    {
     "name": "stderr",
     "output_type": "stream",
     "text": [
      "7it [00:04,  1.74it/s]\n",
      "7it [00:04,  1.74it/s]\n",
      "  0%|          | 0/7 [00:00<?, ?it/s]"
     ]
    },
    {
     "name": "stdout",
     "output_type": "stream",
     "text": [
      "images saved\n",
      "Evaluation for semantic segmentation - val set\n",
      "mIoU is 0.00\n"
     ]
    },
    {
     "name": "stderr",
     "output_type": "stream",
     "text": [
      "100%|██████████| 7/7 [00:04<00:00,  1.74it/s]\n",
      "100%|██████████| 7/7 [00:04<00:00,  1.72it/s]\n"
     ]
    },
    {
     "name": "stdout",
     "output_type": "stream",
     "text": [
      "KITTI 全景评价结果： {'pq': 0.0, 'sq': 0.0, 'rq': 0.0, 'iou_sum': 0.0, 'tp': 0, 'fp': 3750, 'fn': 0}\n",
      "\u001b[33mAverage loss: nan\u001b[0m\n",
      "\u001b[33mEpoch took 0:00:11.671681\u001b[0m\n",
      "\u001b[33mETA: 0:19:00.501971\u001b[0m\n",
      "\u001b[34m-------------------------\u001b[0m\n",
      "\u001b[34mStarting epoch 69\u001b[0m\n"
     ]
    },
    {
     "name": "stderr",
     "output_type": "stream",
     "text": [
      "0it [00:00, ?it/s]"
     ]
    },
    {
     "name": "stdout",
     "output_type": "stream",
     "text": [
      "Learning rate is set to: 1.000e-04\n",
      "\u001b[33mModel saved for run kitti_20250417_120829\u001b[0m\n",
      "\u001b[34mDistributed evaluation on the validation set\u001b[0m\n",
      "Thresholding output\n"
     ]
    },
    {
     "name": "stderr",
     "output_type": "stream",
     "text": [
      "7it [00:03,  1.77it/s]\n",
      "7it [00:03,  1.75it/s]\n",
      "  0%|          | 0/7 [00:00<?, ?it/s]"
     ]
    },
    {
     "name": "stdout",
     "output_type": "stream",
     "text": [
      "images saved\n",
      "Evaluation for semantic segmentation - val set\n",
      "mIoU is 0.00\n"
     ]
    },
    {
     "name": "stderr",
     "output_type": "stream",
     "text": [
      "100%|██████████| 7/7 [00:03<00:00,  1.76it/s]\n",
      "100%|██████████| 7/7 [00:03<00:00,  1.76it/s]\n"
     ]
    },
    {
     "name": "stdout",
     "output_type": "stream",
     "text": [
      "KITTI 全景评价结果： {'pq': 0.0, 'sq': 0.0, 'rq': 0.0, 'iou_sum': 0.0, 'tp': 0, 'fp': 3750, 'fn': 0}\n",
      "\u001b[33mAverage loss: nan\u001b[0m\n",
      "\u001b[33mEpoch took 0:00:11.432077\u001b[0m\n",
      "\u001b[33mETA: 0:18:48.579261\u001b[0m\n",
      "\u001b[34m-------------------------\u001b[0m\n",
      "\u001b[34mStarting epoch 70\u001b[0m\n"
     ]
    },
    {
     "name": "stderr",
     "output_type": "stream",
     "text": [
      "0it [00:00, ?it/s]"
     ]
    },
    {
     "name": "stdout",
     "output_type": "stream",
     "text": [
      "Learning rate is set to: 1.000e-04\n",
      "\u001b[33mModel saved for run kitti_20250417_120829\u001b[0m\n",
      "\u001b[34mDistributed evaluation on the validation set\u001b[0m\n",
      "Thresholding output\n"
     ]
    },
    {
     "name": "stderr",
     "output_type": "stream",
     "text": [
      "7it [00:03,  1.79it/s]\n",
      "7it [00:03,  1.81it/s]\n",
      "  0%|          | 0/7 [00:00<?, ?it/s]"
     ]
    },
    {
     "name": "stdout",
     "output_type": "stream",
     "text": [
      "images saved\n",
      "Evaluation for semantic segmentation - val set\n",
      "mIoU is 0.00\n"
     ]
    },
    {
     "name": "stderr",
     "output_type": "stream",
     "text": [
      "100%|██████████| 7/7 [00:03<00:00,  1.79it/s]\n",
      "\n"
     ]
    },
    {
     "name": "stdout",
     "output_type": "stream",
     "text": [
      "KITTI 全景评价结果： {'pq': 0.0, 'sq': 0.0, 'rq': 0.0, 'iou_sum': 0.0, 'tp': 0, 'fp': 3750, 'fn': 0}\n",
      "\u001b[33mAverage loss: nan\u001b[0m\n",
      "\u001b[33mEpoch took 0:00:11.335809\u001b[0m\n",
      "\u001b[33mETA: 0:18:36.540201\u001b[0m\n",
      "\u001b[34m-------------------------\u001b[0m\n",
      "\u001b[34mStarting epoch 71\u001b[0m\n"
     ]
    },
    {
     "name": "stderr",
     "output_type": "stream",
     "text": [
      "0it [00:00, ?it/s]"
     ]
    },
    {
     "name": "stdout",
     "output_type": "stream",
     "text": [
      "Learning rate is set to: 1.000e-04\n",
      "\u001b[33mModel saved for run kitti_20250417_120829\u001b[0m\n",
      "\u001b[34mDistributed evaluation on the validation set\u001b[0m\n",
      "Thresholding output\n"
     ]
    },
    {
     "name": "stderr",
     "output_type": "stream",
     "text": [
      "7it [00:04,  1.74it/s]\n",
      "7it [00:04,  1.72it/s]\n",
      "  0%|          | 0/7 [00:00<?, ?it/s]"
     ]
    },
    {
     "name": "stdout",
     "output_type": "stream",
     "text": [
      "images saved\n",
      "Evaluation for semantic segmentation - val set\n",
      "mIoU is 0.00\n"
     ]
    },
    {
     "name": "stderr",
     "output_type": "stream",
     "text": [
      "100%|██████████| 7/7 [00:03<00:00,  1.79it/s]\n",
      "100%|██████████| 7/7 [00:03<00:00,  1.76it/s]\n"
     ]
    },
    {
     "name": "stdout",
     "output_type": "stream",
     "text": [
      "KITTI 全景评价结果： {'pq': 0.0, 'sq': 0.0, 'rq': 0.0, 'iou_sum': 0.0, 'tp': 0, 'fp': 3750, 'fn': 0}\n",
      "\u001b[33mAverage loss: nan\u001b[0m\n",
      "\u001b[33mEpoch took 0:00:11.691048\u001b[0m\n",
      "\u001b[33mETA: 0:18:24.989385\u001b[0m\n",
      "\u001b[34m-------------------------\u001b[0m\n",
      "\u001b[34mStarting epoch 72\u001b[0m\n"
     ]
    },
    {
     "name": "stderr",
     "output_type": "stream",
     "text": [
      "0it [00:00, ?it/s]"
     ]
    },
    {
     "name": "stdout",
     "output_type": "stream",
     "text": [
      "Learning rate is set to: 1.000e-04\n",
      "\u001b[33mModel saved for run kitti_20250417_120829\u001b[0m\n",
      "\u001b[34mDistributed evaluation on the validation set\u001b[0m\n",
      "Thresholding output\n"
     ]
    },
    {
     "name": "stderr",
     "output_type": "stream",
     "text": [
      "7it [00:04,  1.74it/s]\n",
      "7it [00:04,  1.71it/s]\n",
      "  0%|          | 0/7 [00:00<?, ?it/s]"
     ]
    },
    {
     "name": "stdout",
     "output_type": "stream",
     "text": [
      "images saved\n",
      "Evaluation for semantic segmentation - val set\n",
      "mIoU is 0.00\n"
     ]
    },
    {
     "name": "stderr",
     "output_type": "stream",
     "text": [
      "100%|██████████| 7/7 [00:03<00:00,  1.82it/s]\n",
      "100%|██████████| 7/7 [00:03<00:00,  1.81it/s]\n"
     ]
    },
    {
     "name": "stdout",
     "output_type": "stream",
     "text": [
      "KITTI 全景评价结果： {'pq': 0.0, 'sq': 0.0, 'rq': 0.0, 'iou_sum': 0.0, 'tp': 0, 'fp': 3750, 'fn': 0}\n",
      "\u001b[33mAverage loss: nan\u001b[0m\n",
      "\u001b[33mEpoch took 0:00:11.536072\u001b[0m\n",
      "\u001b[33mETA: 0:18:13.235166\u001b[0m\n",
      "\u001b[34m-------------------------\u001b[0m\n",
      "\u001b[34mStarting epoch 73\u001b[0m\n"
     ]
    },
    {
     "name": "stderr",
     "output_type": "stream",
     "text": [
      "0it [00:00, ?it/s]"
     ]
    },
    {
     "name": "stdout",
     "output_type": "stream",
     "text": [
      "Learning rate is set to: 1.000e-04\n",
      "\u001b[33mModel saved for run kitti_20250417_120829\u001b[0m\n",
      "\u001b[34mDistributed evaluation on the validation set\u001b[0m\n",
      "Thresholding output\n"
     ]
    },
    {
     "name": "stderr",
     "output_type": "stream",
     "text": [
      "7it [00:03,  1.81it/s]\n",
      "7it [00:04,  1.74it/s]\n",
      "  0%|          | 0/7 [00:00<?, ?it/s]"
     ]
    },
    {
     "name": "stdout",
     "output_type": "stream",
     "text": [
      "images saved\n",
      "Evaluation for semantic segmentation - val set\n",
      "mIoU is 0.00\n"
     ]
    },
    {
     "name": "stderr",
     "output_type": "stream",
     "text": [
      "100%|██████████| 7/7 [00:03<00:00,  1.82it/s]\n",
      "100%|██████████| 7/7 [00:03<00:00,  1.81it/s]\n"
     ]
    },
    {
     "name": "stdout",
     "output_type": "stream",
     "text": [
      "KITTI 全景评价结果： {'pq': 0.0, 'sq': 0.0, 'rq': 0.0, 'iou_sum': 0.0, 'tp': 0, 'fp': 3750, 'fn': 0}\n",
      "\u001b[33mAverage loss: nan\u001b[0m\n",
      "\u001b[33mEpoch took 0:00:11.396452\u001b[0m\n",
      "\u001b[33mETA: 0:18:01.311375\u001b[0m\n",
      "\u001b[34m-------------------------\u001b[0m\n",
      "\u001b[34mStarting epoch 74\u001b[0m\n"
     ]
    },
    {
     "name": "stderr",
     "output_type": "stream",
     "text": [
      "0it [00:00, ?it/s]"
     ]
    },
    {
     "name": "stdout",
     "output_type": "stream",
     "text": [
      "Learning rate is set to: 1.000e-04\n",
      "\u001b[33mModel saved for run kitti_20250417_120829\u001b[0m\n",
      "\u001b[34mDistributed evaluation on the validation set\u001b[0m\n",
      "Thresholding output\n"
     ]
    },
    {
     "name": "stderr",
     "output_type": "stream",
     "text": [
      "7it [00:03,  1.82it/s]\n",
      "7it [00:03,  1.79it/s]\n",
      "  0%|          | 0/7 [00:00<?, ?it/s]"
     ]
    },
    {
     "name": "stdout",
     "output_type": "stream",
     "text": [
      "images saved\n",
      "Evaluation for semantic segmentation - val set\n",
      "mIoU is 0.00\n"
     ]
    },
    {
     "name": "stderr",
     "output_type": "stream",
     "text": [
      "100%|██████████| 7/7 [00:03<00:00,  1.81it/s]\n",
      "100%|██████████| 7/7 [00:03<00:00,  1.79it/s]\n"
     ]
    },
    {
     "name": "stdout",
     "output_type": "stream",
     "text": [
      "KITTI 全景评价结果： {'pq': 0.0, 'sq': 0.0, 'rq': 0.0, 'iou_sum': 0.0, 'tp': 0, 'fp': 3750, 'fn': 0}\n",
      "\u001b[33mAverage loss: nan\u001b[0m\n",
      "\u001b[33mEpoch took 0:00:11.232730\u001b[0m\n",
      "\u001b[33mETA: 0:17:49.200808\u001b[0m\n",
      "\u001b[34m-------------------------\u001b[0m\n",
      "\u001b[34mStarting epoch 75\u001b[0m\n"
     ]
    },
    {
     "name": "stderr",
     "output_type": "stream",
     "text": [
      "0it [00:00, ?it/s]"
     ]
    },
    {
     "name": "stdout",
     "output_type": "stream",
     "text": [
      "Learning rate is set to: 1.000e-04\n",
      "\u001b[33mModel saved for run kitti_20250417_120829\u001b[0m\n",
      "\u001b[34mDistributed evaluation on the validation set\u001b[0m\n",
      "Thresholding output\n"
     ]
    },
    {
     "name": "stderr",
     "output_type": "stream",
     "text": [
      "7it [00:03,  1.81it/s]\n",
      "7it [00:03,  1.78it/s]\n",
      "  0%|          | 0/7 [00:00<?, ?it/s]"
     ]
    },
    {
     "name": "stdout",
     "output_type": "stream",
     "text": [
      "images saved\n",
      "Evaluation for semantic segmentation - val set\n",
      "mIoU is 0.00\n"
     ]
    },
    {
     "name": "stderr",
     "output_type": "stream",
     "text": [
      "100%|██████████| 7/7 [00:03<00:00,  1.85it/s]\n",
      "100%|██████████| 7/7 [00:03<00:00,  1.81it/s]\n"
     ]
    },
    {
     "name": "stdout",
     "output_type": "stream",
     "text": [
      "KITTI 全景评价结果： {'pq': 0.0, 'sq': 0.0, 'rq': 0.0, 'iou_sum': 0.0, 'tp': 0, 'fp': 3750, 'fn': 0}\n",
      "\u001b[33mAverage loss: nan\u001b[0m\n",
      "\u001b[33mEpoch took 0:00:11.342594\u001b[0m\n",
      "\u001b[33mETA: 0:17:37.244891\u001b[0m\n",
      "\u001b[34m-------------------------\u001b[0m\n",
      "\u001b[34mStarting epoch 76\u001b[0m\n"
     ]
    },
    {
     "name": "stderr",
     "output_type": "stream",
     "text": [
      "0it [00:00, ?it/s]"
     ]
    },
    {
     "name": "stdout",
     "output_type": "stream",
     "text": [
      "Learning rate is set to: 1.000e-04\n",
      "\u001b[33mModel saved for run kitti_20250417_120829\u001b[0m\n",
      "\u001b[34mDistributed evaluation on the validation set\u001b[0m\n",
      "Thresholding output\n"
     ]
    },
    {
     "name": "stderr",
     "output_type": "stream",
     "text": [
      "7it [00:03,  1.81it/s]\n",
      "7it [00:03,  1.80it/s]\n",
      "  0%|          | 0/7 [00:00<?, ?it/s]"
     ]
    },
    {
     "name": "stdout",
     "output_type": "stream",
     "text": [
      "images saved\n",
      "Evaluation for semantic segmentation - val set\n",
      "mIoU is 0.00\n"
     ]
    },
    {
     "name": "stderr",
     "output_type": "stream",
     "text": [
      "100%|██████████| 7/7 [00:03<00:00,  1.80it/s]\n",
      "100%|██████████| 7/7 [00:03<00:00,  1.79it/s]\n"
     ]
    },
    {
     "name": "stdout",
     "output_type": "stream",
     "text": [
      "KITTI 全景评价结果： {'pq': 0.0, 'sq': 0.0, 'rq': 0.0, 'iou_sum': 0.0, 'tp': 0, 'fp': 3750, 'fn': 0}\n",
      "\u001b[33mAverage loss: nan\u001b[0m\n",
      "\u001b[33mEpoch took 0:00:11.313517\u001b[0m\n",
      "\u001b[33mETA: 0:17:25.270927\u001b[0m\n",
      "\u001b[34m-------------------------\u001b[0m\n",
      "\u001b[34mStarting epoch 77\u001b[0m\n"
     ]
    },
    {
     "name": "stderr",
     "output_type": "stream",
     "text": [
      "0it [00:00, ?it/s]"
     ]
    },
    {
     "name": "stdout",
     "output_type": "stream",
     "text": [
      "Learning rate is set to: 1.000e-04\n",
      "\u001b[33mModel saved for run kitti_20250417_120829\u001b[0m\n",
      "\u001b[34mDistributed evaluation on the validation set\u001b[0m\n",
      "Thresholding output\n"
     ]
    },
    {
     "name": "stderr",
     "output_type": "stream",
     "text": [
      "7it [00:03,  1.76it/s]\n",
      "7it [00:03,  1.77it/s]\n",
      "  0%|          | 0/7 [00:00<?, ?it/s]"
     ]
    },
    {
     "name": "stdout",
     "output_type": "stream",
     "text": [
      "images saved\n",
      "Evaluation for semantic segmentation - val set\n",
      "mIoU is 0.00\n"
     ]
    },
    {
     "name": "stderr",
     "output_type": "stream",
     "text": [
      "100%|██████████| 7/7 [00:04<00:00,  1.73it/s]\n",
      "100%|██████████| 7/7 [00:04<00:00,  1.72it/s]\n"
     ]
    },
    {
     "name": "stdout",
     "output_type": "stream",
     "text": [
      "KITTI 全景评价结果： {'pq': 0.0, 'sq': 0.0, 'rq': 0.0, 'iou_sum': 0.0, 'tp': 0, 'fp': 3750, 'fn': 0}\n",
      "\u001b[33mAverage loss: nan\u001b[0m\n",
      "\u001b[33mEpoch took 0:00:11.630886\u001b[0m\n",
      "\u001b[33mETA: 0:17:13.676018\u001b[0m\n",
      "\u001b[34m-------------------------\u001b[0m\n",
      "\u001b[34mStarting epoch 78\u001b[0m\n"
     ]
    },
    {
     "name": "stderr",
     "output_type": "stream",
     "text": [
      "0it [00:00, ?it/s]"
     ]
    },
    {
     "name": "stdout",
     "output_type": "stream",
     "text": [
      "Learning rate is set to: 1.000e-04\n",
      "\u001b[33mModel saved for run kitti_20250417_120829\u001b[0m\n",
      "\u001b[34mDistributed evaluation on the validation set\u001b[0m\n",
      "Thresholding output\n"
     ]
    },
    {
     "name": "stderr",
     "output_type": "stream",
     "text": [
      "7it [00:03,  1.80it/s]\n",
      "7it [00:03,  1.78it/s]\n",
      "  0%|          | 0/7 [00:00<?, ?it/s]"
     ]
    },
    {
     "name": "stdout",
     "output_type": "stream",
     "text": [
      "images saved\n",
      "Evaluation for semantic segmentation - val set\n",
      "mIoU is 0.00\n"
     ]
    },
    {
     "name": "stderr",
     "output_type": "stream",
     "text": [
      "100%|██████████| 7/7 [00:04<00:00,  1.72it/s]\n",
      "100%|██████████| 7/7 [00:04<00:00,  1.71it/s]\n"
     ]
    },
    {
     "name": "stdout",
     "output_type": "stream",
     "text": [
      "KITTI 全景评价结果： {'pq': 0.0, 'sq': 0.0, 'rq': 0.0, 'iou_sum': 0.0, 'tp': 0, 'fp': 3750, 'fn': 0}\n",
      "\u001b[33mAverage loss: nan\u001b[0m\n",
      "\u001b[33mEpoch took 0:00:11.650591\u001b[0m\n",
      "\u001b[33mETA: 0:17:02.102149\u001b[0m\n",
      "\u001b[34m-------------------------\u001b[0m\n",
      "\u001b[34mStarting epoch 79\u001b[0m\n"
     ]
    },
    {
     "name": "stderr",
     "output_type": "stream",
     "text": [
      "0it [00:00, ?it/s]"
     ]
    },
    {
     "name": "stdout",
     "output_type": "stream",
     "text": [
      "Learning rate is set to: 1.000e-04\n",
      "\u001b[33mModel saved for run kitti_20250417_120829\u001b[0m\n",
      "\u001b[34mDistributed evaluation on the validation set\u001b[0m\n",
      "Thresholding output\n"
     ]
    },
    {
     "name": "stderr",
     "output_type": "stream",
     "text": [
      "7it [00:03,  1.78it/s]\n",
      "7it [00:03,  1.78it/s]\n",
      "  0%|          | 0/7 [00:00<?, ?it/s]"
     ]
    },
    {
     "name": "stdout",
     "output_type": "stream",
     "text": [
      "images saved\n",
      "Evaluation for semantic segmentation - val set\n",
      "mIoU is 0.00\n"
     ]
    },
    {
     "name": "stderr",
     "output_type": "stream",
     "text": [
      "100%|██████████| 7/7 [00:03<00:00,  1.79it/s]\n",
      "100%|██████████| 7/7 [00:04<00:00,  1.75it/s]\n"
     ]
    },
    {
     "name": "stdout",
     "output_type": "stream",
     "text": [
      "KITTI 全景评价结果： {'pq': 0.0, 'sq': 0.0, 'rq': 0.0, 'iou_sum': 0.0, 'tp': 0, 'fp': 3750, 'fn': 0}\n",
      "\u001b[33mAverage loss: nan\u001b[0m\n",
      "\u001b[33mEpoch took 0:00:11.510252\u001b[0m\n",
      "\u001b[33mETA: 0:16:50.373744\u001b[0m\n",
      "\u001b[34m-------------------------\u001b[0m\n",
      "\u001b[34mStarting epoch 80\u001b[0m\n"
     ]
    },
    {
     "name": "stderr",
     "output_type": "stream",
     "text": [
      "0it [00:00, ?it/s]"
     ]
    },
    {
     "name": "stdout",
     "output_type": "stream",
     "text": [
      "Learning rate is set to: 1.000e-04\n",
      "\u001b[33mModel saved for run kitti_20250417_120829\u001b[0m\n",
      "\u001b[34mDistributed evaluation on the validation set\u001b[0m\n",
      "Thresholding output\n"
     ]
    },
    {
     "name": "stderr",
     "output_type": "stream",
     "text": [
      "7it [00:03,  1.79it/s]\n",
      "7it [00:03,  1.76it/s]\n",
      "  0%|          | 0/7 [00:00<?, ?it/s]"
     ]
    },
    {
     "name": "stdout",
     "output_type": "stream",
     "text": [
      "images saved\n",
      "Evaluation for semantic segmentation - val set\n",
      "mIoU is 0.00\n"
     ]
    },
    {
     "name": "stderr",
     "output_type": "stream",
     "text": [
      "100%|██████████| 7/7 [00:03<00:00,  1.83it/s]\n",
      "100%|██████████| 7/7 [00:03<00:00,  1.79it/s]\n"
     ]
    },
    {
     "name": "stdout",
     "output_type": "stream",
     "text": [
      "KITTI 全景评价结果： {'pq': 0.0, 'sq': 0.0, 'rq': 0.0, 'iou_sum': 0.0, 'tp': 0, 'fp': 3750, 'fn': 0}\n",
      "\u001b[33mAverage loss: nan\u001b[0m\n",
      "\u001b[33mEpoch took 0:00:11.412461\u001b[0m\n",
      "\u001b[33mETA: 0:16:38.546895\u001b[0m\n",
      "\u001b[34m-------------------------\u001b[0m\n",
      "\u001b[34mStarting epoch 81\u001b[0m\n"
     ]
    },
    {
     "name": "stderr",
     "output_type": "stream",
     "text": [
      "0it [00:00, ?it/s]"
     ]
    },
    {
     "name": "stdout",
     "output_type": "stream",
     "text": [
      "Learning rate is set to: 1.000e-04\n",
      "\u001b[33mModel saved for run kitti_20250417_120829\u001b[0m\n",
      "\u001b[34mDistributed evaluation on the validation set\u001b[0m\n",
      "Thresholding output\n"
     ]
    },
    {
     "name": "stderr",
     "output_type": "stream",
     "text": [
      "7it [00:03,  1.81it/s]\n",
      "7it [00:03,  1.77it/s]\n",
      "  0%|          | 0/7 [00:00<?, ?it/s]"
     ]
    },
    {
     "name": "stdout",
     "output_type": "stream",
     "text": [
      "images saved\n",
      "Evaluation for semantic segmentation - val set\n",
      "mIoU is 0.00\n"
     ]
    },
    {
     "name": "stderr",
     "output_type": "stream",
     "text": [
      "100%|██████████| 7/7 [00:03<00:00,  1.81it/s]\n",
      "100%|██████████| 7/7 [00:03<00:00,  1.78it/s]\n"
     ]
    },
    {
     "name": "stdout",
     "output_type": "stream",
     "text": [
      "KITTI 全景评价结果： {'pq': 0.0, 'sq': 0.0, 'rq': 0.0, 'iou_sum': 0.0, 'tp': 0, 'fp': 3750, 'fn': 0}\n",
      "\u001b[33mAverage loss: nan\u001b[0m\n",
      "\u001b[33mEpoch took 0:00:11.523671\u001b[0m\n",
      "\u001b[33mETA: 0:16:26.845429\u001b[0m\n",
      "\u001b[34m-------------------------\u001b[0m\n",
      "\u001b[34mStarting epoch 82\u001b[0m\n"
     ]
    },
    {
     "name": "stderr",
     "output_type": "stream",
     "text": [
      "0it [00:00, ?it/s]"
     ]
    },
    {
     "name": "stdout",
     "output_type": "stream",
     "text": [
      "Learning rate is set to: 1.000e-04\n",
      "\u001b[33mModel saved for run kitti_20250417_120829\u001b[0m\n",
      "\u001b[34mDistributed evaluation on the validation set\u001b[0m\n",
      "Thresholding output\n"
     ]
    },
    {
     "name": "stderr",
     "output_type": "stream",
     "text": [
      "7it [00:04,  1.74it/s]\n",
      "7it [00:04,  1.69it/s]\n",
      "  0%|          | 0/7 [00:00<?, ?it/s]"
     ]
    },
    {
     "name": "stdout",
     "output_type": "stream",
     "text": [
      "images saved\n",
      "Evaluation for semantic segmentation - val set\n",
      "mIoU is 0.00\n"
     ]
    },
    {
     "name": "stderr",
     "output_type": "stream",
     "text": [
      "100%|██████████| 7/7 [00:03<00:00,  1.76it/s]\n",
      "100%|██████████| 7/7 [00:03<00:00,  1.75it/s]\n"
     ]
    },
    {
     "name": "stdout",
     "output_type": "stream",
     "text": [
      "KITTI 全景评价结果： {'pq': 0.0, 'sq': 0.0, 'rq': 0.0, 'iou_sum': 0.0, 'tp': 0, 'fp': 3750, 'fn': 0}\n",
      "\u001b[33mAverage loss: nan\u001b[0m\n",
      "\u001b[33mEpoch took 0:00:11.925593\u001b[0m\n",
      "\u001b[33mETA: 0:16:15.554998\u001b[0m\n",
      "\u001b[34m-------------------------\u001b[0m\n",
      "\u001b[34mStarting epoch 83\u001b[0m\n"
     ]
    },
    {
     "name": "stderr",
     "output_type": "stream",
     "text": [
      "0it [00:00, ?it/s]"
     ]
    },
    {
     "name": "stdout",
     "output_type": "stream",
     "text": [
      "Learning rate is set to: 1.000e-04\n",
      "\u001b[33mModel saved for run kitti_20250417_120829\u001b[0m\n",
      "\u001b[34mDistributed evaluation on the validation set\u001b[0m\n",
      "Thresholding output\n"
     ]
    },
    {
     "name": "stderr",
     "output_type": "stream",
     "text": [
      "7it [00:03,  1.79it/s]\n",
      "7it [00:03,  1.77it/s]\n",
      "  0%|          | 0/7 [00:00<?, ?it/s]"
     ]
    },
    {
     "name": "stdout",
     "output_type": "stream",
     "text": [
      "images saved\n",
      "Evaluation for semantic segmentation - val set\n",
      "mIoU is 0.00\n"
     ]
    },
    {
     "name": "stderr",
     "output_type": "stream",
     "text": [
      "100%|██████████| 7/7 [00:03<00:00,  1.80it/s]\n",
      "100%|██████████| 7/7 [00:03<00:00,  1.80it/s]\n"
     ]
    },
    {
     "name": "stdout",
     "output_type": "stream",
     "text": [
      "KITTI 全景评价结果： {'pq': 0.0, 'sq': 0.0, 'rq': 0.0, 'iou_sum': 0.0, 'tp': 0, 'fp': 3750, 'fn': 0}\n",
      "\u001b[33mAverage loss: nan\u001b[0m\n",
      "\u001b[33mEpoch took 0:00:11.398371\u001b[0m\n",
      "\u001b[33mETA: 0:16:03.728499\u001b[0m\n",
      "\u001b[34m-------------------------\u001b[0m\n",
      "\u001b[34mStarting epoch 84\u001b[0m\n"
     ]
    },
    {
     "name": "stderr",
     "output_type": "stream",
     "text": [
      "0it [00:00, ?it/s]"
     ]
    },
    {
     "name": "stdout",
     "output_type": "stream",
     "text": [
      "Learning rate is set to: 1.000e-04\n",
      "\u001b[33mModel saved for run kitti_20250417_120829\u001b[0m\n",
      "\u001b[34mDistributed evaluation on the validation set\u001b[0m\n",
      "Thresholding output\n"
     ]
    },
    {
     "name": "stderr",
     "output_type": "stream",
     "text": [
      "7it [00:03,  1.76it/s]\n",
      "7it [00:04,  1.72it/s]\n",
      "  0%|          | 0/7 [00:00<?, ?it/s]"
     ]
    },
    {
     "name": "stdout",
     "output_type": "stream",
     "text": [
      "images saved\n",
      "Evaluation for semantic segmentation - val set\n",
      "mIoU is 0.00\n"
     ]
    },
    {
     "name": "stderr",
     "output_type": "stream",
     "text": [
      "100%|██████████| 7/7 [00:03<00:00,  1.76it/s]\n",
      "100%|██████████| 7/7 [00:04<00:00,  1.74it/s]\n"
     ]
    },
    {
     "name": "stdout",
     "output_type": "stream",
     "text": [
      "KITTI 全景评价结果： {'pq': 0.0, 'sq': 0.0, 'rq': 0.0, 'iou_sum': 0.0, 'tp': 0, 'fp': 3750, 'fn': 0}\n",
      "\u001b[33mAverage loss: nan\u001b[0m\n",
      "\u001b[33mEpoch took 0:00:11.633638\u001b[0m\n",
      "\u001b[33mETA: 0:15:52.139043\u001b[0m\n",
      "\u001b[34m-------------------------\u001b[0m\n",
      "\u001b[34mStarting epoch 85\u001b[0m\n"
     ]
    },
    {
     "name": "stderr",
     "output_type": "stream",
     "text": [
      "0it [00:00, ?it/s]"
     ]
    },
    {
     "name": "stdout",
     "output_type": "stream",
     "text": [
      "Learning rate is set to: 1.000e-04\n",
      "\u001b[33mModel saved for run kitti_20250417_120829\u001b[0m\n",
      "\u001b[34mDistributed evaluation on the validation set\u001b[0m\n",
      "Thresholding output\n"
     ]
    },
    {
     "name": "stderr",
     "output_type": "stream",
     "text": [
      "7it [00:04,  1.74it/s]\n",
      "7it [00:04,  1.74it/s]\n",
      "  0%|          | 0/7 [00:00<?, ?it/s]"
     ]
    },
    {
     "name": "stdout",
     "output_type": "stream",
     "text": [
      "images saved\n",
      "Evaluation for semantic segmentation - val set\n",
      "mIoU is 0.00\n"
     ]
    },
    {
     "name": "stderr",
     "output_type": "stream",
     "text": [
      "100%|██████████| 7/7 [00:03<00:00,  1.80it/s]\n",
      "100%|██████████| 7/7 [00:03<00:00,  1.76it/s]\n"
     ]
    },
    {
     "name": "stdout",
     "output_type": "stream",
     "text": [
      "KITTI 全景评价结果： {'pq': 0.0, 'sq': 0.0, 'rq': 0.0, 'iou_sum': 0.0, 'tp': 0, 'fp': 3750, 'fn': 0}\n",
      "\u001b[33mAverage loss: nan\u001b[0m\n",
      "\u001b[33mEpoch took 0:00:11.536594\u001b[0m\n",
      "\u001b[33mETA: 0:15:40.457167\u001b[0m\n",
      "\u001b[34m-------------------------\u001b[0m\n",
      "\u001b[34mStarting epoch 86\u001b[0m\n"
     ]
    },
    {
     "name": "stderr",
     "output_type": "stream",
     "text": [
      "0it [00:00, ?it/s]"
     ]
    },
    {
     "name": "stdout",
     "output_type": "stream",
     "text": [
      "Learning rate is set to: 1.000e-04\n",
      "\u001b[33mModel saved for run kitti_20250417_120829\u001b[0m\n",
      "\u001b[34mDistributed evaluation on the validation set\u001b[0m\n",
      "Thresholding output\n"
     ]
    },
    {
     "name": "stderr",
     "output_type": "stream",
     "text": [
      "7it [00:03,  1.76it/s]\n",
      "7it [00:04,  1.73it/s]\n",
      "  0%|          | 0/7 [00:00<?, ?it/s]"
     ]
    },
    {
     "name": "stdout",
     "output_type": "stream",
     "text": [
      "images saved\n",
      "Evaluation for semantic segmentation - val set\n",
      "mIoU is 0.00\n"
     ]
    },
    {
     "name": "stderr",
     "output_type": "stream",
     "text": [
      "100%|██████████| 7/7 [00:04<00:00,  1.73it/s]\n",
      "100%|██████████| 7/7 [00:04<00:00,  1.75it/s]\n"
     ]
    },
    {
     "name": "stdout",
     "output_type": "stream",
     "text": [
      "KITTI 全景评价结果： {'pq': 0.0, 'sq': 0.0, 'rq': 0.0, 'iou_sum': 0.0, 'tp': 0, 'fp': 3750, 'fn': 0}\n",
      "\u001b[33mAverage loss: nan\u001b[0m\n",
      "\u001b[33mEpoch took 0:00:11.870342\u001b[0m\n",
      "\u001b[33mETA: 0:15:29.085523\u001b[0m\n",
      "\u001b[34m-------------------------\u001b[0m\n",
      "\u001b[34mStarting epoch 87\u001b[0m\n"
     ]
    },
    {
     "name": "stderr",
     "output_type": "stream",
     "text": [
      "0it [00:00, ?it/s]"
     ]
    },
    {
     "name": "stdout",
     "output_type": "stream",
     "text": [
      "Learning rate is set to: 1.000e-04\n",
      "\u001b[33mModel saved for run kitti_20250417_120829\u001b[0m\n",
      "\u001b[34mDistributed evaluation on the validation set\u001b[0m\n",
      "Thresholding output\n"
     ]
    },
    {
     "name": "stderr",
     "output_type": "stream",
     "text": [
      "7it [00:03,  1.82it/s]\n",
      "7it [00:03,  1.79it/s]\n",
      "  0%|          | 0/7 [00:00<?, ?it/s]"
     ]
    },
    {
     "name": "stdout",
     "output_type": "stream",
     "text": [
      "images saved\n",
      "Evaluation for semantic segmentation - val set\n",
      "mIoU is 0.00\n"
     ]
    },
    {
     "name": "stderr",
     "output_type": "stream",
     "text": [
      "100%|██████████| 7/7 [00:03<00:00,  1.82it/s]\n",
      "100%|██████████| 7/7 [00:03<00:00,  1.81it/s]\n"
     ]
    },
    {
     "name": "stdout",
     "output_type": "stream",
     "text": [
      "KITTI 全景评价结果： {'pq': 0.0, 'sq': 0.0, 'rq': 0.0, 'iou_sum': 0.0, 'tp': 0, 'fp': 3750, 'fn': 0}\n",
      "\u001b[33mAverage loss: nan\u001b[0m\n",
      "\u001b[33mEpoch took 0:00:11.281717\u001b[0m\n",
      "\u001b[33mETA: 0:15:17.174116\u001b[0m\n",
      "\u001b[34m-------------------------\u001b[0m\n",
      "\u001b[34mStarting epoch 88\u001b[0m\n"
     ]
    },
    {
     "name": "stderr",
     "output_type": "stream",
     "text": [
      "0it [00:00, ?it/s]"
     ]
    },
    {
     "name": "stdout",
     "output_type": "stream",
     "text": [
      "Learning rate is set to: 1.000e-04\n",
      "\u001b[33mModel saved for run kitti_20250417_120829\u001b[0m\n",
      "\u001b[34mDistributed evaluation on the validation set\u001b[0m\n",
      "Thresholding output\n"
     ]
    },
    {
     "name": "stderr",
     "output_type": "stream",
     "text": [
      "7it [00:03,  1.76it/s]\n",
      "7it [00:03,  1.76it/s]\n",
      "  0%|          | 0/7 [00:00<?, ?it/s]"
     ]
    },
    {
     "name": "stdout",
     "output_type": "stream",
     "text": [
      "images saved\n",
      "Evaluation for semantic segmentation - val set\n",
      "mIoU is 0.00\n"
     ]
    },
    {
     "name": "stderr",
     "output_type": "stream",
     "text": [
      "100%|██████████| 7/7 [00:03<00:00,  1.76it/s]\n",
      "100%|██████████| 7/7 [00:03<00:00,  1.75it/s]\n"
     ]
    },
    {
     "name": "stdout",
     "output_type": "stream",
     "text": [
      "KITTI 全景评价结果： {'pq': 0.0, 'sq': 0.0, 'rq': 0.0, 'iou_sum': 0.0, 'tp': 0, 'fp': 3750, 'fn': 0}\n",
      "\u001b[33mAverage loss: nan\u001b[0m\n",
      "\u001b[33mEpoch took 0:00:11.515825\u001b[0m\n",
      "\u001b[33mETA: 0:15:05.482064\u001b[0m\n",
      "\u001b[34m-------------------------\u001b[0m\n",
      "\u001b[34mStarting epoch 89\u001b[0m\n"
     ]
    },
    {
     "name": "stderr",
     "output_type": "stream",
     "text": [
      "0it [00:00, ?it/s]"
     ]
    },
    {
     "name": "stdout",
     "output_type": "stream",
     "text": [
      "Learning rate is set to: 1.000e-04\n",
      "\u001b[33mModel saved for run kitti_20250417_120829\u001b[0m\n",
      "\u001b[34mDistributed evaluation on the validation set\u001b[0m\n",
      "Thresholding output\n"
     ]
    },
    {
     "name": "stderr",
     "output_type": "stream",
     "text": [
      "7it [00:03,  1.76it/s]\n",
      "7it [00:04,  1.74it/s]\n",
      "  0%|          | 0/7 [00:00<?, ?it/s]"
     ]
    },
    {
     "name": "stdout",
     "output_type": "stream",
     "text": [
      "images saved\n",
      "Evaluation for semantic segmentation - val set\n",
      "mIoU is 0.00\n"
     ]
    },
    {
     "name": "stderr",
     "output_type": "stream",
     "text": [
      "100%|██████████| 7/7 [00:04<00:00,  1.75it/s]\n",
      "100%|██████████| 7/7 [00:04<00:00,  1.74it/s]\n"
     ]
    },
    {
     "name": "stdout",
     "output_type": "stream",
     "text": [
      "KITTI 全景评价结果： {'pq': 0.0, 'sq': 0.0, 'rq': 0.0, 'iou_sum': 0.0, 'tp': 0, 'fp': 3750, 'fn': 0}\n",
      "\u001b[33mAverage loss: nan\u001b[0m\n",
      "\u001b[33mEpoch took 0:00:11.575299\u001b[0m\n",
      "\u001b[33mETA: 0:14:53.844773\u001b[0m\n",
      "\u001b[34m-------------------------\u001b[0m\n",
      "\u001b[34mStarting epoch 90\u001b[0m\n"
     ]
    },
    {
     "name": "stderr",
     "output_type": "stream",
     "text": [
      "0it [00:00, ?it/s]"
     ]
    },
    {
     "name": "stdout",
     "output_type": "stream",
     "text": [
      "Learning rate is set to: 1.000e-04\n",
      "\u001b[33mModel saved for run kitti_20250417_120829\u001b[0m\n",
      "\u001b[34mDistributed evaluation on the validation set\u001b[0m\n",
      "Thresholding output\n"
     ]
    },
    {
     "name": "stderr",
     "output_type": "stream",
     "text": [
      "7it [00:03,  1.81it/s]\n",
      "7it [00:03,  1.79it/s]\n",
      "  0%|          | 0/7 [00:00<?, ?it/s]"
     ]
    },
    {
     "name": "stdout",
     "output_type": "stream",
     "text": [
      "images saved\n",
      "Evaluation for semantic segmentation - val set\n",
      "mIoU is 0.00\n"
     ]
    },
    {
     "name": "stderr",
     "output_type": "stream",
     "text": [
      "100%|██████████| 7/7 [00:03<00:00,  1.85it/s]\n",
      "100%|██████████| 7/7 [00:03<00:00,  1.81it/s]\n"
     ]
    },
    {
     "name": "stdout",
     "output_type": "stream",
     "text": [
      "KITTI 全景评价结果： {'pq': 0.0, 'sq': 0.0, 'rq': 0.0, 'iou_sum': 0.0, 'tp': 0, 'fp': 3750, 'fn': 0}\n",
      "\u001b[33mAverage loss: nan\u001b[0m\n",
      "\u001b[33mEpoch took 0:00:11.293678\u001b[0m\n",
      "\u001b[33mETA: 0:14:41.973641\u001b[0m\n",
      "\u001b[34m-------------------------\u001b[0m\n",
      "\u001b[34mStarting epoch 91\u001b[0m\n"
     ]
    },
    {
     "name": "stderr",
     "output_type": "stream",
     "text": [
      "0it [00:00, ?it/s]"
     ]
    },
    {
     "name": "stdout",
     "output_type": "stream",
     "text": [
      "Learning rate is set to: 1.000e-04\n",
      "\u001b[33mModel saved for run kitti_20250417_120829\u001b[0m\n",
      "\u001b[34mDistributed evaluation on the validation set\u001b[0m\n",
      "Thresholding output\n"
     ]
    },
    {
     "name": "stderr",
     "output_type": "stream",
     "text": [
      "7it [00:03,  1.81it/s]\n",
      "7it [00:03,  1.80it/s]\n",
      "  0%|          | 0/7 [00:00<?, ?it/s]"
     ]
    },
    {
     "name": "stdout",
     "output_type": "stream",
     "text": [
      "images saved\n",
      "Evaluation for semantic segmentation - val set\n",
      "mIoU is 0.00\n"
     ]
    },
    {
     "name": "stderr",
     "output_type": "stream",
     "text": [
      "100%|██████████| 7/7 [00:03<00:00,  1.80it/s]\n",
      "100%|██████████| 7/7 [00:04<00:00,  1.73it/s]\n"
     ]
    },
    {
     "name": "stdout",
     "output_type": "stream",
     "text": [
      "KITTI 全景评价结果： {'pq': 0.0, 'sq': 0.0, 'rq': 0.0, 'iou_sum': 0.0, 'tp': 0, 'fp': 3750, 'fn': 0}\n",
      "\u001b[33mAverage loss: nan\u001b[0m\n",
      "\u001b[33mEpoch took 0:00:11.485415\u001b[0m\n",
      "\u001b[33mETA: 0:14:30.271366\u001b[0m\n",
      "\u001b[34m-------------------------\u001b[0m\n",
      "\u001b[34mStarting epoch 92\u001b[0m\n"
     ]
    },
    {
     "name": "stderr",
     "output_type": "stream",
     "text": [
      "0it [00:00, ?it/s]"
     ]
    },
    {
     "name": "stdout",
     "output_type": "stream",
     "text": [
      "Learning rate is set to: 1.000e-04\n",
      "\u001b[33mModel saved for run kitti_20250417_120829\u001b[0m\n",
      "\u001b[34mDistributed evaluation on the validation set\u001b[0m\n",
      "Thresholding output\n"
     ]
    },
    {
     "name": "stderr",
     "output_type": "stream",
     "text": [
      "7it [00:04,  1.74it/s]\n",
      "7it [00:04,  1.74it/s]\n",
      "  0%|          | 0/7 [00:00<?, ?it/s]"
     ]
    },
    {
     "name": "stdout",
     "output_type": "stream",
     "text": [
      "images saved\n",
      "Evaluation for semantic segmentation - val set\n",
      "mIoU is 0.00\n"
     ]
    },
    {
     "name": "stderr",
     "output_type": "stream",
     "text": [
      "100%|██████████| 7/7 [00:03<00:00,  1.77it/s]\n",
      "100%|██████████| 7/7 [00:04<00:00,  1.75it/s]\n"
     ]
    },
    {
     "name": "stdout",
     "output_type": "stream",
     "text": [
      "KITTI 全景评价结果： {'pq': 0.0, 'sq': 0.0, 'rq': 0.0, 'iou_sum': 0.0, 'tp': 0, 'fp': 3750, 'fn': 0}\n",
      "\u001b[33mAverage loss: nan\u001b[0m\n",
      "\u001b[33mEpoch took 0:00:11.690616\u001b[0m\n",
      "\u001b[33mETA: 0:14:18.737032\u001b[0m\n",
      "\u001b[34m-------------------------\u001b[0m\n",
      "\u001b[34mStarting epoch 93\u001b[0m\n"
     ]
    },
    {
     "name": "stderr",
     "output_type": "stream",
     "text": [
      "0it [00:00, ?it/s]"
     ]
    },
    {
     "name": "stdout",
     "output_type": "stream",
     "text": [
      "Learning rate is set to: 1.000e-04\n",
      "\u001b[33mModel saved for run kitti_20250417_120829\u001b[0m\n",
      "\u001b[34mDistributed evaluation on the validation set\u001b[0m\n",
      "Thresholding output\n"
     ]
    },
    {
     "name": "stderr",
     "output_type": "stream",
     "text": [
      "7it [00:03,  1.79it/s]\n",
      "7it [00:03,  1.75it/s]\n",
      "  0%|          | 0/7 [00:00<?, ?it/s]"
     ]
    },
    {
     "name": "stdout",
     "output_type": "stream",
     "text": [
      "images saved\n",
      "Evaluation for semantic segmentation - val set\n",
      "mIoU is 0.00\n"
     ]
    },
    {
     "name": "stderr",
     "output_type": "stream",
     "text": [
      "100%|██████████| 7/7 [00:03<00:00,  1.78it/s]\n",
      "100%|██████████| 7/7 [00:03<00:00,  1.76it/s]\n"
     ]
    },
    {
     "name": "stdout",
     "output_type": "stream",
     "text": [
      "KITTI 全景评价结果： {'pq': 0.0, 'sq': 0.0, 'rq': 0.0, 'iou_sum': 0.0, 'tp': 0, 'fp': 3750, 'fn': 0}\n",
      "\u001b[33mAverage loss: nan\u001b[0m\n",
      "\u001b[33mEpoch took 0:00:11.449923\u001b[0m\n",
      "\u001b[33mETA: 0:14:07.012469\u001b[0m\n",
      "\u001b[34m-------------------------\u001b[0m\n",
      "\u001b[34mStarting epoch 94\u001b[0m\n"
     ]
    },
    {
     "name": "stderr",
     "output_type": "stream",
     "text": [
      "0it [00:00, ?it/s]"
     ]
    },
    {
     "name": "stdout",
     "output_type": "stream",
     "text": [
      "Learning rate is set to: 1.000e-04\n",
      "\u001b[33mModel saved for run kitti_20250417_120829\u001b[0m\n",
      "\u001b[34mDistributed evaluation on the validation set\u001b[0m\n",
      "Thresholding output\n"
     ]
    },
    {
     "name": "stderr",
     "output_type": "stream",
     "text": [
      "7it [00:03,  1.79it/s]\n",
      "7it [00:03,  1.79it/s]\n",
      "  0%|          | 0/7 [00:00<?, ?it/s]"
     ]
    },
    {
     "name": "stdout",
     "output_type": "stream",
     "text": [
      "images saved\n",
      "Evaluation for semantic segmentation - val set\n",
      "mIoU is 0.00\n"
     ]
    },
    {
     "name": "stderr",
     "output_type": "stream",
     "text": [
      "100%|██████████| 7/7 [00:03<00:00,  1.81it/s]\n",
      "100%|██████████| 7/7 [00:03<00:00,  1.80it/s]\n"
     ]
    },
    {
     "name": "stdout",
     "output_type": "stream",
     "text": [
      "KITTI 全景评价结果： {'pq': 0.0, 'sq': 0.0, 'rq': 0.0, 'iou_sum': 0.0, 'tp': 0, 'fp': 3750, 'fn': 0}\n",
      "\u001b[33mAverage loss: nan\u001b[0m\n",
      "\u001b[33mEpoch took 0:00:11.382464\u001b[0m\n",
      "\u001b[33mETA: 0:13:55.242538\u001b[0m\n",
      "\u001b[34m-------------------------\u001b[0m\n",
      "\u001b[34mStarting epoch 95\u001b[0m\n"
     ]
    },
    {
     "name": "stderr",
     "output_type": "stream",
     "text": [
      "0it [00:00, ?it/s]"
     ]
    },
    {
     "name": "stdout",
     "output_type": "stream",
     "text": [
      "Learning rate is set to: 1.000e-04\n",
      "\u001b[33mModel saved for run kitti_20250417_120829\u001b[0m\n",
      "\u001b[34mDistributed evaluation on the validation set\u001b[0m\n",
      "Thresholding output\n"
     ]
    },
    {
     "name": "stderr",
     "output_type": "stream",
     "text": [
      "7it [00:03,  1.79it/s]\n",
      "7it [00:03,  1.80it/s]\n",
      "  0%|          | 0/7 [00:00<?, ?it/s]"
     ]
    },
    {
     "name": "stdout",
     "output_type": "stream",
     "text": [
      "images saved\n",
      "Evaluation for semantic segmentation - val set\n",
      "mIoU is 0.00\n"
     ]
    },
    {
     "name": "stderr",
     "output_type": "stream",
     "text": [
      "100%|██████████| 7/7 [00:03<00:00,  1.78it/s]\n",
      "100%|██████████| 7/7 [00:03<00:00,  1.78it/s]\n"
     ]
    },
    {
     "name": "stdout",
     "output_type": "stream",
     "text": [
      "KITTI 全景评价结果： {'pq': 0.0, 'sq': 0.0, 'rq': 0.0, 'iou_sum': 0.0, 'tp': 0, 'fp': 3750, 'fn': 0}\n",
      "\u001b[33mAverage loss: nan\u001b[0m\n",
      "\u001b[33mEpoch took 0:00:11.363450\u001b[0m\n",
      "\u001b[33mETA: 0:13:43.466613\u001b[0m\n",
      "\u001b[34m-------------------------\u001b[0m\n",
      "\u001b[34mStarting epoch 96\u001b[0m\n"
     ]
    },
    {
     "name": "stderr",
     "output_type": "stream",
     "text": [
      "0it [00:00, ?it/s]"
     ]
    },
    {
     "name": "stdout",
     "output_type": "stream",
     "text": [
      "Learning rate is set to: 1.000e-04\n",
      "\u001b[33mModel saved for run kitti_20250417_120829\u001b[0m\n",
      "\u001b[34mDistributed evaluation on the validation set\u001b[0m\n",
      "Thresholding output\n"
     ]
    },
    {
     "name": "stderr",
     "output_type": "stream",
     "text": [
      "7it [00:03,  1.80it/s]\n",
      "7it [00:03,  1.77it/s]\n",
      "  0%|          | 0/7 [00:00<?, ?it/s]"
     ]
    },
    {
     "name": "stdout",
     "output_type": "stream",
     "text": [
      "images saved\n",
      "Evaluation for semantic segmentation - val set\n",
      "mIoU is 0.00\n"
     ]
    },
    {
     "name": "stderr",
     "output_type": "stream",
     "text": [
      "100%|██████████| 7/7 [00:03<00:00,  1.81it/s]\n",
      "100%|██████████| 7/7 [00:03<00:00,  1.80it/s]\n"
     ]
    },
    {
     "name": "stdout",
     "output_type": "stream",
     "text": [
      "KITTI 全景评价结果： {'pq': 0.0, 'sq': 0.0, 'rq': 0.0, 'iou_sum': 0.0, 'tp': 0, 'fp': 3750, 'fn': 0}\n",
      "\u001b[33mAverage loss: nan\u001b[0m\n",
      "\u001b[33mEpoch took 0:00:11.330794\u001b[0m\n",
      "\u001b[33mETA: 0:13:31.675624\u001b[0m\n",
      "\u001b[34m-------------------------\u001b[0m\n",
      "\u001b[34mStarting epoch 97\u001b[0m\n"
     ]
    },
    {
     "name": "stderr",
     "output_type": "stream",
     "text": [
      "0it [00:00, ?it/s]"
     ]
    },
    {
     "name": "stdout",
     "output_type": "stream",
     "text": [
      "Learning rate is set to: 1.000e-04\n",
      "\u001b[33mModel saved for run kitti_20250417_120829\u001b[0m\n",
      "\u001b[34mDistributed evaluation on the validation set\u001b[0m\n",
      "Thresholding output\n"
     ]
    },
    {
     "name": "stderr",
     "output_type": "stream",
     "text": [
      "7it [00:03,  1.79it/s]\n",
      "7it [00:03,  1.78it/s]\n",
      "  0%|          | 0/7 [00:00<?, ?it/s]"
     ]
    },
    {
     "name": "stdout",
     "output_type": "stream",
     "text": [
      "images saved\n",
      "Evaluation for semantic segmentation - val set\n",
      "mIoU is 0.00\n"
     ]
    },
    {
     "name": "stderr",
     "output_type": "stream",
     "text": [
      "100%|██████████| 7/7 [00:03<00:00,  1.82it/s]\n",
      "100%|██████████| 7/7 [00:03<00:00,  1.79it/s]\n"
     ]
    },
    {
     "name": "stdout",
     "output_type": "stream",
     "text": [
      "KITTI 全景评价结果： {'pq': 0.0, 'sq': 0.0, 'rq': 0.0, 'iou_sum': 0.0, 'tp': 0, 'fp': 3750, 'fn': 0}\n",
      "\u001b[33mAverage loss: nan\u001b[0m\n",
      "\u001b[33mEpoch took 0:00:11.384293\u001b[0m\n",
      "\u001b[33mETA: 0:13:19.931700\u001b[0m\n",
      "\u001b[34m-------------------------\u001b[0m\n",
      "\u001b[34mStarting epoch 98\u001b[0m\n"
     ]
    },
    {
     "name": "stderr",
     "output_type": "stream",
     "text": [
      "0it [00:00, ?it/s]"
     ]
    },
    {
     "name": "stdout",
     "output_type": "stream",
     "text": [
      "Learning rate is set to: 1.000e-04\n",
      "\u001b[33mModel saved for run kitti_20250417_120829\u001b[0m\n",
      "\u001b[34mDistributed evaluation on the validation set\u001b[0m\n",
      "Thresholding output\n"
     ]
    },
    {
     "name": "stderr",
     "output_type": "stream",
     "text": [
      "7it [00:03,  1.76it/s]\n",
      "7it [00:03,  1.77it/s]\n",
      "  0%|          | 0/7 [00:00<?, ?it/s]"
     ]
    },
    {
     "name": "stdout",
     "output_type": "stream",
     "text": [
      "images saved\n",
      "Evaluation for semantic segmentation - val set\n",
      "mIoU is 0.00\n"
     ]
    },
    {
     "name": "stderr",
     "output_type": "stream",
     "text": [
      "100%|██████████| 7/7 [00:04<00:00,  1.72it/s]\n",
      "100%|██████████| 7/7 [00:04<00:00,  1.72it/s]\n"
     ]
    },
    {
     "name": "stdout",
     "output_type": "stream",
     "text": [
      "KITTI 全景评价结果： {'pq': 0.0, 'sq': 0.0, 'rq': 0.0, 'iou_sum': 0.0, 'tp': 0, 'fp': 3750, 'fn': 0}\n",
      "\u001b[33mAverage loss: nan\u001b[0m\n",
      "\u001b[33mEpoch took 0:00:11.659832\u001b[0m\n",
      "\u001b[33mETA: 0:13:08.384295\u001b[0m\n",
      "\u001b[34m-------------------------\u001b[0m\n",
      "\u001b[34mStarting epoch 99\u001b[0m\n"
     ]
    },
    {
     "name": "stderr",
     "output_type": "stream",
     "text": [
      "0it [00:00, ?it/s]"
     ]
    },
    {
     "name": "stdout",
     "output_type": "stream",
     "text": [
      "Learning rate is set to: 1.000e-04\n",
      "\u001b[33mModel saved for run kitti_20250417_120829\u001b[0m\n",
      "\u001b[34mDistributed evaluation on the validation set\u001b[0m\n",
      "Thresholding output\n"
     ]
    },
    {
     "name": "stderr",
     "output_type": "stream",
     "text": [
      "7it [00:03,  1.78it/s]\n",
      "7it [00:03,  1.76it/s]\n",
      "  0%|          | 0/7 [00:00<?, ?it/s]"
     ]
    },
    {
     "name": "stdout",
     "output_type": "stream",
     "text": [
      "images saved\n",
      "Evaluation for semantic segmentation - val set\n",
      "mIoU is 0.00\n"
     ]
    },
    {
     "name": "stderr",
     "output_type": "stream",
     "text": [
      "100%|██████████| 7/7 [00:03<00:00,  1.79it/s]\n",
      "100%|██████████| 7/7 [00:03<00:00,  1.76it/s]\n"
     ]
    },
    {
     "name": "stdout",
     "output_type": "stream",
     "text": [
      "KITTI 全景评价结果： {'pq': 0.0, 'sq': 0.0, 'rq': 0.0, 'iou_sum': 0.0, 'tp': 0, 'fp': 3750, 'fn': 0}\n",
      "\u001b[33mAverage loss: nan\u001b[0m\n",
      "\u001b[33mEpoch took 0:00:11.481896\u001b[0m\n",
      "\u001b[33mETA: 0:12:56.715423\u001b[0m\n",
      "\u001b[34m-------------------------\u001b[0m\n",
      "\u001b[34mStarting epoch 100\u001b[0m\n"
     ]
    },
    {
     "name": "stderr",
     "output_type": "stream",
     "text": [
      "0it [00:00, ?it/s]"
     ]
    },
    {
     "name": "stdout",
     "output_type": "stream",
     "text": [
      "Learning rate is set to: 1.000e-04\n",
      "\u001b[33mModel saved for run kitti_20250417_120829\u001b[0m\n",
      "\u001b[34mDistributed evaluation on the validation set\u001b[0m\n",
      "Thresholding output\n"
     ]
    },
    {
     "name": "stderr",
     "output_type": "stream",
     "text": [
      "7it [00:03,  1.77it/s]\n",
      "7it [00:03,  1.75it/s]\n",
      "  0%|          | 0/7 [00:00<?, ?it/s]"
     ]
    },
    {
     "name": "stdout",
     "output_type": "stream",
     "text": [
      "images saved\n",
      "Evaluation for semantic segmentation - val set\n",
      "mIoU is 0.00\n"
     ]
    },
    {
     "name": "stderr",
     "output_type": "stream",
     "text": [
      "100%|██████████| 7/7 [00:03<00:00,  1.77it/s]\n",
      "100%|██████████| 7/7 [00:03<00:00,  1.75it/s]\n"
     ]
    },
    {
     "name": "stdout",
     "output_type": "stream",
     "text": [
      "KITTI 全景评价结果： {'pq': 0.0, 'sq': 0.0, 'rq': 0.0, 'iou_sum': 0.0, 'tp': 0, 'fp': 3750, 'fn': 0}\n",
      "\u001b[33mAverage loss: nan\u001b[0m\n",
      "\u001b[33mEpoch took 0:00:11.494962\u001b[0m\n",
      "\u001b[33mETA: 0:12:45.058796\u001b[0m\n",
      "\u001b[34m-------------------------\u001b[0m\n",
      "\u001b[34mStarting epoch 101\u001b[0m\n"
     ]
    },
    {
     "name": "stderr",
     "output_type": "stream",
     "text": [
      "0it [00:00, ?it/s]"
     ]
    },
    {
     "name": "stdout",
     "output_type": "stream",
     "text": [
      "Learning rate is set to: 1.000e-04\n",
      "\u001b[33mModel saved for run kitti_20250417_120829\u001b[0m\n",
      "\u001b[34mDistributed evaluation on the validation set\u001b[0m\n",
      "Thresholding output\n"
     ]
    },
    {
     "name": "stderr",
     "output_type": "stream",
     "text": [
      "7it [00:03,  1.78it/s]\n",
      "7it [00:03,  1.79it/s]\n",
      "  0%|          | 0/7 [00:00<?, ?it/s]"
     ]
    },
    {
     "name": "stdout",
     "output_type": "stream",
     "text": [
      "images saved\n",
      "Evaluation for semantic segmentation - val set\n",
      "mIoU is 0.00\n"
     ]
    },
    {
     "name": "stderr",
     "output_type": "stream",
     "text": [
      "100%|██████████| 7/7 [00:03<00:00,  1.77it/s]\n",
      "100%|██████████| 7/7 [00:04<00:00,  1.72it/s]\n"
     ]
    },
    {
     "name": "stdout",
     "output_type": "stream",
     "text": [
      "KITTI 全景评价结果： {'pq': 0.0, 'sq': 0.0, 'rq': 0.0, 'iou_sum': 0.0, 'tp': 0, 'fp': 3750, 'fn': 0}\n",
      "\u001b[33mAverage loss: nan\u001b[0m\n",
      "\u001b[33mEpoch took 0:00:11.518106\u001b[0m\n",
      "\u001b[33mETA: 0:12:33.420110\u001b[0m\n",
      "\u001b[34m-------------------------\u001b[0m\n",
      "\u001b[34mStarting epoch 102\u001b[0m\n"
     ]
    },
    {
     "name": "stderr",
     "output_type": "stream",
     "text": [
      "0it [00:00, ?it/s]"
     ]
    },
    {
     "name": "stdout",
     "output_type": "stream",
     "text": [
      "Learning rate is set to: 1.000e-04\n",
      "\u001b[33mModel saved for run kitti_20250417_120829\u001b[0m\n",
      "\u001b[34mDistributed evaluation on the validation set\u001b[0m\n",
      "Thresholding output\n"
     ]
    },
    {
     "name": "stderr",
     "output_type": "stream",
     "text": [
      "7it [00:03,  1.85it/s]\n",
      "7it [00:03,  1.84it/s]\n",
      "  0%|          | 0/7 [00:00<?, ?it/s]"
     ]
    },
    {
     "name": "stdout",
     "output_type": "stream",
     "text": [
      "images saved\n",
      "Evaluation for semantic segmentation - val set\n",
      "mIoU is 0.00\n"
     ]
    },
    {
     "name": "stderr",
     "output_type": "stream",
     "text": [
      "100%|██████████| 7/7 [00:03<00:00,  1.81it/s]\n",
      "100%|██████████| 7/7 [00:03<00:00,  1.79it/s]\n"
     ]
    },
    {
     "name": "stdout",
     "output_type": "stream",
     "text": [
      "KITTI 全景评价结果： {'pq': 0.0, 'sq': 0.0, 'rq': 0.0, 'iou_sum': 0.0, 'tp': 0, 'fp': 3750, 'fn': 0}\n",
      "\u001b[33mAverage loss: nan\u001b[0m\n",
      "\u001b[33mEpoch took 0:00:11.241915\u001b[0m\n",
      "\u001b[33mETA: 0:12:21.612125\u001b[0m\n",
      "\u001b[34m-------------------------\u001b[0m\n",
      "\u001b[34mStarting epoch 103\u001b[0m\n"
     ]
    },
    {
     "name": "stderr",
     "output_type": "stream",
     "text": [
      "0it [00:00, ?it/s]"
     ]
    },
    {
     "name": "stdout",
     "output_type": "stream",
     "text": [
      "Learning rate is set to: 1.000e-04\n",
      "\u001b[33mModel saved for run kitti_20250417_120829\u001b[0m\n",
      "\u001b[34mDistributed evaluation on the validation set\u001b[0m\n",
      "Thresholding output\n"
     ]
    },
    {
     "name": "stderr",
     "output_type": "stream",
     "text": [
      "7it [00:03,  1.80it/s]\n",
      "7it [00:04,  1.74it/s]\n",
      "  0%|          | 0/7 [00:00<?, ?it/s]"
     ]
    },
    {
     "name": "stdout",
     "output_type": "stream",
     "text": [
      "images saved\n",
      "Evaluation for semantic segmentation - val set\n",
      "mIoU is 0.00\n"
     ]
    },
    {
     "name": "stderr",
     "output_type": "stream",
     "text": [
      "100%|██████████| 7/7 [00:03<00:00,  1.84it/s]\n",
      "100%|██████████| 7/7 [00:03<00:00,  1.79it/s]\n"
     ]
    },
    {
     "name": "stdout",
     "output_type": "stream",
     "text": [
      "KITTI 全景评价结果： {'pq': 0.0, 'sq': 0.0, 'rq': 0.0, 'iou_sum': 0.0, 'tp': 0, 'fp': 3750, 'fn': 0}\n",
      "\u001b[33mAverage loss: nan\u001b[0m\n",
      "\u001b[33mEpoch took 0:00:11.542597\u001b[0m\n",
      "\u001b[33mETA: 0:12:09.997168\u001b[0m\n",
      "\u001b[34m-------------------------\u001b[0m\n",
      "\u001b[34mStarting epoch 104\u001b[0m\n"
     ]
    },
    {
     "name": "stderr",
     "output_type": "stream",
     "text": [
      "0it [00:00, ?it/s]"
     ]
    },
    {
     "name": "stdout",
     "output_type": "stream",
     "text": [
      "Learning rate is set to: 1.000e-04\n",
      "\u001b[33mModel saved for run kitti_20250417_120829\u001b[0m\n",
      "\u001b[34mDistributed evaluation on the validation set\u001b[0m\n",
      "Thresholding output\n"
     ]
    },
    {
     "name": "stderr",
     "output_type": "stream",
     "text": [
      "7it [00:03,  1.82it/s]\n",
      "7it [00:03,  1.84it/s]\n",
      "  0%|          | 0/7 [00:00<?, ?it/s]"
     ]
    },
    {
     "name": "stdout",
     "output_type": "stream",
     "text": [
      "images saved\n",
      "Evaluation for semantic segmentation - val set\n",
      "mIoU is 0.00\n"
     ]
    },
    {
     "name": "stderr",
     "output_type": "stream",
     "text": [
      "100%|██████████| 7/7 [00:03<00:00,  1.82it/s]\n",
      "100%|██████████| 7/7 [00:03<00:00,  1.81it/s]\n"
     ]
    },
    {
     "name": "stdout",
     "output_type": "stream",
     "text": [
      "KITTI 全景评价结果： {'pq': 0.0, 'sq': 0.0, 'rq': 0.0, 'iou_sum': 0.0, 'tp': 0, 'fp': 3750, 'fn': 0}\n",
      "\u001b[33mAverage loss: nan\u001b[0m\n",
      "\u001b[33mEpoch took 0:00:11.136383\u001b[0m\n",
      "\u001b[33mETA: 0:11:58.143745\u001b[0m\n",
      "\u001b[34m-------------------------\u001b[0m\n",
      "\u001b[34mStarting epoch 105\u001b[0m\n"
     ]
    },
    {
     "name": "stderr",
     "output_type": "stream",
     "text": [
      "0it [00:00, ?it/s]"
     ]
    },
    {
     "name": "stdout",
     "output_type": "stream",
     "text": [
      "Learning rate is set to: 1.000e-04\n",
      "\u001b[33mModel saved for run kitti_20250417_120829\u001b[0m\n",
      "\u001b[34mDistributed evaluation on the validation set\u001b[0m\n",
      "Thresholding output\n"
     ]
    },
    {
     "name": "stderr",
     "output_type": "stream",
     "text": [
      "7it [00:03,  1.80it/s]\n",
      "7it [00:03,  1.78it/s]\n",
      "  0%|          | 0/7 [00:00<?, ?it/s]"
     ]
    },
    {
     "name": "stdout",
     "output_type": "stream",
     "text": [
      "images saved\n",
      "Evaluation for semantic segmentation - val set\n",
      "mIoU is 0.00\n"
     ]
    },
    {
     "name": "stderr",
     "output_type": "stream",
     "text": [
      "100%|██████████| 7/7 [00:03<00:00,  1.82it/s]\n",
      "100%|██████████| 7/7 [00:03<00:00,  1.79it/s]\n"
     ]
    },
    {
     "name": "stdout",
     "output_type": "stream",
     "text": [
      "KITTI 全景评价结果： {'pq': 0.0, 'sq': 0.0, 'rq': 0.0, 'iou_sum': 0.0, 'tp': 0, 'fp': 3750, 'fn': 0}\n",
      "\u001b[33mAverage loss: nan\u001b[0m\n",
      "\u001b[33mEpoch took 0:00:11.352064\u001b[0m\n",
      "\u001b[33mETA: 0:11:46.427950\u001b[0m\n",
      "\u001b[34m-------------------------\u001b[0m\n",
      "\u001b[34mStarting epoch 106\u001b[0m\n"
     ]
    },
    {
     "name": "stderr",
     "output_type": "stream",
     "text": [
      "0it [00:00, ?it/s]"
     ]
    },
    {
     "name": "stdout",
     "output_type": "stream",
     "text": [
      "Learning rate is set to: 1.000e-04\n",
      "\u001b[33mModel saved for run kitti_20250417_120829\u001b[0m\n",
      "\u001b[34mDistributed evaluation on the validation set\u001b[0m\n",
      "Thresholding output\n"
     ]
    },
    {
     "name": "stderr",
     "output_type": "stream",
     "text": [
      "7it [00:03,  1.79it/s]\n",
      "7it [00:03,  1.80it/s]\n",
      "  0%|          | 0/7 [00:00<?, ?it/s]"
     ]
    },
    {
     "name": "stdout",
     "output_type": "stream",
     "text": [
      "images saved\n",
      "Evaluation for semantic segmentation - val set\n",
      "mIoU is 0.00\n"
     ]
    },
    {
     "name": "stderr",
     "output_type": "stream",
     "text": [
      "100%|██████████| 7/7 [00:03<00:00,  1.80it/s]\n",
      "100%|██████████| 7/7 [00:03<00:00,  1.80it/s]\n"
     ]
    },
    {
     "name": "stdout",
     "output_type": "stream",
     "text": [
      "KITTI 全景评价结果： {'pq': 0.0, 'sq': 0.0, 'rq': 0.0, 'iou_sum': 0.0, 'tp': 0, 'fp': 3750, 'fn': 0}\n",
      "\u001b[33mAverage loss: nan\u001b[0m\n",
      "\u001b[33mEpoch took 0:00:11.338274\u001b[0m\n",
      "\u001b[33mETA: 0:11:34.711219\u001b[0m\n",
      "\u001b[34m-------------------------\u001b[0m\n",
      "\u001b[34mStarting epoch 107\u001b[0m\n"
     ]
    },
    {
     "name": "stderr",
     "output_type": "stream",
     "text": [
      "0it [00:00, ?it/s]"
     ]
    },
    {
     "name": "stdout",
     "output_type": "stream",
     "text": [
      "Learning rate is set to: 1.000e-04\n",
      "\u001b[33mModel saved for run kitti_20250417_120829\u001b[0m\n",
      "\u001b[34mDistributed evaluation on the validation set\u001b[0m\n",
      "Thresholding output\n"
     ]
    },
    {
     "name": "stderr",
     "output_type": "stream",
     "text": [
      "7it [00:03,  1.80it/s]\n",
      "7it [00:03,  1.81it/s]\n",
      "  0%|          | 0/7 [00:00<?, ?it/s]"
     ]
    },
    {
     "name": "stdout",
     "output_type": "stream",
     "text": [
      "images saved\n",
      "Evaluation for semantic segmentation - val set\n",
      "mIoU is 0.00\n"
     ]
    },
    {
     "name": "stderr",
     "output_type": "stream",
     "text": [
      "100%|██████████| 7/7 [00:03<00:00,  1.80it/s]\n",
      "100%|██████████| 7/7 [00:03<00:00,  1.78it/s]\n"
     ]
    },
    {
     "name": "stdout",
     "output_type": "stream",
     "text": [
      "KITTI 全景评价结果： {'pq': 0.0, 'sq': 0.0, 'rq': 0.0, 'iou_sum': 0.0, 'tp': 0, 'fp': 3750, 'fn': 0}\n",
      "\u001b[33mAverage loss: nan\u001b[0m\n",
      "\u001b[33mEpoch took 0:00:11.265343\u001b[0m\n",
      "\u001b[33mETA: 0:11:22.961647\u001b[0m\n",
      "\u001b[34m-------------------------\u001b[0m\n",
      "\u001b[34mStarting epoch 108\u001b[0m\n"
     ]
    },
    {
     "name": "stderr",
     "output_type": "stream",
     "text": [
      "0it [00:00, ?it/s]"
     ]
    },
    {
     "name": "stdout",
     "output_type": "stream",
     "text": [
      "Learning rate is set to: 1.000e-04\n",
      "\u001b[33mModel saved for run kitti_20250417_120829\u001b[0m\n",
      "\u001b[34mDistributed evaluation on the validation set\u001b[0m\n",
      "Thresholding output\n"
     ]
    },
    {
     "name": "stderr",
     "output_type": "stream",
     "text": [
      "7it [00:03,  1.84it/s]\n",
      "7it [00:03,  1.84it/s]\n",
      "  0%|          | 0/7 [00:00<?, ?it/s]"
     ]
    },
    {
     "name": "stdout",
     "output_type": "stream",
     "text": [
      "images saved\n",
      "Evaluation for semantic segmentation - val set\n",
      "mIoU is 0.00\n"
     ]
    },
    {
     "name": "stderr",
     "output_type": "stream",
     "text": [
      "100%|██████████| 7/7 [00:03<00:00,  1.78it/s]\n",
      "100%|██████████| 7/7 [00:03<00:00,  1.76it/s]\n"
     ]
    },
    {
     "name": "stdout",
     "output_type": "stream",
     "text": [
      "KITTI 全景评价结果： {'pq': 0.0, 'sq': 0.0, 'rq': 0.0, 'iou_sum': 0.0, 'tp': 0, 'fp': 3750, 'fn': 0}\n",
      "\u001b[33mAverage loss: nan\u001b[0m\n",
      "\u001b[33mEpoch took 0:00:11.257686\u001b[0m\n",
      "\u001b[33mETA: 0:11:11.216888\u001b[0m\n",
      "\u001b[34m-------------------------\u001b[0m\n",
      "\u001b[34mStarting epoch 109\u001b[0m\n"
     ]
    },
    {
     "name": "stderr",
     "output_type": "stream",
     "text": [
      "0it [00:00, ?it/s]"
     ]
    },
    {
     "name": "stdout",
     "output_type": "stream",
     "text": [
      "Learning rate is set to: 1.000e-04\n",
      "\u001b[33mModel saved for run kitti_20250417_120829\u001b[0m\n",
      "\u001b[34mDistributed evaluation on the validation set\u001b[0m\n",
      "Thresholding output\n"
     ]
    },
    {
     "name": "stderr",
     "output_type": "stream",
     "text": [
      "7it [00:03,  1.83it/s]\n",
      "7it [00:03,  1.81it/s]\n",
      "  0%|          | 0/7 [00:00<?, ?it/s]"
     ]
    },
    {
     "name": "stdout",
     "output_type": "stream",
     "text": [
      "images saved\n",
      "Evaluation for semantic segmentation - val set\n",
      "mIoU is 0.00\n"
     ]
    },
    {
     "name": "stderr",
     "output_type": "stream",
     "text": [
      "100%|██████████| 7/7 [00:03<00:00,  1.82it/s]\n",
      "100%|██████████| 7/7 [00:03<00:00,  1.82it/s]\n"
     ]
    },
    {
     "name": "stdout",
     "output_type": "stream",
     "text": [
      "KITTI 全景评价结果： {'pq': 0.0, 'sq': 0.0, 'rq': 0.0, 'iou_sum': 0.0, 'tp': 0, 'fp': 3750, 'fn': 0}\n",
      "\u001b[33mAverage loss: nan\u001b[0m\n",
      "\u001b[33mEpoch took 0:00:11.310553\u001b[0m\n",
      "\u001b[33mETA: 0:10:59.508380\u001b[0m\n",
      "\u001b[34m-------------------------\u001b[0m\n",
      "\u001b[34mStarting epoch 110\u001b[0m\n"
     ]
    },
    {
     "name": "stderr",
     "output_type": "stream",
     "text": [
      "0it [00:00, ?it/s]"
     ]
    },
    {
     "name": "stdout",
     "output_type": "stream",
     "text": [
      "Learning rate is set to: 1.000e-04\n",
      "\u001b[33mModel saved for run kitti_20250417_120829\u001b[0m\n",
      "\u001b[34mDistributed evaluation on the validation set\u001b[0m\n",
      "Thresholding output\n"
     ]
    },
    {
     "name": "stderr",
     "output_type": "stream",
     "text": [
      "7it [00:03,  1.83it/s]\n",
      "7it [00:03,  1.78it/s]\n",
      "  0%|          | 0/7 [00:00<?, ?it/s]"
     ]
    },
    {
     "name": "stdout",
     "output_type": "stream",
     "text": [
      "images saved\n",
      "Evaluation for semantic segmentation - val set\n",
      "mIoU is 0.00\n"
     ]
    },
    {
     "name": "stderr",
     "output_type": "stream",
     "text": [
      "100%|██████████| 7/7 [00:03<00:00,  1.79it/s]\n",
      "100%|██████████| 7/7 [00:03<00:00,  1.78it/s]\n"
     ]
    },
    {
     "name": "stdout",
     "output_type": "stream",
     "text": [
      "KITTI 全景评价结果： {'pq': 0.0, 'sq': 0.0, 'rq': 0.0, 'iou_sum': 0.0, 'tp': 0, 'fp': 3750, 'fn': 0}\n",
      "\u001b[33mAverage loss: nan\u001b[0m\n",
      "\u001b[33mEpoch took 0:00:11.366954\u001b[0m\n",
      "\u001b[33mETA: 0:10:47.835494\u001b[0m\n",
      "\u001b[34m-------------------------\u001b[0m\n",
      "\u001b[34mStarting epoch 111\u001b[0m\n"
     ]
    },
    {
     "name": "stderr",
     "output_type": "stream",
     "text": [
      "0it [00:00, ?it/s]"
     ]
    },
    {
     "name": "stdout",
     "output_type": "stream",
     "text": [
      "Learning rate is set to: 1.000e-04\n",
      "\u001b[33mModel saved for run kitti_20250417_120829\u001b[0m\n",
      "\u001b[34mDistributed evaluation on the validation set\u001b[0m\n",
      "Thresholding output\n"
     ]
    },
    {
     "name": "stderr",
     "output_type": "stream",
     "text": [
      "7it [00:03,  1.80it/s]\n",
      "7it [00:03,  1.79it/s]\n",
      "  0%|          | 0/7 [00:00<?, ?it/s]"
     ]
    },
    {
     "name": "stdout",
     "output_type": "stream",
     "text": [
      "images saved\n",
      "Evaluation for semantic segmentation - val set\n",
      "mIoU is 0.00\n"
     ]
    },
    {
     "name": "stderr",
     "output_type": "stream",
     "text": [
      "100%|██████████| 7/7 [00:03<00:00,  1.86it/s]\n",
      "100%|██████████| 7/7 [00:03<00:00,  1.83it/s]\n"
     ]
    },
    {
     "name": "stdout",
     "output_type": "stream",
     "text": [
      "KITTI 全景评价结果： {'pq': 0.0, 'sq': 0.0, 'rq': 0.0, 'iou_sum': 0.0, 'tp': 0, 'fp': 3750, 'fn': 0}\n",
      "\u001b[33mAverage loss: nan\u001b[0m\n",
      "\u001b[33mEpoch took 0:00:11.232882\u001b[0m\n",
      "\u001b[33mETA: 0:10:36.102235\u001b[0m\n",
      "\u001b[34m-------------------------\u001b[0m\n",
      "\u001b[34mStarting epoch 112\u001b[0m\n"
     ]
    },
    {
     "name": "stderr",
     "output_type": "stream",
     "text": [
      "0it [00:00, ?it/s]"
     ]
    },
    {
     "name": "stdout",
     "output_type": "stream",
     "text": [
      "Learning rate is set to: 1.000e-04\n",
      "\u001b[33mModel saved for run kitti_20250417_120829\u001b[0m\n",
      "\u001b[34mDistributed evaluation on the validation set\u001b[0m\n",
      "Thresholding output\n"
     ]
    },
    {
     "name": "stderr",
     "output_type": "stream",
     "text": [
      "7it [00:03,  1.78it/s]\n",
      "7it [00:03,  1.76it/s]\n",
      "  0%|          | 0/7 [00:00<?, ?it/s]"
     ]
    },
    {
     "name": "stdout",
     "output_type": "stream",
     "text": [
      "images saved\n",
      "Evaluation for semantic segmentation - val set\n",
      "mIoU is 0.00\n"
     ]
    },
    {
     "name": "stderr",
     "output_type": "stream",
     "text": [
      "100%|██████████| 7/7 [00:03<00:00,  1.80it/s]\n",
      "100%|██████████| 7/7 [00:03<00:00,  1.77it/s]\n"
     ]
    },
    {
     "name": "stdout",
     "output_type": "stream",
     "text": [
      "KITTI 全景评价结果： {'pq': 0.0, 'sq': 0.0, 'rq': 0.0, 'iou_sum': 0.0, 'tp': 0, 'fp': 3750, 'fn': 0}\n",
      "\u001b[33mAverage loss: nan\u001b[0m\n",
      "\u001b[33mEpoch took 0:00:11.359700\u001b[0m\n",
      "\u001b[33mETA: 0:10:24.438431\u001b[0m\n",
      "\u001b[34m-------------------------\u001b[0m\n",
      "\u001b[34mStarting epoch 113\u001b[0m\n"
     ]
    },
    {
     "name": "stderr",
     "output_type": "stream",
     "text": [
      "0it [00:00, ?it/s]"
     ]
    },
    {
     "name": "stdout",
     "output_type": "stream",
     "text": [
      "Learning rate is set to: 1.000e-04\n",
      "\u001b[33mModel saved for run kitti_20250417_120829\u001b[0m\n",
      "\u001b[34mDistributed evaluation on the validation set\u001b[0m\n",
      "Thresholding output\n"
     ]
    },
    {
     "name": "stderr",
     "output_type": "stream",
     "text": [
      "7it [00:03,  1.82it/s]\n",
      "7it [00:03,  1.82it/s]\n",
      "  0%|          | 0/7 [00:00<?, ?it/s]"
     ]
    },
    {
     "name": "stdout",
     "output_type": "stream",
     "text": [
      "images saved\n",
      "Evaluation for semantic segmentation - val set\n",
      "mIoU is 0.00\n"
     ]
    },
    {
     "name": "stderr",
     "output_type": "stream",
     "text": [
      "100%|██████████| 7/7 [00:03<00:00,  1.81it/s]\n",
      "100%|██████████| 7/7 [00:03<00:00,  1.81it/s]\n"
     ]
    },
    {
     "name": "stdout",
     "output_type": "stream",
     "text": [
      "KITTI 全景评价结果： {'pq': 0.0, 'sq': 0.0, 'rq': 0.0, 'iou_sum': 0.0, 'tp': 0, 'fp': 3750, 'fn': 0}\n",
      "\u001b[33mAverage loss: nan\u001b[0m\n",
      "\u001b[33mEpoch took 0:00:11.251209\u001b[0m\n",
      "\u001b[33mETA: 0:10:12.729521\u001b[0m\n",
      "\u001b[34m-------------------------\u001b[0m\n",
      "\u001b[34mStarting epoch 114\u001b[0m\n"
     ]
    },
    {
     "name": "stderr",
     "output_type": "stream",
     "text": [
      "0it [00:00, ?it/s]"
     ]
    },
    {
     "name": "stdout",
     "output_type": "stream",
     "text": [
      "Learning rate is set to: 1.000e-04\n",
      "\u001b[33mModel saved for run kitti_20250417_120829\u001b[0m\n",
      "\u001b[34mDistributed evaluation on the validation set\u001b[0m\n",
      "Thresholding output\n"
     ]
    },
    {
     "name": "stderr",
     "output_type": "stream",
     "text": [
      "7it [00:03,  1.82it/s]\n",
      "7it [00:03,  1.77it/s]\n",
      "  0%|          | 0/7 [00:00<?, ?it/s]"
     ]
    },
    {
     "name": "stdout",
     "output_type": "stream",
     "text": [
      "images saved\n",
      "Evaluation for semantic segmentation - val set\n",
      "mIoU is 0.00\n"
     ]
    },
    {
     "name": "stderr",
     "output_type": "stream",
     "text": [
      "100%|██████████| 7/7 [00:03<00:00,  1.79it/s]\n",
      "100%|██████████| 7/7 [00:03<00:00,  1.79it/s]\n"
     ]
    },
    {
     "name": "stdout",
     "output_type": "stream",
     "text": [
      "KITTI 全景评价结果： {'pq': 0.0, 'sq': 0.0, 'rq': 0.0, 'iou_sum': 0.0, 'tp': 0, 'fp': 3750, 'fn': 0}\n",
      "\u001b[33mAverage loss: nan\u001b[0m\n",
      "\u001b[33mEpoch took 0:00:11.491096\u001b[0m\n",
      "\u001b[33mETA: 0:10:01.137039\u001b[0m\n",
      "\u001b[34m-------------------------\u001b[0m\n",
      "\u001b[34mStarting epoch 115\u001b[0m\n"
     ]
    },
    {
     "name": "stderr",
     "output_type": "stream",
     "text": [
      "0it [00:00, ?it/s]"
     ]
    },
    {
     "name": "stdout",
     "output_type": "stream",
     "text": [
      "Learning rate is set to: 1.000e-04\n",
      "\u001b[33mModel saved for run kitti_20250417_120829\u001b[0m\n",
      "\u001b[34mDistributed evaluation on the validation set\u001b[0m\n",
      "Thresholding output\n"
     ]
    },
    {
     "name": "stderr",
     "output_type": "stream",
     "text": [
      "7it [00:03,  1.81it/s]\n",
      "7it [00:03,  1.77it/s]\n",
      "  0%|          | 0/7 [00:00<?, ?it/s]"
     ]
    },
    {
     "name": "stdout",
     "output_type": "stream",
     "text": [
      "images saved\n",
      "Evaluation for semantic segmentation - val set\n",
      "mIoU is 0.00\n"
     ]
    },
    {
     "name": "stderr",
     "output_type": "stream",
     "text": [
      "100%|██████████| 7/7 [00:03<00:00,  1.82it/s]\n",
      "100%|██████████| 7/7 [00:03<00:00,  1.82it/s]\n"
     ]
    },
    {
     "name": "stdout",
     "output_type": "stream",
     "text": [
      "KITTI 全景评价结果： {'pq': 0.0, 'sq': 0.0, 'rq': 0.0, 'iou_sum': 0.0, 'tp': 0, 'fp': 3750, 'fn': 0}\n",
      "\u001b[33mAverage loss: nan\u001b[0m\n",
      "\u001b[33mEpoch took 0:00:11.381629\u001b[0m\n",
      "\u001b[33mETA: 0:09:49.498179\u001b[0m\n",
      "\u001b[34m-------------------------\u001b[0m\n",
      "\u001b[34mStarting epoch 116\u001b[0m\n"
     ]
    },
    {
     "name": "stderr",
     "output_type": "stream",
     "text": [
      "0it [00:00, ?it/s]"
     ]
    },
    {
     "name": "stdout",
     "output_type": "stream",
     "text": [
      "Learning rate is set to: 1.000e-04\n",
      "\u001b[33mModel saved for run kitti_20250417_120829\u001b[0m\n",
      "\u001b[34mDistributed evaluation on the validation set\u001b[0m\n",
      "Thresholding output\n"
     ]
    },
    {
     "name": "stderr",
     "output_type": "stream",
     "text": [
      "7it [00:03,  1.82it/s]\n",
      "7it [00:03,  1.83it/s]\n",
      "  0%|          | 0/7 [00:00<?, ?it/s]"
     ]
    },
    {
     "name": "stdout",
     "output_type": "stream",
     "text": [
      "images saved\n",
      "Evaluation for semantic segmentation - val set\n",
      "mIoU is 0.00\n"
     ]
    },
    {
     "name": "stderr",
     "output_type": "stream",
     "text": [
      "100%|██████████| 7/7 [00:03<00:00,  1.83it/s]\n",
      "100%|██████████| 7/7 [00:03<00:00,  1.81it/s]\n"
     ]
    },
    {
     "name": "stdout",
     "output_type": "stream",
     "text": [
      "KITTI 全景评价结果： {'pq': 0.0, 'sq': 0.0, 'rq': 0.0, 'iou_sum': 0.0, 'tp': 0, 'fp': 3750, 'fn': 0}\n",
      "\u001b[33mAverage loss: nan\u001b[0m\n",
      "\u001b[33mEpoch took 0:00:11.240534\u001b[0m\n",
      "\u001b[33mETA: 0:09:37.803421\u001b[0m\n",
      "\u001b[34m-------------------------\u001b[0m\n",
      "\u001b[34mStarting epoch 117\u001b[0m\n"
     ]
    },
    {
     "name": "stderr",
     "output_type": "stream",
     "text": [
      "0it [00:00, ?it/s]"
     ]
    },
    {
     "name": "stdout",
     "output_type": "stream",
     "text": [
      "Learning rate is set to: 1.000e-04\n",
      "\u001b[33mModel saved for run kitti_20250417_120829\u001b[0m\n",
      "\u001b[34mDistributed evaluation on the validation set\u001b[0m\n",
      "Thresholding output\n"
     ]
    },
    {
     "name": "stderr",
     "output_type": "stream",
     "text": [
      "7it [00:03,  1.80it/s]\n",
      "7it [00:03,  1.80it/s]\n",
      "  0%|          | 0/7 [00:00<?, ?it/s]"
     ]
    },
    {
     "name": "stdout",
     "output_type": "stream",
     "text": [
      "images saved\n",
      "Evaluation for semantic segmentation - val set\n",
      "mIoU is 0.00\n"
     ]
    },
    {
     "name": "stderr",
     "output_type": "stream",
     "text": [
      "100%|██████████| 7/7 [00:03<00:00,  1.84it/s]\n",
      "100%|██████████| 7/7 [00:03<00:00,  1.82it/s]\n"
     ]
    },
    {
     "name": "stdout",
     "output_type": "stream",
     "text": [
      "KITTI 全景评价结果： {'pq': 0.0, 'sq': 0.0, 'rq': 0.0, 'iou_sum': 0.0, 'tp': 0, 'fp': 3750, 'fn': 0}\n",
      "\u001b[33mAverage loss: nan\u001b[0m\n",
      "\u001b[33mEpoch took 0:00:11.206474\u001b[0m\n",
      "\u001b[33mETA: 0:09:26.102216\u001b[0m\n",
      "\u001b[34m-------------------------\u001b[0m\n",
      "\u001b[34mStarting epoch 118\u001b[0m\n"
     ]
    },
    {
     "name": "stderr",
     "output_type": "stream",
     "text": [
      "0it [00:00, ?it/s]"
     ]
    },
    {
     "name": "stdout",
     "output_type": "stream",
     "text": [
      "Learning rate is set to: 1.000e-04\n",
      "\u001b[33mModel saved for run kitti_20250417_120829\u001b[0m\n",
      "\u001b[34mDistributed evaluation on the validation set\u001b[0m\n",
      "Thresholding output\n"
     ]
    },
    {
     "name": "stderr",
     "output_type": "stream",
     "text": [
      "7it [00:03,  1.83it/s]\n",
      "7it [00:03,  1.83it/s]\n",
      "  0%|          | 0/7 [00:00<?, ?it/s]"
     ]
    },
    {
     "name": "stdout",
     "output_type": "stream",
     "text": [
      "images saved\n",
      "Evaluation for semantic segmentation - val set\n",
      "mIoU is 0.00\n"
     ]
    },
    {
     "name": "stderr",
     "output_type": "stream",
     "text": [
      "100%|██████████| 7/7 [00:03<00:00,  1.86it/s]\n",
      "100%|██████████| 7/7 [00:03<00:00,  1.82it/s]\n"
     ]
    },
    {
     "name": "stdout",
     "output_type": "stream",
     "text": [
      "KITTI 全景评价结果： {'pq': 0.0, 'sq': 0.0, 'rq': 0.0, 'iou_sum': 0.0, 'tp': 0, 'fp': 3750, 'fn': 0}\n",
      "\u001b[33mAverage loss: nan\u001b[0m\n",
      "\u001b[33mEpoch took 0:00:11.130279\u001b[0m\n",
      "\u001b[33mETA: 0:09:14.378596\u001b[0m\n",
      "\u001b[34m-------------------------\u001b[0m\n",
      "\u001b[34mStarting epoch 119\u001b[0m\n"
     ]
    },
    {
     "name": "stderr",
     "output_type": "stream",
     "text": [
      "0it [00:00, ?it/s]"
     ]
    },
    {
     "name": "stdout",
     "output_type": "stream",
     "text": [
      "Learning rate is set to: 1.000e-04\n",
      "\u001b[33mModel saved for run kitti_20250417_120829\u001b[0m\n",
      "\u001b[34mDistributed evaluation on the validation set\u001b[0m\n",
      "Thresholding output\n"
     ]
    },
    {
     "name": "stderr",
     "output_type": "stream",
     "text": [
      "7it [00:03,  1.83it/s]\n",
      "7it [00:03,  1.79it/s]\n",
      "  0%|          | 0/7 [00:00<?, ?it/s]"
     ]
    },
    {
     "name": "stdout",
     "output_type": "stream",
     "text": [
      "images saved\n",
      "Evaluation for semantic segmentation - val set\n",
      "mIoU is 0.00\n"
     ]
    },
    {
     "name": "stderr",
     "output_type": "stream",
     "text": [
      "100%|██████████| 7/7 [00:03<00:00,  1.80it/s]\n",
      "100%|██████████| 7/7 [00:03<00:00,  1.76it/s]\n"
     ]
    },
    {
     "name": "stdout",
     "output_type": "stream",
     "text": [
      "KITTI 全景评价结果： {'pq': 0.0, 'sq': 0.0, 'rq': 0.0, 'iou_sum': 0.0, 'tp': 0, 'fp': 3750, 'fn': 0}\n",
      "\u001b[33mAverage loss: nan\u001b[0m\n",
      "\u001b[33mEpoch took 0:00:11.340665\u001b[0m\n",
      "\u001b[33mETA: 0:09:02.747257\u001b[0m\n",
      "\u001b[34m-------------------------\u001b[0m\n",
      "\u001b[34mStarting epoch 120\u001b[0m\n"
     ]
    },
    {
     "name": "stderr",
     "output_type": "stream",
     "text": [
      "0it [00:00, ?it/s]"
     ]
    },
    {
     "name": "stdout",
     "output_type": "stream",
     "text": [
      "Learning rate is set to: 1.000e-04\n",
      "\u001b[33mModel saved for run kitti_20250417_120829\u001b[0m\n",
      "\u001b[34mDistributed evaluation on the validation set\u001b[0m\n",
      "Thresholding output\n"
     ]
    },
    {
     "name": "stderr",
     "output_type": "stream",
     "text": [
      "7it [00:03,  1.78it/s]\n",
      "7it [00:03,  1.78it/s]\n",
      "  0%|          | 0/7 [00:00<?, ?it/s]"
     ]
    },
    {
     "name": "stdout",
     "output_type": "stream",
     "text": [
      "images saved\n",
      "Evaluation for semantic segmentation - val set\n",
      "mIoU is 0.00\n"
     ]
    },
    {
     "name": "stderr",
     "output_type": "stream",
     "text": [
      "100%|██████████| 7/7 [00:03<00:00,  1.82it/s]\n",
      "100%|██████████| 7/7 [00:03<00:00,  1.80it/s]\n"
     ]
    },
    {
     "name": "stdout",
     "output_type": "stream",
     "text": [
      "KITTI 全景评价结果： {'pq': 0.0, 'sq': 0.0, 'rq': 0.0, 'iou_sum': 0.0, 'tp': 0, 'fp': 3750, 'fn': 0}\n",
      "\u001b[33mAverage loss: nan\u001b[0m\n",
      "\u001b[33mEpoch took 0:00:11.357818\u001b[0m\n",
      "\u001b[33mETA: 0:08:51.127242\u001b[0m\n",
      "\u001b[34m-------------------------\u001b[0m\n",
      "\u001b[34mStarting epoch 121\u001b[0m\n"
     ]
    },
    {
     "name": "stderr",
     "output_type": "stream",
     "text": [
      "0it [00:00, ?it/s]"
     ]
    },
    {
     "name": "stdout",
     "output_type": "stream",
     "text": [
      "Learning rate is set to: 1.000e-04\n",
      "\u001b[33mModel saved for run kitti_20250417_120829\u001b[0m\n",
      "\u001b[34mDistributed evaluation on the validation set\u001b[0m\n",
      "Thresholding output\n"
     ]
    },
    {
     "name": "stderr",
     "output_type": "stream",
     "text": [
      "7it [00:03,  1.82it/s]\n",
      "7it [00:03,  1.80it/s]\n",
      "  0%|          | 0/7 [00:00<?, ?it/s]"
     ]
    },
    {
     "name": "stdout",
     "output_type": "stream",
     "text": [
      "images saved\n",
      "Evaluation for semantic segmentation - val set\n",
      "mIoU is 0.00\n"
     ]
    },
    {
     "name": "stderr",
     "output_type": "stream",
     "text": [
      "100%|██████████| 7/7 [00:03<00:00,  1.80it/s]\n",
      "100%|██████████| 7/7 [00:03<00:00,  1.77it/s]\n"
     ]
    },
    {
     "name": "stdout",
     "output_type": "stream",
     "text": [
      "KITTI 全景评价结果： {'pq': 0.0, 'sq': 0.0, 'rq': 0.0, 'iou_sum': 0.0, 'tp': 0, 'fp': 3750, 'fn': 0}\n",
      "\u001b[33mAverage loss: nan\u001b[0m\n",
      "\u001b[33mEpoch took 0:00:11.316278\u001b[0m\n",
      "\u001b[33mETA: 0:08:39.496201\u001b[0m\n",
      "\u001b[34m-------------------------\u001b[0m\n",
      "\u001b[34mStarting epoch 122\u001b[0m\n"
     ]
    },
    {
     "name": "stderr",
     "output_type": "stream",
     "text": [
      "0it [00:00, ?it/s]"
     ]
    },
    {
     "name": "stdout",
     "output_type": "stream",
     "text": [
      "Learning rate is set to: 1.000e-04\n",
      "\u001b[33mModel saved for run kitti_20250417_120829\u001b[0m\n",
      "\u001b[34mDistributed evaluation on the validation set\u001b[0m\n",
      "Thresholding output\n"
     ]
    },
    {
     "name": "stderr",
     "output_type": "stream",
     "text": [
      "7it [00:03,  1.78it/s]\n",
      "7it [00:03,  1.79it/s]\n",
      "  0%|          | 0/7 [00:00<?, ?it/s]"
     ]
    },
    {
     "name": "stdout",
     "output_type": "stream",
     "text": [
      "images saved\n",
      "Evaluation for semantic segmentation - val set\n",
      "mIoU is 0.00\n"
     ]
    },
    {
     "name": "stderr",
     "output_type": "stream",
     "text": [
      "100%|██████████| 7/7 [00:03<00:00,  1.84it/s]\n",
      "100%|██████████| 7/7 [00:03<00:00,  1.82it/s]\n"
     ]
    },
    {
     "name": "stdout",
     "output_type": "stream",
     "text": [
      "KITTI 全景评价结果： {'pq': 0.0, 'sq': 0.0, 'rq': 0.0, 'iou_sum': 0.0, 'tp': 0, 'fp': 3750, 'fn': 0}\n",
      "\u001b[33mAverage loss: nan\u001b[0m\n",
      "\u001b[33mEpoch took 0:00:11.343848\u001b[0m\n",
      "\u001b[33mETA: 0:08:27.880139\u001b[0m\n",
      "\u001b[34m-------------------------\u001b[0m\n",
      "\u001b[34mStarting epoch 123\u001b[0m\n"
     ]
    },
    {
     "name": "stderr",
     "output_type": "stream",
     "text": [
      "0it [00:00, ?it/s]"
     ]
    },
    {
     "name": "stdout",
     "output_type": "stream",
     "text": [
      "Learning rate is set to: 1.000e-04\n",
      "\u001b[33mModel saved for run kitti_20250417_120829\u001b[0m\n",
      "\u001b[34mDistributed evaluation on the validation set\u001b[0m\n",
      "Thresholding output\n"
     ]
    },
    {
     "name": "stderr",
     "output_type": "stream",
     "text": [
      "7it [00:03,  1.83it/s]\n",
      "7it [00:03,  1.84it/s]\n",
      "  0%|          | 0/7 [00:00<?, ?it/s]"
     ]
    },
    {
     "name": "stdout",
     "output_type": "stream",
     "text": [
      "images saved\n",
      "Evaluation for semantic segmentation - val set\n",
      "mIoU is 0.00\n"
     ]
    },
    {
     "name": "stderr",
     "output_type": "stream",
     "text": [
      "100%|██████████| 7/7 [00:03<00:00,  1.83it/s]\n",
      "100%|██████████| 7/7 [00:03<00:00,  1.82it/s]\n"
     ]
    },
    {
     "name": "stdout",
     "output_type": "stream",
     "text": [
      "KITTI 全景评价结果： {'pq': 0.0, 'sq': 0.0, 'rq': 0.0, 'iou_sum': 0.0, 'tp': 0, 'fp': 3750, 'fn': 0}\n",
      "\u001b[33mAverage loss: nan\u001b[0m\n",
      "\u001b[33mEpoch took 0:00:11.100401\u001b[0m\n",
      "\u001b[33mETA: 0:08:16.184045\u001b[0m\n",
      "\u001b[34m-------------------------\u001b[0m\n",
      "\u001b[34mStarting epoch 124\u001b[0m\n"
     ]
    },
    {
     "name": "stderr",
     "output_type": "stream",
     "text": [
      "0it [00:00, ?it/s]"
     ]
    },
    {
     "name": "stdout",
     "output_type": "stream",
     "text": [
      "Learning rate is set to: 1.000e-04\n",
      "\u001b[33mModel saved for run kitti_20250417_120829\u001b[0m\n",
      "\u001b[34mDistributed evaluation on the validation set\u001b[0m\n",
      "Thresholding output\n"
     ]
    },
    {
     "name": "stderr",
     "output_type": "stream",
     "text": [
      "7it [00:03,  1.80it/s]\n",
      "7it [00:03,  1.75it/s]\n",
      "  0%|          | 0/7 [00:00<?, ?it/s]"
     ]
    },
    {
     "name": "stdout",
     "output_type": "stream",
     "text": [
      "images saved\n",
      "Evaluation for semantic segmentation - val set\n",
      "mIoU is 0.00\n"
     ]
    },
    {
     "name": "stderr",
     "output_type": "stream",
     "text": [
      "100%|██████████| 7/7 [00:03<00:00,  1.77it/s]\n",
      "100%|██████████| 7/7 [00:03<00:00,  1.75it/s]\n"
     ]
    },
    {
     "name": "stdout",
     "output_type": "stream",
     "text": [
      "KITTI 全景评价结果： {'pq': 0.0, 'sq': 0.0, 'rq': 0.0, 'iou_sum': 0.0, 'tp': 0, 'fp': 3750, 'fn': 0}\n",
      "\u001b[33mAverage loss: nan\u001b[0m\n",
      "\u001b[33mEpoch took 0:00:11.526019\u001b[0m\n",
      "\u001b[33mETA: 0:08:04.640489\u001b[0m\n",
      "\u001b[34m-------------------------\u001b[0m\n",
      "\u001b[34mStarting epoch 125\u001b[0m\n"
     ]
    },
    {
     "name": "stderr",
     "output_type": "stream",
     "text": [
      "0it [00:00, ?it/s]"
     ]
    },
    {
     "name": "stdout",
     "output_type": "stream",
     "text": [
      "Learning rate is set to: 1.000e-04\n",
      "\u001b[33mModel saved for run kitti_20250417_120829\u001b[0m\n",
      "\u001b[34mDistributed evaluation on the validation set\u001b[0m\n",
      "Thresholding output\n"
     ]
    },
    {
     "name": "stderr",
     "output_type": "stream",
     "text": [
      "7it [00:03,  1.85it/s]\n",
      "7it [00:03,  1.85it/s]\n",
      "  0%|          | 0/7 [00:00<?, ?it/s]"
     ]
    },
    {
     "name": "stdout",
     "output_type": "stream",
     "text": [
      "images saved\n",
      "Evaluation for semantic segmentation - val set\n",
      "mIoU is 0.00\n"
     ]
    },
    {
     "name": "stderr",
     "output_type": "stream",
     "text": [
      "100%|██████████| 7/7 [00:03<00:00,  1.81it/s]\n",
      "100%|██████████| 7/7 [00:03<00:00,  1.80it/s]\n"
     ]
    },
    {
     "name": "stdout",
     "output_type": "stream",
     "text": [
      "KITTI 全景评价结果： {'pq': 0.0, 'sq': 0.0, 'rq': 0.0, 'iou_sum': 0.0, 'tp': 0, 'fp': 3750, 'fn': 0}\n",
      "\u001b[33mAverage loss: nan\u001b[0m\n",
      "\u001b[33mEpoch took 0:00:11.284432\u001b[0m\n",
      "\u001b[33mETA: 0:07:53.018600\u001b[0m\n",
      "\u001b[34m-------------------------\u001b[0m\n",
      "\u001b[34mStarting epoch 126\u001b[0m\n"
     ]
    },
    {
     "name": "stderr",
     "output_type": "stream",
     "text": [
      "0it [00:00, ?it/s]"
     ]
    },
    {
     "name": "stdout",
     "output_type": "stream",
     "text": [
      "Learning rate is set to: 1.000e-04\n",
      "\u001b[33mModel saved for run kitti_20250417_120829\u001b[0m\n",
      "\u001b[34mDistributed evaluation on the validation set\u001b[0m\n",
      "Thresholding output\n"
     ]
    },
    {
     "name": "stderr",
     "output_type": "stream",
     "text": [
      "7it [00:03,  1.77it/s]\n",
      "7it [00:04,  1.74it/s]\n",
      "  0%|          | 0/7 [00:00<?, ?it/s]"
     ]
    },
    {
     "name": "stdout",
     "output_type": "stream",
     "text": [
      "images saved\n",
      "Evaluation for semantic segmentation - val set\n",
      "mIoU is 0.00\n"
     ]
    },
    {
     "name": "stderr",
     "output_type": "stream",
     "text": [
      "100%|██████████| 7/7 [00:03<00:00,  1.82it/s]\n",
      "100%|██████████| 7/7 [00:03<00:00,  1.81it/s]\n"
     ]
    },
    {
     "name": "stdout",
     "output_type": "stream",
     "text": [
      "KITTI 全景评价结果： {'pq': 0.0, 'sq': 0.0, 'rq': 0.0, 'iou_sum': 0.0, 'tp': 0, 'fp': 3750, 'fn': 0}\n",
      "\u001b[33mAverage loss: nan\u001b[0m\n",
      "\u001b[33mEpoch took 0:00:11.536708\u001b[0m\n",
      "\u001b[33mETA: 0:07:41.481480\u001b[0m\n",
      "\u001b[34m-------------------------\u001b[0m\n",
      "\u001b[34mStarting epoch 127\u001b[0m\n"
     ]
    },
    {
     "name": "stderr",
     "output_type": "stream",
     "text": [
      "0it [00:00, ?it/s]"
     ]
    },
    {
     "name": "stdout",
     "output_type": "stream",
     "text": [
      "Learning rate is set to: 1.000e-04\n",
      "\u001b[33mModel saved for run kitti_20250417_120829\u001b[0m\n",
      "\u001b[34mDistributed evaluation on the validation set\u001b[0m\n",
      "Thresholding output\n"
     ]
    },
    {
     "name": "stderr",
     "output_type": "stream",
     "text": [
      "7it [00:03,  1.79it/s]\n",
      "7it [00:03,  1.81it/s]\n",
      "  0%|          | 0/7 [00:00<?, ?it/s]"
     ]
    },
    {
     "name": "stdout",
     "output_type": "stream",
     "text": [
      "images saved\n",
      "Evaluation for semantic segmentation - val set\n",
      "mIoU is 0.00\n"
     ]
    },
    {
     "name": "stderr",
     "output_type": "stream",
     "text": [
      "100%|██████████| 7/7 [00:03<00:00,  1.84it/s]\n",
      "100%|██████████| 7/7 [00:03<00:00,  1.83it/s]\n"
     ]
    },
    {
     "name": "stdout",
     "output_type": "stream",
     "text": [
      "KITTI 全景评价结果： {'pq': 0.0, 'sq': 0.0, 'rq': 0.0, 'iou_sum': 0.0, 'tp': 0, 'fp': 3750, 'fn': 0}\n",
      "\u001b[33mAverage loss: nan\u001b[0m\n",
      "\u001b[33mEpoch took 0:00:11.166235\u001b[0m\n",
      "\u001b[33mETA: 0:07:29.831485\u001b[0m\n",
      "\u001b[34m-------------------------\u001b[0m\n",
      "\u001b[34mStarting epoch 128\u001b[0m\n"
     ]
    },
    {
     "name": "stderr",
     "output_type": "stream",
     "text": [
      "0it [00:00, ?it/s]"
     ]
    },
    {
     "name": "stdout",
     "output_type": "stream",
     "text": [
      "Learning rate is set to: 1.000e-04\n",
      "\u001b[33mModel saved for run kitti_20250417_120829\u001b[0m\n",
      "\u001b[34mDistributed evaluation on the validation set\u001b[0m\n",
      "Thresholding output\n"
     ]
    },
    {
     "name": "stderr",
     "output_type": "stream",
     "text": [
      "7it [00:03,  1.84it/s]\n",
      "7it [00:03,  1.80it/s]\n",
      "  0%|          | 0/7 [00:00<?, ?it/s]"
     ]
    },
    {
     "name": "stdout",
     "output_type": "stream",
     "text": [
      "images saved\n",
      "Evaluation for semantic segmentation - val set\n",
      "mIoU is 0.00\n"
     ]
    },
    {
     "name": "stderr",
     "output_type": "stream",
     "text": [
      "100%|██████████| 7/7 [00:03<00:00,  1.82it/s]\n",
      "100%|██████████| 7/7 [00:03<00:00,  1.81it/s]\n"
     ]
    },
    {
     "name": "stdout",
     "output_type": "stream",
     "text": [
      "KITTI 全景评价结果： {'pq': 0.0, 'sq': 0.0, 'rq': 0.0, 'iou_sum': 0.0, 'tp': 0, 'fp': 3750, 'fn': 0}\n",
      "\u001b[33mAverage loss: nan\u001b[0m\n",
      "\u001b[33mEpoch took 0:00:11.202084\u001b[0m\n",
      "\u001b[33mETA: 0:07:18.199550\u001b[0m\n",
      "\u001b[34m-------------------------\u001b[0m\n",
      "\u001b[34mStarting epoch 129\u001b[0m\n"
     ]
    },
    {
     "name": "stderr",
     "output_type": "stream",
     "text": [
      "0it [00:00, ?it/s]"
     ]
    },
    {
     "name": "stdout",
     "output_type": "stream",
     "text": [
      "Learning rate is set to: 1.000e-04\n",
      "\u001b[33mModel saved for run kitti_20250417_120829\u001b[0m\n",
      "\u001b[34mDistributed evaluation on the validation set\u001b[0m\n",
      "Thresholding output\n"
     ]
    },
    {
     "name": "stderr",
     "output_type": "stream",
     "text": [
      "7it [00:03,  1.83it/s]\n",
      "7it [00:03,  1.81it/s]\n",
      "  0%|          | 0/7 [00:00<?, ?it/s]"
     ]
    },
    {
     "name": "stdout",
     "output_type": "stream",
     "text": [
      "images saved\n",
      "Evaluation for semantic segmentation - val set\n",
      "mIoU is 0.00\n"
     ]
    },
    {
     "name": "stderr",
     "output_type": "stream",
     "text": [
      "100%|██████████| 7/7 [00:03<00:00,  1.83it/s]\n",
      "100%|██████████| 7/7 [00:03<00:00,  1.82it/s]\n"
     ]
    },
    {
     "name": "stdout",
     "output_type": "stream",
     "text": [
      "KITTI 全景评价结果： {'pq': 0.0, 'sq': 0.0, 'rq': 0.0, 'iou_sum': 0.0, 'tp': 0, 'fp': 3750, 'fn': 0}\n",
      "\u001b[33mAverage loss: nan\u001b[0m\n",
      "\u001b[33mEpoch took 0:00:11.228292\u001b[0m\n",
      "\u001b[33mETA: 0:07:06.581686\u001b[0m\n",
      "\u001b[34m-------------------------\u001b[0m\n",
      "\u001b[34mStarting epoch 130\u001b[0m\n"
     ]
    },
    {
     "name": "stderr",
     "output_type": "stream",
     "text": [
      "0it [00:00, ?it/s]"
     ]
    },
    {
     "name": "stdout",
     "output_type": "stream",
     "text": [
      "Learning rate is set to: 1.000e-04\n",
      "\u001b[33mModel saved for run kitti_20250417_120829\u001b[0m\n",
      "\u001b[34mDistributed evaluation on the validation set\u001b[0m\n",
      "Thresholding output\n"
     ]
    },
    {
     "name": "stderr",
     "output_type": "stream",
     "text": [
      "7it [00:03,  1.77it/s]\n",
      "7it [00:03,  1.79it/s]\n",
      "  0%|          | 0/7 [00:00<?, ?it/s]"
     ]
    },
    {
     "name": "stdout",
     "output_type": "stream",
     "text": [
      "images saved\n",
      "Evaluation for semantic segmentation - val set\n",
      "mIoU is 0.00\n"
     ]
    },
    {
     "name": "stderr",
     "output_type": "stream",
     "text": [
      "100%|██████████| 7/7 [00:03<00:00,  1.83it/s]\n",
      "100%|██████████| 7/7 [00:03<00:00,  1.81it/s]\n"
     ]
    },
    {
     "name": "stdout",
     "output_type": "stream",
     "text": [
      "KITTI 全景评价结果： {'pq': 0.0, 'sq': 0.0, 'rq': 0.0, 'iou_sum': 0.0, 'tp': 0, 'fp': 3750, 'fn': 0}\n",
      "\u001b[33mAverage loss: nan\u001b[0m\n",
      "\u001b[33mEpoch took 0:00:11.274863\u001b[0m\n",
      "\u001b[33mETA: 0:06:54.982567\u001b[0m\n",
      "\u001b[34m-------------------------\u001b[0m\n",
      "\u001b[34mStarting epoch 131\u001b[0m\n"
     ]
    },
    {
     "name": "stderr",
     "output_type": "stream",
     "text": [
      "0it [00:00, ?it/s]"
     ]
    },
    {
     "name": "stdout",
     "output_type": "stream",
     "text": [
      "Learning rate is set to: 1.000e-04\n",
      "\u001b[33mModel saved for run kitti_20250417_120829\u001b[0m\n",
      "\u001b[34mDistributed evaluation on the validation set\u001b[0m\n",
      "Thresholding output\n"
     ]
    },
    {
     "name": "stderr",
     "output_type": "stream",
     "text": [
      "7it [00:03,  1.82it/s]\n",
      "7it [00:03,  1.83it/s]\n",
      "  0%|          | 0/7 [00:00<?, ?it/s]"
     ]
    },
    {
     "name": "stdout",
     "output_type": "stream",
     "text": [
      "images saved\n",
      "Evaluation for semantic segmentation - val set\n",
      "mIoU is 0.00\n"
     ]
    },
    {
     "name": "stderr",
     "output_type": "stream",
     "text": [
      "100%|██████████| 7/7 [00:03<00:00,  1.81it/s]\n",
      "100%|██████████| 7/7 [00:03<00:00,  1.81it/s]\n"
     ]
    },
    {
     "name": "stdout",
     "output_type": "stream",
     "text": [
      "KITTI 全景评价结果： {'pq': 0.0, 'sq': 0.0, 'rq': 0.0, 'iou_sum': 0.0, 'tp': 0, 'fp': 3750, 'fn': 0}\n",
      "\u001b[33mAverage loss: nan\u001b[0m\n",
      "\u001b[33mEpoch took 0:00:11.283652\u001b[0m\n",
      "\u001b[33mETA: 0:06:43.390689\u001b[0m\n",
      "\u001b[34m-------------------------\u001b[0m\n",
      "\u001b[34mStarting epoch 132\u001b[0m\n"
     ]
    },
    {
     "name": "stderr",
     "output_type": "stream",
     "text": [
      "0it [00:00, ?it/s]"
     ]
    },
    {
     "name": "stdout",
     "output_type": "stream",
     "text": [
      "Learning rate is set to: 1.000e-04\n",
      "\u001b[33mModel saved for run kitti_20250417_120829\u001b[0m\n",
      "\u001b[34mDistributed evaluation on the validation set\u001b[0m\n",
      "Thresholding output\n"
     ]
    },
    {
     "name": "stderr",
     "output_type": "stream",
     "text": [
      "7it [00:03,  1.83it/s]\n",
      "7it [00:03,  1.81it/s]\n",
      "  0%|          | 0/7 [00:00<?, ?it/s]"
     ]
    },
    {
     "name": "stdout",
     "output_type": "stream",
     "text": [
      "images saved\n",
      "Evaluation for semantic segmentation - val set\n",
      "mIoU is 0.00\n"
     ]
    },
    {
     "name": "stderr",
     "output_type": "stream",
     "text": [
      "100%|██████████| 7/7 [00:03<00:00,  1.82it/s]\n",
      "100%|██████████| 7/7 [00:03<00:00,  1.80it/s]\n"
     ]
    },
    {
     "name": "stdout",
     "output_type": "stream",
     "text": [
      "KITTI 全景评价结果： {'pq': 0.0, 'sq': 0.0, 'rq': 0.0, 'iou_sum': 0.0, 'tp': 0, 'fp': 3750, 'fn': 0}\n",
      "\u001b[33mAverage loss: nan\u001b[0m\n",
      "\u001b[33mEpoch took 0:00:11.361031\u001b[0m\n",
      "\u001b[33mETA: 0:06:31.823227\u001b[0m\n",
      "\u001b[34m-------------------------\u001b[0m\n",
      "\u001b[34mStarting epoch 133\u001b[0m\n"
     ]
    },
    {
     "name": "stderr",
     "output_type": "stream",
     "text": [
      "0it [00:00, ?it/s]"
     ]
    },
    {
     "name": "stdout",
     "output_type": "stream",
     "text": [
      "Learning rate is set to: 1.000e-04\n",
      "\u001b[33mModel saved for run kitti_20250417_120829\u001b[0m\n",
      "\u001b[34mDistributed evaluation on the validation set\u001b[0m\n",
      "Thresholding output\n"
     ]
    },
    {
     "name": "stderr",
     "output_type": "stream",
     "text": [
      "7it [00:03,  1.81it/s]\n",
      "7it [00:03,  1.78it/s]\n",
      "  0%|          | 0/7 [00:00<?, ?it/s]"
     ]
    },
    {
     "name": "stdout",
     "output_type": "stream",
     "text": [
      "images saved\n",
      "Evaluation for semantic segmentation - val set\n",
      "mIoU is 0.00\n"
     ]
    },
    {
     "name": "stderr",
     "output_type": "stream",
     "text": [
      "100%|██████████| 7/7 [00:03<00:00,  1.81it/s]\n",
      "100%|██████████| 7/7 [00:03<00:00,  1.80it/s]\n"
     ]
    },
    {
     "name": "stdout",
     "output_type": "stream",
     "text": [
      "KITTI 全景评价结果： {'pq': 0.0, 'sq': 0.0, 'rq': 0.0, 'iou_sum': 0.0, 'tp': 0, 'fp': 3750, 'fn': 0}\n",
      "\u001b[33mAverage loss: nan\u001b[0m\n",
      "\u001b[33mEpoch took 0:00:11.411639\u001b[0m\n",
      "\u001b[33mETA: 0:06:20.271308\u001b[0m\n",
      "\u001b[34m-------------------------\u001b[0m\n",
      "\u001b[34mStarting epoch 134\u001b[0m\n"
     ]
    },
    {
     "name": "stderr",
     "output_type": "stream",
     "text": [
      "0it [00:00, ?it/s]"
     ]
    },
    {
     "name": "stdout",
     "output_type": "stream",
     "text": [
      "Learning rate is set to: 1.000e-04\n",
      "\u001b[33mModel saved for run kitti_20250417_120829\u001b[0m\n",
      "\u001b[34mDistributed evaluation on the validation set\u001b[0m\n",
      "Thresholding output\n"
     ]
    },
    {
     "name": "stderr",
     "output_type": "stream",
     "text": [
      "7it [00:03,  1.82it/s]\n",
      "7it [00:03,  1.83it/s]\n",
      "  0%|          | 0/7 [00:00<?, ?it/s]"
     ]
    },
    {
     "name": "stdout",
     "output_type": "stream",
     "text": [
      "images saved\n",
      "Evaluation for semantic segmentation - val set\n",
      "mIoU is 0.00\n"
     ]
    },
    {
     "name": "stderr",
     "output_type": "stream",
     "text": [
      "100%|██████████| 7/7 [00:04<00:00,  1.75it/s]\n",
      "100%|██████████| 7/7 [00:04<00:00,  1.74it/s]\n"
     ]
    },
    {
     "name": "stdout",
     "output_type": "stream",
     "text": [
      "KITTI 全景评价结果： {'pq': 0.0, 'sq': 0.0, 'rq': 0.0, 'iou_sum': 0.0, 'tp': 0, 'fp': 3750, 'fn': 0}\n",
      "\u001b[33mAverage loss: nan\u001b[0m\n",
      "\u001b[33mEpoch took 0:00:11.420083\u001b[0m\n",
      "\u001b[33mETA: 0:06:08.723469\u001b[0m\n",
      "\u001b[34m-------------------------\u001b[0m\n",
      "\u001b[34mStarting epoch 135\u001b[0m\n"
     ]
    },
    {
     "name": "stderr",
     "output_type": "stream",
     "text": [
      "0it [00:00, ?it/s]"
     ]
    },
    {
     "name": "stdout",
     "output_type": "stream",
     "text": [
      "Learning rate is set to: 1.000e-04\n",
      "\u001b[33mModel saved for run kitti_20250417_120829\u001b[0m\n",
      "\u001b[34mDistributed evaluation on the validation set\u001b[0m\n",
      "Thresholding output\n"
     ]
    },
    {
     "name": "stderr",
     "output_type": "stream",
     "text": [
      "7it [00:03,  1.79it/s]\n",
      "7it [00:03,  1.78it/s]\n",
      "  0%|          | 0/7 [00:00<?, ?it/s]"
     ]
    },
    {
     "name": "stdout",
     "output_type": "stream",
     "text": [
      "images saved\n",
      "Evaluation for semantic segmentation - val set\n",
      "mIoU is 0.00\n"
     ]
    },
    {
     "name": "stderr",
     "output_type": "stream",
     "text": [
      "100%|██████████| 7/7 [00:03<00:00,  1.83it/s]\n",
      "100%|██████████| 7/7 [00:03<00:00,  1.79it/s]\n"
     ]
    },
    {
     "name": "stdout",
     "output_type": "stream",
     "text": [
      "KITTI 全景评价结果： {'pq': 0.0, 'sq': 0.0, 'rq': 0.0, 'iou_sum': 0.0, 'tp': 0, 'fp': 3750, 'fn': 0}\n",
      "\u001b[33mAverage loss: nan\u001b[0m\n",
      "\u001b[33mEpoch took 0:00:11.426067\u001b[0m\n",
      "\u001b[33mETA: 0:05:57.178872\u001b[0m\n",
      "\u001b[34m-------------------------\u001b[0m\n",
      "\u001b[34mStarting epoch 136\u001b[0m\n"
     ]
    },
    {
     "name": "stderr",
     "output_type": "stream",
     "text": [
      "0it [00:00, ?it/s]"
     ]
    },
    {
     "name": "stdout",
     "output_type": "stream",
     "text": [
      "Learning rate is set to: 1.000e-04\n",
      "\u001b[33mModel saved for run kitti_20250417_120829\u001b[0m\n",
      "\u001b[34mDistributed evaluation on the validation set\u001b[0m\n",
      "Thresholding output\n"
     ]
    },
    {
     "name": "stderr",
     "output_type": "stream",
     "text": [
      "7it [00:03,  1.80it/s]\n",
      "7it [00:03,  1.80it/s]\n",
      "  0%|          | 0/7 [00:00<?, ?it/s]"
     ]
    },
    {
     "name": "stdout",
     "output_type": "stream",
     "text": [
      "images saved\n",
      "Evaluation for semantic segmentation - val set\n",
      "mIoU is 0.00\n"
     ]
    },
    {
     "name": "stderr",
     "output_type": "stream",
     "text": [
      "100%|██████████| 7/7 [00:03<00:00,  1.79it/s]\n",
      "100%|██████████| 7/7 [00:03<00:00,  1.76it/s]\n"
     ]
    },
    {
     "name": "stdout",
     "output_type": "stream",
     "text": [
      "KITTI 全景评价结果： {'pq': 0.0, 'sq': 0.0, 'rq': 0.0, 'iou_sum': 0.0, 'tp': 0, 'fp': 3750, 'fn': 0}\n",
      "\u001b[33mAverage loss: nan\u001b[0m\n",
      "\u001b[33mEpoch took 0:00:11.424321\u001b[0m\n",
      "\u001b[33mETA: 0:05:45.635621\u001b[0m\n",
      "\u001b[34m-------------------------\u001b[0m\n",
      "\u001b[34mStarting epoch 137\u001b[0m\n"
     ]
    },
    {
     "name": "stderr",
     "output_type": "stream",
     "text": [
      "0it [00:00, ?it/s]"
     ]
    },
    {
     "name": "stdout",
     "output_type": "stream",
     "text": [
      "Learning rate is set to: 1.000e-04\n",
      "\u001b[33mModel saved for run kitti_20250417_120829\u001b[0m\n",
      "\u001b[34mDistributed evaluation on the validation set\u001b[0m\n",
      "Thresholding output\n"
     ]
    },
    {
     "name": "stderr",
     "output_type": "stream",
     "text": [
      "7it [00:03,  1.83it/s]\n",
      "7it [00:03,  1.83it/s]\n",
      "  0%|          | 0/7 [00:00<?, ?it/s]"
     ]
    },
    {
     "name": "stdout",
     "output_type": "stream",
     "text": [
      "images saved\n",
      "Evaluation for semantic segmentation - val set\n",
      "mIoU is 0.00\n"
     ]
    },
    {
     "name": "stderr",
     "output_type": "stream",
     "text": [
      "100%|██████████| 7/7 [00:03<00:00,  1.79it/s]\n",
      "100%|██████████| 7/7 [00:03<00:00,  1.77it/s]\n"
     ]
    },
    {
     "name": "stdout",
     "output_type": "stream",
     "text": [
      "KITTI 全景评价结果： {'pq': 0.0, 'sq': 0.0, 'rq': 0.0, 'iou_sum': 0.0, 'tp': 0, 'fp': 3750, 'fn': 0}\n",
      "\u001b[33mAverage loss: nan\u001b[0m\n",
      "\u001b[33mEpoch took 0:00:11.201848\u001b[0m\n",
      "\u001b[33mETA: 0:05:34.047343\u001b[0m\n",
      "\u001b[34m-------------------------\u001b[0m\n",
      "\u001b[34mStarting epoch 138\u001b[0m\n"
     ]
    },
    {
     "name": "stderr",
     "output_type": "stream",
     "text": [
      "0it [00:00, ?it/s]"
     ]
    },
    {
     "name": "stdout",
     "output_type": "stream",
     "text": [
      "Learning rate is set to: 1.000e-04\n",
      "\u001b[33mModel saved for run kitti_20250417_120829\u001b[0m\n",
      "\u001b[34mDistributed evaluation on the validation set\u001b[0m\n",
      "Thresholding output\n"
     ]
    },
    {
     "name": "stderr",
     "output_type": "stream",
     "text": [
      "7it [00:03,  1.83it/s]\n",
      "7it [00:03,  1.81it/s]\n",
      "  0%|          | 0/7 [00:00<?, ?it/s]"
     ]
    },
    {
     "name": "stdout",
     "output_type": "stream",
     "text": [
      "images saved\n",
      "Evaluation for semantic segmentation - val set\n",
      "mIoU is 0.00\n"
     ]
    },
    {
     "name": "stderr",
     "output_type": "stream",
     "text": [
      "100%|██████████| 7/7 [00:03<00:00,  1.80it/s]\n",
      "100%|██████████| 7/7 [00:03<00:00,  1.78it/s]\n"
     ]
    },
    {
     "name": "stdout",
     "output_type": "stream",
     "text": [
      "KITTI 全景评价结果： {'pq': 0.0, 'sq': 0.0, 'rq': 0.0, 'iou_sum': 0.0, 'tp': 0, 'fp': 3750, 'fn': 0}\n",
      "\u001b[33mAverage loss: nan\u001b[0m\n",
      "\u001b[33mEpoch took 0:00:11.379581\u001b[0m\n",
      "\u001b[33mETA: 0:05:22.500425\u001b[0m\n",
      "\u001b[34m-------------------------\u001b[0m\n",
      "\u001b[34mStarting epoch 139\u001b[0m\n"
     ]
    },
    {
     "name": "stderr",
     "output_type": "stream",
     "text": [
      "0it [00:00, ?it/s]"
     ]
    },
    {
     "name": "stdout",
     "output_type": "stream",
     "text": [
      "Learning rate is set to: 1.000e-04\n",
      "\u001b[33mModel saved for run kitti_20250417_120829\u001b[0m\n",
      "\u001b[34mDistributed evaluation on the validation set\u001b[0m\n",
      "Thresholding output\n"
     ]
    },
    {
     "name": "stderr",
     "output_type": "stream",
     "text": [
      "7it [00:03,  1.82it/s]\n",
      "7it [00:03,  1.80it/s]\n",
      "  0%|          | 0/7 [00:00<?, ?it/s]"
     ]
    },
    {
     "name": "stdout",
     "output_type": "stream",
     "text": [
      "images saved\n",
      "Evaluation for semantic segmentation - val set\n",
      "mIoU is 0.00\n"
     ]
    },
    {
     "name": "stderr",
     "output_type": "stream",
     "text": [
      "100%|██████████| 7/7 [00:03<00:00,  1.87it/s]\n",
      "100%|██████████| 7/7 [00:03<00:00,  1.84it/s]\n"
     ]
    },
    {
     "name": "stdout",
     "output_type": "stream",
     "text": [
      "KITTI 全景评价结果： {'pq': 0.0, 'sq': 0.0, 'rq': 0.0, 'iou_sum': 0.0, 'tp': 0, 'fp': 3750, 'fn': 0}\n",
      "\u001b[33mAverage loss: nan\u001b[0m\n",
      "\u001b[33mEpoch took 0:00:11.219287\u001b[0m\n",
      "\u001b[33mETA: 0:05:10.924984\u001b[0m\n",
      "\u001b[34m-------------------------\u001b[0m\n",
      "\u001b[34mStarting epoch 140\u001b[0m\n"
     ]
    },
    {
     "name": "stderr",
     "output_type": "stream",
     "text": [
      "0it [00:00, ?it/s]"
     ]
    },
    {
     "name": "stdout",
     "output_type": "stream",
     "text": [
      "Learning rate is set to: 1.000e-04\n",
      "\u001b[33mModel saved for run kitti_20250417_120829\u001b[0m\n",
      "\u001b[34mDistributed evaluation on the validation set\u001b[0m\n",
      "Thresholding output\n"
     ]
    },
    {
     "name": "stderr",
     "output_type": "stream",
     "text": [
      "7it [00:03,  1.81it/s]\n",
      "7it [00:03,  1.76it/s]\n",
      "  0%|          | 0/7 [00:00<?, ?it/s]"
     ]
    },
    {
     "name": "stdout",
     "output_type": "stream",
     "text": [
      "images saved\n",
      "Evaluation for semantic segmentation - val set\n",
      "mIoU is 0.00\n"
     ]
    },
    {
     "name": "stderr",
     "output_type": "stream",
     "text": [
      "100%|██████████| 7/7 [00:03<00:00,  1.83it/s]\n",
      "100%|██████████| 7/7 [00:03<00:00,  1.81it/s]\n"
     ]
    },
    {
     "name": "stdout",
     "output_type": "stream",
     "text": [
      "KITTI 全景评价结果： {'pq': 0.0, 'sq': 0.0, 'rq': 0.0, 'iou_sum': 0.0, 'tp': 0, 'fp': 3750, 'fn': 0}\n",
      "\u001b[33mAverage loss: nan\u001b[0m\n",
      "\u001b[33mEpoch took 0:00:11.263268\u001b[0m\n",
      "\u001b[33mETA: 0:04:59.362708\u001b[0m\n",
      "\u001b[34m-------------------------\u001b[0m\n",
      "\u001b[34mStarting epoch 141\u001b[0m\n"
     ]
    },
    {
     "name": "stderr",
     "output_type": "stream",
     "text": [
      "0it [00:00, ?it/s]"
     ]
    },
    {
     "name": "stdout",
     "output_type": "stream",
     "text": [
      "Learning rate is set to: 1.000e-04\n",
      "\u001b[33mModel saved for run kitti_20250417_120829\u001b[0m\n",
      "\u001b[34mDistributed evaluation on the validation set\u001b[0m\n",
      "Thresholding output\n"
     ]
    },
    {
     "name": "stderr",
     "output_type": "stream",
     "text": [
      "7it [00:03,  1.83it/s]\n",
      "7it [00:03,  1.83it/s]\n",
      "  0%|          | 0/7 [00:00<?, ?it/s]"
     ]
    },
    {
     "name": "stdout",
     "output_type": "stream",
     "text": [
      "images saved\n",
      "Evaluation for semantic segmentation - val set\n",
      "mIoU is 0.00\n"
     ]
    },
    {
     "name": "stderr",
     "output_type": "stream",
     "text": [
      "100%|██████████| 7/7 [00:03<00:00,  1.81it/s]\n",
      "100%|██████████| 7/7 [00:03<00:00,  1.80it/s]\n"
     ]
    },
    {
     "name": "stdout",
     "output_type": "stream",
     "text": [
      "KITTI 全景评价结果： {'pq': 0.0, 'sq': 0.0, 'rq': 0.0, 'iou_sum': 0.0, 'tp': 0, 'fp': 3750, 'fn': 0}\n",
      "\u001b[33mAverage loss: nan\u001b[0m\n",
      "\u001b[33mEpoch took 0:00:11.195582\u001b[0m\n",
      "\u001b[33mETA: 0:04:47.792719\u001b[0m\n",
      "\u001b[34m-------------------------\u001b[0m\n",
      "\u001b[34mStarting epoch 142\u001b[0m\n"
     ]
    },
    {
     "name": "stderr",
     "output_type": "stream",
     "text": [
      "0it [00:00, ?it/s]"
     ]
    },
    {
     "name": "stdout",
     "output_type": "stream",
     "text": [
      "Learning rate is set to: 1.000e-04\n",
      "\u001b[33mModel saved for run kitti_20250417_120829\u001b[0m\n",
      "\u001b[34mDistributed evaluation on the validation set\u001b[0m\n",
      "Thresholding output\n"
     ]
    },
    {
     "name": "stderr",
     "output_type": "stream",
     "text": [
      "7it [00:03,  1.80it/s]\n",
      "7it [00:04,  1.74it/s]\n",
      "  0%|          | 0/7 [00:00<?, ?it/s]"
     ]
    },
    {
     "name": "stdout",
     "output_type": "stream",
     "text": [
      "images saved\n",
      "Evaluation for semantic segmentation - val set\n",
      "mIoU is 0.00\n"
     ]
    },
    {
     "name": "stderr",
     "output_type": "stream",
     "text": [
      "100%|██████████| 7/7 [00:03<00:00,  1.77it/s]\n",
      "100%|██████████| 7/7 [00:03<00:00,  1.77it/s]\n"
     ]
    },
    {
     "name": "stdout",
     "output_type": "stream",
     "text": [
      "KITTI 全景评价结果： {'pq': 0.0, 'sq': 0.0, 'rq': 0.0, 'iou_sum': 0.0, 'tp': 0, 'fp': 3750, 'fn': 0}\n",
      "\u001b[33mAverage loss: nan\u001b[0m\n",
      "\u001b[33mEpoch took 0:00:11.529221\u001b[0m\n",
      "\u001b[33mETA: 0:04:36.283960\u001b[0m\n",
      "\u001b[34m-------------------------\u001b[0m\n",
      "\u001b[34mStarting epoch 143\u001b[0m\n"
     ]
    },
    {
     "name": "stderr",
     "output_type": "stream",
     "text": [
      "0it [00:00, ?it/s]"
     ]
    },
    {
     "name": "stdout",
     "output_type": "stream",
     "text": [
      "Learning rate is set to: 1.000e-04\n",
      "\u001b[33mModel saved for run kitti_20250417_120829\u001b[0m\n",
      "\u001b[34mDistributed evaluation on the validation set\u001b[0m\n",
      "Thresholding output\n"
     ]
    },
    {
     "name": "stderr",
     "output_type": "stream",
     "text": [
      "7it [00:03,  1.82it/s]\n",
      "7it [00:03,  1.79it/s]\n",
      "  0%|          | 0/7 [00:00<?, ?it/s]"
     ]
    },
    {
     "name": "stdout",
     "output_type": "stream",
     "text": [
      "images saved\n",
      "Evaluation for semantic segmentation - val set\n",
      "mIoU is 0.00\n"
     ]
    },
    {
     "name": "stderr",
     "output_type": "stream",
     "text": [
      "100%|██████████| 7/7 [00:03<00:00,  1.83it/s]\n",
      "100%|██████████| 7/7 [00:03<00:00,  1.82it/s]\n"
     ]
    },
    {
     "name": "stdout",
     "output_type": "stream",
     "text": [
      "KITTI 全景评价结果： {'pq': 0.0, 'sq': 0.0, 'rq': 0.0, 'iou_sum': 0.0, 'tp': 0, 'fp': 3750, 'fn': 0}\n",
      "\u001b[33mAverage loss: nan\u001b[0m\n",
      "\u001b[33mEpoch took 0:00:11.185472\u001b[0m\n",
      "\u001b[33mETA: 0:04:24.720014\u001b[0m\n",
      "\u001b[34m-------------------------\u001b[0m\n",
      "\u001b[34mStarting epoch 144\u001b[0m\n"
     ]
    },
    {
     "name": "stderr",
     "output_type": "stream",
     "text": [
      "0it [00:00, ?it/s]"
     ]
    },
    {
     "name": "stdout",
     "output_type": "stream",
     "text": [
      "Learning rate is set to: 1.000e-04\n",
      "\u001b[33mModel saved for run kitti_20250417_120829\u001b[0m\n",
      "\u001b[34mDistributed evaluation on the validation set\u001b[0m\n",
      "Thresholding output\n"
     ]
    },
    {
     "name": "stderr",
     "output_type": "stream",
     "text": [
      "7it [00:03,  1.79it/s]\n",
      "7it [00:03,  1.79it/s]\n",
      "  0%|          | 0/7 [00:00<?, ?it/s]"
     ]
    },
    {
     "name": "stdout",
     "output_type": "stream",
     "text": [
      "images saved\n",
      "Evaluation for semantic segmentation - val set\n",
      "mIoU is 0.00\n"
     ]
    },
    {
     "name": "stderr",
     "output_type": "stream",
     "text": [
      "100%|██████████| 7/7 [00:03<00:00,  1.82it/s]\n",
      "100%|██████████| 7/7 [00:03<00:00,  1.80it/s]\n"
     ]
    },
    {
     "name": "stdout",
     "output_type": "stream",
     "text": [
      "KITTI 全景评价结果： {'pq': 0.0, 'sq': 0.0, 'rq': 0.0, 'iou_sum': 0.0, 'tp': 0, 'fp': 3750, 'fn': 0}\n",
      "\u001b[33mAverage loss: nan\u001b[0m\n",
      "\u001b[33mEpoch took 0:00:11.303402\u001b[0m\n",
      "\u001b[33mETA: 0:04:13.179179\u001b[0m\n",
      "\u001b[34m-------------------------\u001b[0m\n",
      "\u001b[34mStarting epoch 145\u001b[0m\n"
     ]
    },
    {
     "name": "stderr",
     "output_type": "stream",
     "text": [
      "0it [00:00, ?it/s]"
     ]
    },
    {
     "name": "stdout",
     "output_type": "stream",
     "text": [
      "Learning rate is set to: 1.000e-04\n",
      "\u001b[33mModel saved for run kitti_20250417_120829\u001b[0m\n",
      "\u001b[34mDistributed evaluation on the validation set\u001b[0m\n",
      "Thresholding output\n"
     ]
    },
    {
     "name": "stderr",
     "output_type": "stream",
     "text": [
      "7it [00:03,  1.80it/s]\n",
      "7it [00:03,  1.77it/s]\n",
      "  0%|          | 0/7 [00:00<?, ?it/s]"
     ]
    },
    {
     "name": "stdout",
     "output_type": "stream",
     "text": [
      "images saved\n",
      "Evaluation for semantic segmentation - val set\n",
      "mIoU is 0.00\n"
     ]
    },
    {
     "name": "stderr",
     "output_type": "stream",
     "text": [
      "100%|██████████| 7/7 [00:03<00:00,  1.81it/s]\n",
      "100%|██████████| 7/7 [00:03<00:00,  1.79it/s]\n"
     ]
    },
    {
     "name": "stdout",
     "output_type": "stream",
     "text": [
      "KITTI 全景评价结果： {'pq': 0.0, 'sq': 0.0, 'rq': 0.0, 'iou_sum': 0.0, 'tp': 0, 'fp': 3750, 'fn': 0}\n",
      "\u001b[33mAverage loss: nan\u001b[0m\n",
      "\u001b[33mEpoch took 0:00:11.413457\u001b[0m\n",
      "\u001b[33mETA: 0:04:01.657426\u001b[0m\n",
      "\u001b[34m-------------------------\u001b[0m\n",
      "\u001b[34mStarting epoch 146\u001b[0m\n"
     ]
    },
    {
     "name": "stderr",
     "output_type": "stream",
     "text": [
      "0it [00:00, ?it/s]"
     ]
    },
    {
     "name": "stdout",
     "output_type": "stream",
     "text": [
      "Learning rate is set to: 1.000e-04\n",
      "\u001b[33mModel saved for run kitti_20250417_120829\u001b[0m\n",
      "\u001b[34mDistributed evaluation on the validation set\u001b[0m\n",
      "Thresholding output\n"
     ]
    },
    {
     "name": "stderr",
     "output_type": "stream",
     "text": [
      "7it [00:03,  1.83it/s]\n",
      "7it [00:03,  1.79it/s]\n",
      "  0%|          | 0/7 [00:00<?, ?it/s]"
     ]
    },
    {
     "name": "stdout",
     "output_type": "stream",
     "text": [
      "images saved\n",
      "Evaluation for semantic segmentation - val set\n",
      "mIoU is 0.00\n"
     ]
    },
    {
     "name": "stderr",
     "output_type": "stream",
     "text": [
      "100%|██████████| 7/7 [00:03<00:00,  1.75it/s]\n",
      "100%|██████████| 7/7 [00:04<00:00,  1.75it/s]\n"
     ]
    },
    {
     "name": "stdout",
     "output_type": "stream",
     "text": [
      "KITTI 全景评价结果： {'pq': 0.0, 'sq': 0.0, 'rq': 0.0, 'iou_sum': 0.0, 'tp': 0, 'fp': 3750, 'fn': 0}\n",
      "\u001b[33mAverage loss: nan\u001b[0m\n",
      "\u001b[33mEpoch took 0:00:11.470260\u001b[0m\n",
      "\u001b[33mETA: 0:03:50.144874\u001b[0m\n",
      "\u001b[34m-------------------------\u001b[0m\n",
      "\u001b[34mStarting epoch 147\u001b[0m\n"
     ]
    },
    {
     "name": "stderr",
     "output_type": "stream",
     "text": [
      "0it [00:00, ?it/s]"
     ]
    },
    {
     "name": "stdout",
     "output_type": "stream",
     "text": [
      "Learning rate is set to: 1.000e-04\n",
      "\u001b[33mModel saved for run kitti_20250417_120829\u001b[0m\n",
      "\u001b[34mDistributed evaluation on the validation set\u001b[0m\n",
      "Thresholding output\n"
     ]
    },
    {
     "name": "stderr",
     "output_type": "stream",
     "text": [
      "7it [00:03,  1.82it/s]\n",
      "7it [00:03,  1.78it/s]\n",
      "  0%|          | 0/7 [00:00<?, ?it/s]"
     ]
    },
    {
     "name": "stdout",
     "output_type": "stream",
     "text": [
      "images saved\n",
      "Evaluation for semantic segmentation - val set\n",
      "mIoU is 0.00\n"
     ]
    },
    {
     "name": "stderr",
     "output_type": "stream",
     "text": [
      "100%|██████████| 7/7 [00:03<00:00,  1.81it/s]\n",
      "100%|██████████| 7/7 [00:03<00:00,  1.79it/s]\n"
     ]
    },
    {
     "name": "stdout",
     "output_type": "stream",
     "text": [
      "KITTI 全景评价结果： {'pq': 0.0, 'sq': 0.0, 'rq': 0.0, 'iou_sum': 0.0, 'tp': 0, 'fp': 3750, 'fn': 0}\n",
      "\u001b[33mAverage loss: nan\u001b[0m\n",
      "\u001b[33mEpoch took 0:00:11.545144\u001b[0m\n",
      "\u001b[33mETA: 0:03:38.642507\u001b[0m\n",
      "\u001b[34m-------------------------\u001b[0m\n",
      "\u001b[34mStarting epoch 148\u001b[0m\n"
     ]
    },
    {
     "name": "stderr",
     "output_type": "stream",
     "text": [
      "0it [00:00, ?it/s]"
     ]
    },
    {
     "name": "stdout",
     "output_type": "stream",
     "text": [
      "Learning rate is set to: 1.000e-04\n",
      "\u001b[33mModel saved for run kitti_20250417_120829\u001b[0m\n",
      "\u001b[34mDistributed evaluation on the validation set\u001b[0m\n",
      "Thresholding output\n"
     ]
    },
    {
     "name": "stderr",
     "output_type": "stream",
     "text": [
      "7it [00:03,  1.81it/s]\n",
      "7it [00:03,  1.79it/s]\n",
      "  0%|          | 0/7 [00:00<?, ?it/s]"
     ]
    },
    {
     "name": "stdout",
     "output_type": "stream",
     "text": [
      "images saved\n",
      "Evaluation for semantic segmentation - val set\n",
      "mIoU is 0.00\n"
     ]
    },
    {
     "name": "stderr",
     "output_type": "stream",
     "text": [
      "100%|██████████| 7/7 [00:03<00:00,  1.77it/s]\n",
      "100%|██████████| 7/7 [00:04<00:00,  1.73it/s]\n"
     ]
    },
    {
     "name": "stdout",
     "output_type": "stream",
     "text": [
      "KITTI 全景评价结果： {'pq': 0.0, 'sq': 0.0, 'rq': 0.0, 'iou_sum': 0.0, 'tp': 0, 'fp': 3750, 'fn': 0}\n",
      "\u001b[33mAverage loss: nan\u001b[0m\n",
      "\u001b[33mEpoch took 0:00:11.474473\u001b[0m\n",
      "\u001b[33mETA: 0:03:27.131026\u001b[0m\n",
      "\u001b[34m-------------------------\u001b[0m\n",
      "\u001b[34mStarting epoch 149\u001b[0m\n"
     ]
    },
    {
     "name": "stderr",
     "output_type": "stream",
     "text": [
      "0it [00:00, ?it/s]"
     ]
    },
    {
     "name": "stdout",
     "output_type": "stream",
     "text": [
      "Learning rate is set to: 1.000e-04\n",
      "\u001b[33mModel saved for run kitti_20250417_120829\u001b[0m\n",
      "\u001b[34mDistributed evaluation on the validation set\u001b[0m\n",
      "Thresholding output\n"
     ]
    },
    {
     "name": "stderr",
     "output_type": "stream",
     "text": [
      "7it [00:03,  1.79it/s]\n",
      "7it [00:03,  1.76it/s]\n",
      "  0%|          | 0/7 [00:00<?, ?it/s]"
     ]
    },
    {
     "name": "stdout",
     "output_type": "stream",
     "text": [
      "images saved\n",
      "Evaluation for semantic segmentation - val set\n",
      "mIoU is 0.00\n"
     ]
    },
    {
     "name": "stderr",
     "output_type": "stream",
     "text": [
      "100%|██████████| 7/7 [00:03<00:00,  1.81it/s]\n",
      "100%|██████████| 7/7 [00:03<00:00,  1.79it/s]\n"
     ]
    },
    {
     "name": "stdout",
     "output_type": "stream",
     "text": [
      "KITTI 全景评价结果： {'pq': 0.0, 'sq': 0.0, 'rq': 0.0, 'iou_sum': 0.0, 'tp': 0, 'fp': 3750, 'fn': 0}\n",
      "\u001b[33mAverage loss: nan\u001b[0m\n",
      "\u001b[33mEpoch took 0:00:11.417783\u001b[0m\n",
      "\u001b[33mETA: 0:03:15.613613\u001b[0m\n",
      "\u001b[34m-------------------------\u001b[0m\n",
      "\u001b[34mStarting epoch 150\u001b[0m\n"
     ]
    },
    {
     "name": "stderr",
     "output_type": "stream",
     "text": [
      "0it [00:00, ?it/s]"
     ]
    },
    {
     "name": "stdout",
     "output_type": "stream",
     "text": [
      "Learning rate is set to: 1.000e-04\n",
      "\u001b[33mModel saved for run kitti_20250417_120829\u001b[0m\n",
      "\u001b[34mDistributed evaluation on the validation set\u001b[0m\n",
      "Thresholding output\n"
     ]
    },
    {
     "name": "stderr",
     "output_type": "stream",
     "text": [
      "7it [00:03,  1.79it/s]\n",
      "7it [00:03,  1.80it/s]\n",
      "  0%|          | 0/7 [00:00<?, ?it/s]"
     ]
    },
    {
     "name": "stdout",
     "output_type": "stream",
     "text": [
      "images saved\n",
      "Evaluation for semantic segmentation - val set\n",
      "mIoU is 0.00\n"
     ]
    },
    {
     "name": "stderr",
     "output_type": "stream",
     "text": [
      "100%|██████████| 7/7 [00:03<00:00,  1.79it/s]\n",
      "100%|██████████| 7/7 [00:03<00:00,  1.79it/s]\n"
     ]
    },
    {
     "name": "stdout",
     "output_type": "stream",
     "text": [
      "KITTI 全景评价结果： {'pq': 0.0, 'sq': 0.0, 'rq': 0.0, 'iou_sum': 0.0, 'tp': 0, 'fp': 3750, 'fn': 0}\n",
      "\u001b[33mAverage loss: nan\u001b[0m\n",
      "\u001b[33mEpoch took 0:00:11.273916\u001b[0m\n",
      "\u001b[33mETA: 0:03:04.082274\u001b[0m\n",
      "\u001b[34m-------------------------\u001b[0m\n",
      "\u001b[34mStarting epoch 151\u001b[0m\n"
     ]
    },
    {
     "name": "stderr",
     "output_type": "stream",
     "text": [
      "0it [00:00, ?it/s]"
     ]
    },
    {
     "name": "stdout",
     "output_type": "stream",
     "text": [
      "Learning rate is set to: 1.000e-04\n",
      "\u001b[33mModel saved for run kitti_20250417_120829\u001b[0m\n",
      "\u001b[34mDistributed evaluation on the validation set\u001b[0m\n",
      "Thresholding output\n"
     ]
    },
    {
     "name": "stderr",
     "output_type": "stream",
     "text": [
      "7it [00:03,  1.80it/s]\n",
      "7it [00:03,  1.80it/s]\n",
      "  0%|          | 0/7 [00:00<?, ?it/s]"
     ]
    },
    {
     "name": "stdout",
     "output_type": "stream",
     "text": [
      "images saved\n",
      "Evaluation for semantic segmentation - val set\n",
      "mIoU is 0.00\n"
     ]
    },
    {
     "name": "stderr",
     "output_type": "stream",
     "text": [
      "100%|██████████| 7/7 [00:03<00:00,  1.79it/s]\n",
      "100%|██████████| 7/7 [00:03<00:00,  1.77it/s]\n"
     ]
    },
    {
     "name": "stdout",
     "output_type": "stream",
     "text": [
      "KITTI 全景评价结果： {'pq': 0.0, 'sq': 0.0, 'rq': 0.0, 'iou_sum': 0.0, 'tp': 0, 'fp': 3750, 'fn': 0}\n",
      "\u001b[33mAverage loss: nan\u001b[0m\n",
      "\u001b[33mEpoch took 0:00:11.340315\u001b[0m\n",
      "\u001b[33mETA: 0:02:52.560872\u001b[0m\n",
      "\u001b[34m-------------------------\u001b[0m\n",
      "\u001b[34mStarting epoch 152\u001b[0m\n"
     ]
    },
    {
     "name": "stderr",
     "output_type": "stream",
     "text": [
      "0it [00:00, ?it/s]"
     ]
    },
    {
     "name": "stdout",
     "output_type": "stream",
     "text": [
      "Learning rate is set to: 1.000e-04\n",
      "\u001b[33mModel saved for run kitti_20250417_120829\u001b[0m\n",
      "\u001b[34mDistributed evaluation on the validation set\u001b[0m\n",
      "Thresholding output\n"
     ]
    },
    {
     "name": "stderr",
     "output_type": "stream",
     "text": [
      "7it [00:03,  1.79it/s]\n",
      "7it [00:03,  1.79it/s]\n",
      "  0%|          | 0/7 [00:00<?, ?it/s]"
     ]
    },
    {
     "name": "stdout",
     "output_type": "stream",
     "text": [
      "images saved\n",
      "Evaluation for semantic segmentation - val set\n",
      "mIoU is 0.00\n"
     ]
    },
    {
     "name": "stderr",
     "output_type": "stream",
     "text": [
      "100%|██████████| 7/7 [00:03<00:00,  1.81it/s]\n",
      "100%|██████████| 7/7 [00:03<00:00,  1.80it/s]\n"
     ]
    },
    {
     "name": "stdout",
     "output_type": "stream",
     "text": [
      "KITTI 全景评价结果： {'pq': 0.0, 'sq': 0.0, 'rq': 0.0, 'iou_sum': 0.0, 'tp': 0, 'fp': 3750, 'fn': 0}\n",
      "\u001b[33mAverage loss: nan\u001b[0m\n",
      "\u001b[33mEpoch took 0:00:11.356646\u001b[0m\n",
      "\u001b[33mETA: 0:02:41.043332\u001b[0m\n",
      "\u001b[34m-------------------------\u001b[0m\n",
      "\u001b[34mStarting epoch 153\u001b[0m\n"
     ]
    },
    {
     "name": "stderr",
     "output_type": "stream",
     "text": [
      "0it [00:00, ?it/s]"
     ]
    },
    {
     "name": "stdout",
     "output_type": "stream",
     "text": [
      "Learning rate is set to: 1.000e-04\n",
      "\u001b[33mModel saved for run kitti_20250417_120829\u001b[0m\n",
      "\u001b[34mDistributed evaluation on the validation set\u001b[0m\n",
      "Thresholding output\n"
     ]
    },
    {
     "name": "stderr",
     "output_type": "stream",
     "text": [
      "7it [00:03,  1.81it/s]\n",
      "7it [00:03,  1.78it/s]\n",
      "  0%|          | 0/7 [00:00<?, ?it/s]"
     ]
    },
    {
     "name": "stdout",
     "output_type": "stream",
     "text": [
      "images saved\n",
      "Evaluation for semantic segmentation - val set\n",
      "mIoU is 0.00\n"
     ]
    },
    {
     "name": "stderr",
     "output_type": "stream",
     "text": [
      "100%|██████████| 7/7 [00:03<00:00,  1.79it/s]\n",
      "\n"
     ]
    },
    {
     "name": "stdout",
     "output_type": "stream",
     "text": [
      "KITTI 全景评价结果： {'pq': 0.0, 'sq': 0.0, 'rq': 0.0, 'iou_sum': 0.0, 'tp': 0, 'fp': 3750, 'fn': 0}\n",
      "\u001b[33mAverage loss: nan\u001b[0m\n",
      "\u001b[33mEpoch took 0:00:11.427019\u001b[0m\n",
      "\u001b[33mETA: 0:02:29.533821\u001b[0m\n",
      "\u001b[34m-------------------------\u001b[0m\n",
      "\u001b[34mStarting epoch 154\u001b[0m\n"
     ]
    },
    {
     "name": "stderr",
     "output_type": "stream",
     "text": [
      "0it [00:00, ?it/s]"
     ]
    },
    {
     "name": "stdout",
     "output_type": "stream",
     "text": [
      "Learning rate is set to: 1.000e-04\n",
      "\u001b[33mModel saved for run kitti_20250417_120829\u001b[0m\n",
      "\u001b[34mDistributed evaluation on the validation set\u001b[0m\n",
      "Thresholding output\n"
     ]
    },
    {
     "name": "stderr",
     "output_type": "stream",
     "text": [
      "7it [00:03,  1.77it/s]\n",
      "7it [00:03,  1.76it/s]\n",
      "  0%|          | 0/7 [00:00<?, ?it/s]"
     ]
    },
    {
     "name": "stdout",
     "output_type": "stream",
     "text": [
      "images saved\n",
      "Evaluation for semantic segmentation - val set\n",
      "mIoU is 0.00\n"
     ]
    },
    {
     "name": "stderr",
     "output_type": "stream",
     "text": [
      "100%|██████████| 7/7 [00:03<00:00,  1.78it/s]\n",
      "100%|██████████| 7/7 [00:03<00:00,  1.77it/s]\n"
     ]
    },
    {
     "name": "stdout",
     "output_type": "stream",
     "text": [
      "KITTI 全景评价结果： {'pq': 0.0, 'sq': 0.0, 'rq': 0.0, 'iou_sum': 0.0, 'tp': 0, 'fp': 3750, 'fn': 0}\n",
      "\u001b[33mAverage loss: nan\u001b[0m\n",
      "\u001b[33mEpoch took 0:00:11.619241\u001b[0m\n",
      "\u001b[33mETA: 0:02:18.040255\u001b[0m\n",
      "\u001b[34m-------------------------\u001b[0m\n",
      "\u001b[34mStarting epoch 155\u001b[0m\n"
     ]
    },
    {
     "name": "stderr",
     "output_type": "stream",
     "text": [
      "0it [00:00, ?it/s]"
     ]
    },
    {
     "name": "stdout",
     "output_type": "stream",
     "text": [
      "Learning rate is set to: 1.000e-04\n",
      "\u001b[33mModel saved for run kitti_20250417_120829\u001b[0m\n",
      "\u001b[34mDistributed evaluation on the validation set\u001b[0m\n",
      "Thresholding output\n"
     ]
    },
    {
     "name": "stderr",
     "output_type": "stream",
     "text": [
      "7it [00:03,  1.79it/s]\n",
      "7it [00:04,  1.73it/s]\n",
      "  0%|          | 0/7 [00:00<?, ?it/s]"
     ]
    },
    {
     "name": "stdout",
     "output_type": "stream",
     "text": [
      "images saved\n",
      "Evaluation for semantic segmentation - val set\n",
      "mIoU is 0.00\n"
     ]
    },
    {
     "name": "stderr",
     "output_type": "stream",
     "text": [
      "100%|██████████| 7/7 [00:03<00:00,  1.81it/s]\n",
      "100%|██████████| 7/7 [00:03<00:00,  1.79it/s]\n"
     ]
    },
    {
     "name": "stdout",
     "output_type": "stream",
     "text": [
      "KITTI 全景评价结果： {'pq': 0.0, 'sq': 0.0, 'rq': 0.0, 'iou_sum': 0.0, 'tp': 0, 'fp': 3750, 'fn': 0}\n",
      "\u001b[33mAverage loss: nan\u001b[0m\n",
      "\u001b[33mEpoch took 0:00:11.587230\u001b[0m\n",
      "\u001b[33mETA: 0:02:06.542820\u001b[0m\n",
      "\u001b[34m-------------------------\u001b[0m\n",
      "\u001b[34mStarting epoch 156\u001b[0m\n"
     ]
    },
    {
     "name": "stderr",
     "output_type": "stream",
     "text": [
      "0it [00:00, ?it/s]"
     ]
    },
    {
     "name": "stdout",
     "output_type": "stream",
     "text": [
      "Learning rate is set to: 1.000e-04\n",
      "\u001b[33mModel saved for run kitti_20250417_120829\u001b[0m\n",
      "\u001b[34mDistributed evaluation on the validation set\u001b[0m\n",
      "Thresholding output\n"
     ]
    },
    {
     "name": "stderr",
     "output_type": "stream",
     "text": [
      "7it [00:03,  1.78it/s]\n",
      "7it [00:03,  1.78it/s]\n",
      "  0%|          | 0/7 [00:00<?, ?it/s]"
     ]
    },
    {
     "name": "stdout",
     "output_type": "stream",
     "text": [
      "images saved\n",
      "Evaluation for semantic segmentation - val set\n",
      "mIoU is 0.00\n"
     ]
    },
    {
     "name": "stderr",
     "output_type": "stream",
     "text": [
      "100%|██████████| 7/7 [00:03<00:00,  1.81it/s]\n",
      "100%|██████████| 7/7 [00:03<00:00,  1.79it/s]\n"
     ]
    },
    {
     "name": "stdout",
     "output_type": "stream",
     "text": [
      "KITTI 全景评价结果： {'pq': 0.0, 'sq': 0.0, 'rq': 0.0, 'iou_sum': 0.0, 'tp': 0, 'fp': 3750, 'fn': 0}\n",
      "\u001b[33mAverage loss: nan\u001b[0m\n",
      "\u001b[33mEpoch took 0:00:11.377147\u001b[0m\n",
      "\u001b[33mETA: 0:01:55.030860\u001b[0m\n",
      "\u001b[34m-------------------------\u001b[0m\n",
      "\u001b[34mStarting epoch 157\u001b[0m\n"
     ]
    },
    {
     "name": "stderr",
     "output_type": "stream",
     "text": [
      "0it [00:00, ?it/s]"
     ]
    },
    {
     "name": "stdout",
     "output_type": "stream",
     "text": [
      "Learning rate is set to: 1.000e-04\n",
      "\u001b[33mModel saved for run kitti_20250417_120829\u001b[0m\n",
      "\u001b[34mDistributed evaluation on the validation set\u001b[0m\n",
      "Thresholding output\n"
     ]
    },
    {
     "name": "stderr",
     "output_type": "stream",
     "text": [
      "7it [00:03,  1.77it/s]\n",
      "7it [00:03,  1.77it/s]\n",
      "  0%|          | 0/7 [00:00<?, ?it/s]"
     ]
    },
    {
     "name": "stdout",
     "output_type": "stream",
     "text": [
      "images saved\n",
      "Evaluation for semantic segmentation - val set\n",
      "mIoU is 0.00\n"
     ]
    },
    {
     "name": "stderr",
     "output_type": "stream",
     "text": [
      "100%|██████████| 7/7 [00:03<00:00,  1.79it/s]\n",
      "100%|██████████| 7/7 [00:03<00:00,  1.78it/s]\n"
     ]
    },
    {
     "name": "stdout",
     "output_type": "stream",
     "text": [
      "KITTI 全景评价结果： {'pq': 0.0, 'sq': 0.0, 'rq': 0.0, 'iou_sum': 0.0, 'tp': 0, 'fp': 3750, 'fn': 0}\n",
      "\u001b[33mAverage loss: nan\u001b[0m\n",
      "\u001b[33mEpoch took 0:00:11.508674\u001b[0m\n",
      "\u001b[33mETA: 0:01:43.528096\u001b[0m\n",
      "\u001b[34m-------------------------\u001b[0m\n",
      "\u001b[34mStarting epoch 158\u001b[0m\n"
     ]
    },
    {
     "name": "stderr",
     "output_type": "stream",
     "text": [
      "0it [00:00, ?it/s]"
     ]
    },
    {
     "name": "stdout",
     "output_type": "stream",
     "text": [
      "Learning rate is set to: 1.000e-04\n",
      "\u001b[33mModel saved for run kitti_20250417_120829\u001b[0m\n",
      "\u001b[34mDistributed evaluation on the validation set\u001b[0m\n",
      "Thresholding output\n"
     ]
    },
    {
     "name": "stderr",
     "output_type": "stream",
     "text": [
      "7it [00:03,  1.79it/s]\n",
      "7it [00:03,  1.75it/s]\n",
      "  0%|          | 0/7 [00:00<?, ?it/s]"
     ]
    },
    {
     "name": "stdout",
     "output_type": "stream",
     "text": [
      "images saved\n",
      "Evaluation for semantic segmentation - val set\n",
      "mIoU is 0.00\n"
     ]
    },
    {
     "name": "stderr",
     "output_type": "stream",
     "text": [
      "100%|██████████| 7/7 [00:03<00:00,  1.80it/s]\n",
      "100%|██████████| 7/7 [00:03<00:00,  1.77it/s]\n"
     ]
    },
    {
     "name": "stdout",
     "output_type": "stream",
     "text": [
      "KITTI 全景评价结果： {'pq': 0.0, 'sq': 0.0, 'rq': 0.0, 'iou_sum': 0.0, 'tp': 0, 'fp': 3750, 'fn': 0}\n",
      "\u001b[33mAverage loss: nan\u001b[0m\n",
      "\u001b[33mEpoch took 0:00:11.453160\u001b[0m\n",
      "\u001b[33mETA: 0:01:32.022465\u001b[0m\n",
      "\u001b[34m-------------------------\u001b[0m\n",
      "\u001b[34mStarting epoch 159\u001b[0m\n"
     ]
    },
    {
     "name": "stderr",
     "output_type": "stream",
     "text": [
      "0it [00:00, ?it/s]"
     ]
    },
    {
     "name": "stdout",
     "output_type": "stream",
     "text": [
      "Learning rate is set to: 1.000e-04\n",
      "\u001b[33mModel saved for run kitti_20250417_120829\u001b[0m\n",
      "\u001b[34mDistributed evaluation on the validation set\u001b[0m\n",
      "Thresholding output\n"
     ]
    },
    {
     "name": "stderr",
     "output_type": "stream",
     "text": [
      "7it [00:03,  1.82it/s]\n",
      "7it [00:03,  1.77it/s]\n",
      "  0%|          | 0/7 [00:00<?, ?it/s]"
     ]
    },
    {
     "name": "stdout",
     "output_type": "stream",
     "text": [
      "images saved\n",
      "Evaluation for semantic segmentation - val set\n",
      "mIoU is 0.00\n"
     ]
    },
    {
     "name": "stderr",
     "output_type": "stream",
     "text": [
      "100%|██████████| 7/7 [00:03<00:00,  1.83it/s]\n",
      "100%|██████████| 7/7 [00:03<00:00,  1.78it/s]\n"
     ]
    },
    {
     "name": "stdout",
     "output_type": "stream",
     "text": [
      "KITTI 全景评价结果： {'pq': 0.0, 'sq': 0.0, 'rq': 0.0, 'iou_sum': 0.0, 'tp': 0, 'fp': 3750, 'fn': 0}\n",
      "\u001b[33mAverage loss: nan\u001b[0m\n",
      "\u001b[33mEpoch took 0:00:11.475838\u001b[0m\n",
      "\u001b[33mETA: 0:01:20.518482\u001b[0m\n",
      "\u001b[34m-------------------------\u001b[0m\n",
      "\u001b[34mStarting epoch 160\u001b[0m\n"
     ]
    },
    {
     "name": "stderr",
     "output_type": "stream",
     "text": [
      "0it [00:00, ?it/s]"
     ]
    },
    {
     "name": "stdout",
     "output_type": "stream",
     "text": [
      "Learning rate is set to: 1.000e-04\n",
      "\u001b[33mModel saved for run kitti_20250417_120829\u001b[0m\n",
      "\u001b[34mDistributed evaluation on the validation set\u001b[0m\n",
      "Thresholding output\n"
     ]
    },
    {
     "name": "stderr",
     "output_type": "stream",
     "text": [
      "7it [00:03,  1.84it/s]\n",
      "7it [00:03,  1.80it/s]\n",
      "  0%|          | 0/7 [00:00<?, ?it/s]"
     ]
    },
    {
     "name": "stdout",
     "output_type": "stream",
     "text": [
      "images saved\n",
      "Evaluation for semantic segmentation - val set\n",
      "mIoU is 0.00\n"
     ]
    },
    {
     "name": "stderr",
     "output_type": "stream",
     "text": [
      "100%|██████████| 7/7 [00:03<00:00,  1.78it/s]\n",
      "100%|██████████| 7/7 [00:03<00:00,  1.78it/s]\n"
     ]
    },
    {
     "name": "stdout",
     "output_type": "stream",
     "text": [
      "KITTI 全景评价结果： {'pq': 0.0, 'sq': 0.0, 'rq': 0.0, 'iou_sum': 0.0, 'tp': 0, 'fp': 3750, 'fn': 0}\n",
      "\u001b[33mAverage loss: nan\u001b[0m\n",
      "\u001b[33mEpoch took 0:00:11.360325\u001b[0m\n",
      "\u001b[33mETA: 0:01:09.010541\u001b[0m\n",
      "\u001b[34m-------------------------\u001b[0m\n",
      "\u001b[34mStarting epoch 161\u001b[0m\n"
     ]
    },
    {
     "name": "stderr",
     "output_type": "stream",
     "text": [
      "0it [00:00, ?it/s]"
     ]
    },
    {
     "name": "stdout",
     "output_type": "stream",
     "text": [
      "Learning rate is set to: 1.000e-04\n",
      "\u001b[33mModel saved for run kitti_20250417_120829\u001b[0m\n",
      "\u001b[34mDistributed evaluation on the validation set\u001b[0m\n",
      "Thresholding output\n"
     ]
    },
    {
     "name": "stderr",
     "output_type": "stream",
     "text": [
      "7it [00:03,  1.83it/s]\n",
      "7it [00:03,  1.78it/s]\n",
      "  0%|          | 0/7 [00:00<?, ?it/s]"
     ]
    },
    {
     "name": "stdout",
     "output_type": "stream",
     "text": [
      "images saved\n",
      "Evaluation for semantic segmentation - val set\n",
      "mIoU is 0.00\n"
     ]
    },
    {
     "name": "stderr",
     "output_type": "stream",
     "text": [
      "100%|██████████| 7/7 [00:03<00:00,  1.81it/s]\n",
      "100%|██████████| 7/7 [00:03<00:00,  1.77it/s]\n"
     ]
    },
    {
     "name": "stdout",
     "output_type": "stream",
     "text": [
      "KITTI 全景评价结果： {'pq': 0.0, 'sq': 0.0, 'rq': 0.0, 'iou_sum': 0.0, 'tp': 0, 'fp': 3750, 'fn': 0}\n",
      "\u001b[33mAverage loss: nan\u001b[0m\n",
      "\u001b[33mEpoch took 0:00:11.378281\u001b[0m\n",
      "\u001b[33mETA: 0:00:57.504975\u001b[0m\n",
      "\u001b[34m-------------------------\u001b[0m\n",
      "\u001b[34mStarting epoch 162\u001b[0m\n"
     ]
    },
    {
     "name": "stderr",
     "output_type": "stream",
     "text": [
      "0it [00:00, ?it/s]"
     ]
    },
    {
     "name": "stdout",
     "output_type": "stream",
     "text": [
      "Learning rate is set to: 1.000e-04\n",
      "\u001b[33mModel saved for run kitti_20250417_120829\u001b[0m\n",
      "\u001b[34mDistributed evaluation on the validation set\u001b[0m\n",
      "Thresholding output\n"
     ]
    },
    {
     "name": "stderr",
     "output_type": "stream",
     "text": [
      "7it [00:03,  1.81it/s]\n",
      "7it [00:03,  1.78it/s]\n",
      "  0%|          | 0/7 [00:00<?, ?it/s]"
     ]
    },
    {
     "name": "stdout",
     "output_type": "stream",
     "text": [
      "images saved\n",
      "Evaluation for semantic segmentation - val set\n",
      "mIoU is 0.00\n"
     ]
    },
    {
     "name": "stderr",
     "output_type": "stream",
     "text": [
      "100%|██████████| 7/7 [00:03<00:00,  1.82it/s]\n",
      "100%|██████████| 7/7 [00:03<00:00,  1.80it/s]\n"
     ]
    },
    {
     "name": "stdout",
     "output_type": "stream",
     "text": [
      "KITTI 全景评价结果： {'pq': 0.0, 'sq': 0.0, 'rq': 0.0, 'iou_sum': 0.0, 'tp': 0, 'fp': 3750, 'fn': 0}\n",
      "\u001b[33mAverage loss: nan\u001b[0m\n",
      "\u001b[33mEpoch took 0:00:11.343082\u001b[0m\n",
      "\u001b[33mETA: 0:00:46.000107\u001b[0m\n",
      "\u001b[34m-------------------------\u001b[0m\n",
      "\u001b[34mStarting epoch 163\u001b[0m\n"
     ]
    },
    {
     "name": "stderr",
     "output_type": "stream",
     "text": [
      "0it [00:00, ?it/s]"
     ]
    },
    {
     "name": "stdout",
     "output_type": "stream",
     "text": [
      "Learning rate is set to: 1.000e-04\n",
      "\u001b[33mModel saved for run kitti_20250417_120829\u001b[0m\n",
      "\u001b[34mDistributed evaluation on the validation set\u001b[0m\n",
      "Thresholding output\n"
     ]
    },
    {
     "name": "stderr",
     "output_type": "stream",
     "text": [
      "7it [00:03,  1.81it/s]\n",
      "7it [00:03,  1.80it/s]\n",
      "  0%|          | 0/7 [00:00<?, ?it/s]"
     ]
    },
    {
     "name": "stdout",
     "output_type": "stream",
     "text": [
      "images saved\n",
      "Evaluation for semantic segmentation - val set\n",
      "mIoU is 0.00\n"
     ]
    },
    {
     "name": "stderr",
     "output_type": "stream",
     "text": [
      "100%|██████████| 7/7 [00:03<00:00,  1.80it/s]\n",
      "100%|██████████| 7/7 [00:03<00:00,  1.76it/s]\n"
     ]
    },
    {
     "name": "stdout",
     "output_type": "stream",
     "text": [
      "KITTI 全景评价结果： {'pq': 0.0, 'sq': 0.0, 'rq': 0.0, 'iou_sum': 0.0, 'tp': 0, 'fp': 3750, 'fn': 0}\n",
      "\u001b[33mAverage loss: nan\u001b[0m\n",
      "\u001b[33mEpoch took 0:00:11.332355\u001b[0m\n",
      "\u001b[33mETA: 0:00:34.497014\u001b[0m\n",
      "\u001b[34m-------------------------\u001b[0m\n",
      "\u001b[34mStarting epoch 164\u001b[0m\n"
     ]
    },
    {
     "name": "stderr",
     "output_type": "stream",
     "text": [
      "0it [00:00, ?it/s]"
     ]
    },
    {
     "name": "stdout",
     "output_type": "stream",
     "text": [
      "Learning rate is set to: 1.000e-04\n",
      "\u001b[33mModel saved for run kitti_20250417_120829\u001b[0m\n",
      "\u001b[34mDistributed evaluation on the validation set\u001b[0m\n",
      "Thresholding output\n"
     ]
    },
    {
     "name": "stderr",
     "output_type": "stream",
     "text": [
      "7it [00:03,  1.81it/s]\n",
      "7it [00:03,  1.79it/s]\n",
      "  0%|          | 0/7 [00:00<?, ?it/s]"
     ]
    },
    {
     "name": "stdout",
     "output_type": "stream",
     "text": [
      "images saved\n",
      "Evaluation for semantic segmentation - val set\n",
      "mIoU is 0.00\n"
     ]
    },
    {
     "name": "stderr",
     "output_type": "stream",
     "text": [
      "100%|██████████| 7/7 [00:03<00:00,  1.81it/s]\n",
      "100%|██████████| 7/7 [00:03<00:00,  1.81it/s]\n"
     ]
    },
    {
     "name": "stdout",
     "output_type": "stream",
     "text": [
      "KITTI 全景评价结果： {'pq': 0.0, 'sq': 0.0, 'rq': 0.0, 'iou_sum': 0.0, 'tp': 0, 'fp': 3750, 'fn': 0}\n",
      "\u001b[33mAverage loss: nan\u001b[0m\n",
      "\u001b[33mEpoch took 0:00:11.296278\u001b[0m\n",
      "\u001b[33mETA: 0:00:22.995553\u001b[0m\n",
      "\u001b[34m-------------------------\u001b[0m\n",
      "\u001b[34mStarting epoch 165\u001b[0m\n"
     ]
    },
    {
     "name": "stderr",
     "output_type": "stream",
     "text": [
      "0it [00:00, ?it/s]"
     ]
    },
    {
     "name": "stdout",
     "output_type": "stream",
     "text": [
      "Learning rate is set to: 1.000e-04\n",
      "\u001b[33mModel saved for run kitti_20250417_120829\u001b[0m\n",
      "\u001b[34mDistributed evaluation on the validation set\u001b[0m\n",
      "Thresholding output\n"
     ]
    },
    {
     "name": "stderr",
     "output_type": "stream",
     "text": [
      "7it [00:03,  1.81it/s]\n",
      "7it [00:03,  1.77it/s]\n",
      "  0%|          | 0/7 [00:00<?, ?it/s]"
     ]
    },
    {
     "name": "stdout",
     "output_type": "stream",
     "text": [
      "images saved\n",
      "Evaluation for semantic segmentation - val set\n",
      "mIoU is 0.00\n"
     ]
    },
    {
     "name": "stderr",
     "output_type": "stream",
     "text": [
      "100%|██████████| 7/7 [00:03<00:00,  1.79it/s]\n",
      "100%|██████████| 7/7 [00:03<00:00,  1.78it/s]\n"
     ]
    },
    {
     "name": "stdout",
     "output_type": "stream",
     "text": [
      "KITTI 全景评价结果： {'pq': 0.0, 'sq': 0.0, 'rq': 0.0, 'iou_sum': 0.0, 'tp': 0, 'fp': 3750, 'fn': 0}\n",
      "\u001b[33mAverage loss: nan\u001b[0m\n",
      "\u001b[33mEpoch took 0:00:11.297728\u001b[0m\n",
      "\u001b[33mETA: 0:00:11.496572\u001b[0m\n",
      "\u001b[34m-------------------------\u001b[0m\n",
      "\u001b[34mStarting epoch 166\u001b[0m\n",
      "Learning rate is set to: 1.000e-04\n"
     ]
    },
    {
     "ename": "ProcessRaisedException",
     "evalue": "\n\n-- Process 0 terminated with the following error:\nTraceback (most recent call last):\n  File \"/root/miniconda3/envs/LDMSeg/lib/python3.11/site-packages/torch/multiprocessing/spawn.py\", line 69, in _wrap\n    fn(i, *args)\n  File \"/root/autodl-tmp/Video-latent-diffusion-panoptic-segmentation/main_worker_ae.py\", line 108, in main_worker\n    trainer.train_loop()\n  File \"/root/autodl-tmp/Video-latent-diffusion-panoptic-segmentation/ldmseg/trainers/trainers_ae.py\", line 395, in train_loop\n    self.train_single_epoch(epoch, meters_dict, progress, semseg_meter)\n  File \"/root/autodl-tmp/Video-latent-diffusion-panoptic-segmentation/ldmseg/trainers/trainers_ae.py\", line 348, in train_single_epoch\n    self.save_train_images(output, data, threshold_output=True, stack_images=True)\n  File \"/root/miniconda3/envs/LDMSeg/lib/python3.11/site-packages/torch/utils/_contextlib.py\", line 115, in decorate_context\n    return func(*args, **kwargs)\n           ^^^^^^^^^^^^^^^^^^^^^\n  File \"/root/autodl-tmp/Video-latent-diffusion-panoptic-segmentation/ldmseg/trainers/trainers_ae.py\", line 762, in save_train_images\n    print(semseg.shape,target.shape,rgb.shae,mask.shape)\n                                    ^^^^^^^^\nAttributeError: 'numpy.ndarray' object has no attribute 'shae'\n",
     "output_type": "error",
     "traceback": [
      "\u001b[0;31m---------------------------------------------------------------------------\u001b[0m",
      "\u001b[0;31mProcessRaisedException\u001b[0m                    Traceback (most recent call last)",
      "Cell \u001b[0;32mIn[2], line 63\u001b[0m\n\u001b[1;32m     60\u001b[0m     main_worker(\u001b[38;5;241m0\u001b[39m, ngpus_per_node, cfg_dist, cfg_dataset, project_name)\n\u001b[1;32m     61\u001b[0m \u001b[38;5;28;01melse\u001b[39;00m:\n\u001b[1;32m     62\u001b[0m     \u001b[38;5;66;03m# 非 Debug 模式下使用 mp.spawn 启动分布式训练（注意：Notebook 中多进程可能会有额外问题）\u001b[39;00m\n\u001b[0;32m---> 63\u001b[0m     mp\u001b[38;5;241m.\u001b[39mspawn(main_worker, nprocs\u001b[38;5;241m=\u001b[39mngpus_per_node, args\u001b[38;5;241m=\u001b[39m(ngpus_per_node, cfg_dist, cfg_dataset, project_name))\n",
      "File \u001b[0;32m~/miniconda3/envs/LDMSeg/lib/python3.11/site-packages/torch/multiprocessing/spawn.py:239\u001b[0m, in \u001b[0;36mspawn\u001b[0;34m(fn, args, nprocs, join, daemon, start_method)\u001b[0m\n\u001b[1;32m    235\u001b[0m     msg \u001b[38;5;241m=\u001b[39m (\u001b[38;5;124m'\u001b[39m\u001b[38;5;124mThis method only supports start_method=spawn (got: \u001b[39m\u001b[38;5;132;01m%s\u001b[39;00m\u001b[38;5;124m).\u001b[39m\u001b[38;5;130;01m\\n\u001b[39;00m\u001b[38;5;124m'\u001b[39m\n\u001b[1;32m    236\u001b[0m            \u001b[38;5;124m'\u001b[39m\u001b[38;5;124mTo use a different start_method use:\u001b[39m\u001b[38;5;130;01m\\n\u001b[39;00m\u001b[38;5;130;01m\\t\u001b[39;00m\u001b[38;5;130;01m\\t\u001b[39;00m\u001b[38;5;124m'\u001b[39m\n\u001b[1;32m    237\u001b[0m            \u001b[38;5;124m'\u001b[39m\u001b[38;5;124m torch.multiprocessing.start_processes(...)\u001b[39m\u001b[38;5;124m'\u001b[39m \u001b[38;5;241m%\u001b[39m start_method)\n\u001b[1;32m    238\u001b[0m     warnings\u001b[38;5;241m.\u001b[39mwarn(msg)\n\u001b[0;32m--> 239\u001b[0m \u001b[38;5;28;01mreturn\u001b[39;00m start_processes(fn, args, nprocs, join, daemon, start_method\u001b[38;5;241m=\u001b[39m\u001b[38;5;124m'\u001b[39m\u001b[38;5;124mspawn\u001b[39m\u001b[38;5;124m'\u001b[39m)\n",
      "File \u001b[0;32m~/miniconda3/envs/LDMSeg/lib/python3.11/site-packages/torch/multiprocessing/spawn.py:197\u001b[0m, in \u001b[0;36mstart_processes\u001b[0;34m(fn, args, nprocs, join, daemon, start_method)\u001b[0m\n\u001b[1;32m    194\u001b[0m     \u001b[38;5;28;01mreturn\u001b[39;00m context\n\u001b[1;32m    196\u001b[0m \u001b[38;5;66;03m# Loop on join until it returns True or raises an exception.\u001b[39;00m\n\u001b[0;32m--> 197\u001b[0m \u001b[38;5;28;01mwhile\u001b[39;00m \u001b[38;5;129;01mnot\u001b[39;00m context\u001b[38;5;241m.\u001b[39mjoin():\n\u001b[1;32m    198\u001b[0m     \u001b[38;5;28;01mpass\u001b[39;00m\n",
      "File \u001b[0;32m~/miniconda3/envs/LDMSeg/lib/python3.11/site-packages/torch/multiprocessing/spawn.py:160\u001b[0m, in \u001b[0;36mProcessContext.join\u001b[0;34m(self, timeout)\u001b[0m\n\u001b[1;32m    158\u001b[0m msg \u001b[38;5;241m=\u001b[39m \u001b[38;5;124m\"\u001b[39m\u001b[38;5;130;01m\\n\u001b[39;00m\u001b[38;5;130;01m\\n\u001b[39;00m\u001b[38;5;124m-- Process \u001b[39m\u001b[38;5;132;01m%d\u001b[39;00m\u001b[38;5;124m terminated with the following error:\u001b[39m\u001b[38;5;130;01m\\n\u001b[39;00m\u001b[38;5;124m\"\u001b[39m \u001b[38;5;241m%\u001b[39m error_index\n\u001b[1;32m    159\u001b[0m msg \u001b[38;5;241m+\u001b[39m\u001b[38;5;241m=\u001b[39m original_trace\n\u001b[0;32m--> 160\u001b[0m \u001b[38;5;28;01mraise\u001b[39;00m ProcessRaisedException(msg, error_index, failed_process\u001b[38;5;241m.\u001b[39mpid)\n",
      "\u001b[0;31mProcessRaisedException\u001b[0m: \n\n-- Process 0 terminated with the following error:\nTraceback (most recent call last):\n  File \"/root/miniconda3/envs/LDMSeg/lib/python3.11/site-packages/torch/multiprocessing/spawn.py\", line 69, in _wrap\n    fn(i, *args)\n  File \"/root/autodl-tmp/Video-latent-diffusion-panoptic-segmentation/main_worker_ae.py\", line 108, in main_worker\n    trainer.train_loop()\n  File \"/root/autodl-tmp/Video-latent-diffusion-panoptic-segmentation/ldmseg/trainers/trainers_ae.py\", line 395, in train_loop\n    self.train_single_epoch(epoch, meters_dict, progress, semseg_meter)\n  File \"/root/autodl-tmp/Video-latent-diffusion-panoptic-segmentation/ldmseg/trainers/trainers_ae.py\", line 348, in train_single_epoch\n    self.save_train_images(output, data, threshold_output=True, stack_images=True)\n  File \"/root/miniconda3/envs/LDMSeg/lib/python3.11/site-packages/torch/utils/_contextlib.py\", line 115, in decorate_context\n    return func(*args, **kwargs)\n           ^^^^^^^^^^^^^^^^^^^^^\n  File \"/root/autodl-tmp/Video-latent-diffusion-panoptic-segmentation/ldmseg/trainers/trainers_ae.py\", line 762, in save_train_images\n    print(semseg.shape,target.shape,rgb.shae,mask.shape)\n                                    ^^^^^^^^\nAttributeError: 'numpy.ndarray' object has no attribute 'shae'\n"
     ]
    }
   ],
   "source": [
    "# -------------------------------------------------------------------------------\n",
    "# Step 0: 清理 Notebook 自动传入的额外命令行参数\n",
    "sys.argv = sys.argv[:1]\n",
    "\n",
    "# -------------------------------------------------------------------------------\n",
    "# Step 1: 使用 Hydra API 加载配置\n",
    "# 请根据实际情况修改 config_path，例如你的配置文件存放在 \"configs/\" 文件夹下\n",
    "with initialize(config_path=\"tools/configs/\", job_name=\"config\"):\n",
    "    cfg = compose(config_name=\"config\")\n",
    "# 将 OmegaConf 对象转换为普通字典\n",
    "cfg = OmegaConf.to_object(cfg)\n",
    "\n",
    "# -------------------------------------------------------------------------------\n",
    "# Step 2: 配置分块、组合与预处理\n",
    "wandb.config = cfg\n",
    "# 这里假设配置文件中存在以下键；如果不存在，请在配置文件中添加或使用 .get() 方法提供默认值\n",
    "cfg_dist    = cfg['distributed']\n",
    "cfg_dataset = cfg['datasets']\n",
    "cfg_base    = cfg['base']\n",
    "project_dir = cfg['setup']\n",
    "\n",
    "# 合并 base 与数据集专用配置（让数据集配置覆盖 base 中的同名字段）\n",
    "cfg_dataset = {**cfg_base, **cfg_dataset}\n",
    "\n",
    "root_dir = os.path.join(cfg['env']['root_dir'], project_dir)\n",
    "data_dir = cfg['env']['data_dir']\n",
    "\n",
    "# 调用 prepare_config 进一步整理数据集配置，返回更新后的配置和项目名称\n",
    "cfg_dataset, project_name = prepare_config(cfg_dataset, root_dir, data_dir, run_idx=cfg['run_idx'])\n",
    "project_name = f\"{cfg_dataset['train_db_name']}_{project_name}\"\n",
    "#print(colored(f\"Project name: {project_name}\", 'red'))\n",
    "\n",
    "# -------------------------------------------------------------------------------\n",
    "# Step 3: 配置分布式训练参数\n",
    "# 若配置中 world_size 为 -1 且 dist_url 为 \"env://\" 则根据环境变量 WORLD_SIZE 更新配置\n",
    "if cfg_dist['dist_url'] == \"env://\" and cfg_dist['world_size'] == -1:\n",
    "    cfg_dist['world_size'] = int(os.environ.get(\"WORLD_SIZE\", 1))\n",
    "cfg_dist['distributed'] = cfg_dist['world_size'] > 1 or cfg_dist['multiprocessing_distributed']\n",
    "\n",
    "# -------------------------------------------------------------------------------\n",
    "# Step 4: Debug 模式下特殊设置\n",
    "if cfg.get('debug', True):\n",
    "    print(colored(\"Running in debug mode!\", \"red\"))\n",
    "    cfg_dist['world_size'] = 1\n",
    "    os.environ['CUDA_VISIBLE_DEVICES'] = '0'\n",
    "    cfg_dataset['train_kwargs']['num_workers'] = 0\n",
    "    cfg_dataset['train_kwargs']['train_num_steps']=1\n",
    "\n",
    "ngpus_per_node = torch.cuda.device_count()\n",
    "# 根据 GPU 数量调整世界大小\n",
    "cfg_dist['world_size'] = ngpus_per_node * cfg_dist['world_size']\n",
    "#print(colored(f\"World size: {cfg_dist['world_size']}\", 'blue'))\n",
    "\n",
    "# -------------------------------------------------------------------------------\n",
    "# Step 6: 启动训练\n",
    "cfg_dataset['train_kwargs']['train_num_steps']=500\n",
    "cfg_dataset['lr_scheduler_kwargs']['warmup_iters']=100\n",
    "if cfg.get('debug', True):\n",
    "    # Debug 模式下直接调用 main_worker（单 GPU 单进程）\n",
    "    main_worker(0, ngpus_per_node, cfg_dist, cfg_dataset, project_name)\n",
    "else:\n",
    "    # 非 Debug 模式下使用 mp.spawn 启动分布式训练（注意：Notebook 中多进程可能会有额外问题）\n",
    "    mp.spawn(main_worker, nprocs=ngpus_per_node, args=(ngpus_per_node, cfg_dist, cfg_dataset, project_name))"
   ]
  },
  {
   "cell_type": "code",
   "execution_count": null,
   "id": "8f02d1cc-82c5-4583-a579-8ef6617c66d5",
   "metadata": {},
   "outputs": [],
   "source": []
  },
  {
   "cell_type": "code",
   "execution_count": null,
   "id": "e32f1917-a12c-4458-8a7d-d62d02c1ced4",
   "metadata": {},
   "outputs": [],
   "source": []
  },
  {
   "cell_type": "code",
   "execution_count": null,
   "id": "f6222165-ebda-421e-a27c-b2bf3db56a36",
   "metadata": {},
   "outputs": [],
   "source": []
  }
 ],
 "metadata": {
  "kernelspec": {
   "display_name": "LDMSeg",
   "language": "python",
   "name": "ldmseg"
  },
  "language_info": {
   "codemirror_mode": {
    "name": "ipython",
    "version": 3
   },
   "file_extension": ".py",
   "mimetype": "text/x-python",
   "name": "python",
   "nbconvert_exporter": "python",
   "pygments_lexer": "ipython3",
   "version": "3.11.11"
  }
 },
 "nbformat": 4,
 "nbformat_minor": 5
}
