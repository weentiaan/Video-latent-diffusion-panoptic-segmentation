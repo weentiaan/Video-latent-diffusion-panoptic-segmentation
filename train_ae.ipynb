{
 "cells": [
  {
   "cell_type": "code",
   "execution_count": 1,
   "id": "dcc24325-68f7-4f21-a0f0-d02b5e1c5f16",
   "metadata": {
    "tags": []
   },
   "outputs": [],
   "source": [
    "\"\"\"\n",
    "Author: Wouter Van Gansbeke\n",
    "\n",
    "Main file for training auto-encoders and vaes\n",
    "Licensed under the CC BY-NC 4.0 license (https://creativecommons.org/licenses/by-nc/4.0/)\n",
    "\"\"\"\n",
    "\n",
    "import os\n",
    "import sys\n",
    "sys.argv = sys.argv[:1]\n",
    "import json\n",
    "import hydra\n",
    "import wandb\n",
    "import builtins\n",
    "from termcolor import colored\n",
    "from datetime import datetime\n",
    "from omegaconf import OmegaConf, DictConfig\n",
    "from typing import Dict, Any\n",
    "from termcolor import colored\n",
    "import torch\n",
    "import torch.multiprocessing as mp\n",
    "import torch.distributed as dist\n",
    "from diffusers import AutoencoderKL\n",
    "\n",
    "from ldmseg.models import GeneralVAESeg\n",
    "from ldmseg.trainers import TrainerAE\n",
    "from ldmseg.utils import prepare_config, Logger, is_main_process\n",
    "\n",
    "from hydra import initialize, compose\n",
    "from main_worker_ae import main_worker"
   ]
  },
  {
   "cell_type": "code",
   "execution_count": 2,
   "id": "ed022413-7319-4d2d-be69-628d67398f1e",
   "metadata": {
    "tags": []
   },
   "outputs": [
    {
     "name": "stderr",
     "output_type": "stream",
     "text": [
      "/tmp/ipykernel_764417/2907620400.py:8: UserWarning: \n",
      "The version_base parameter is not specified.\n",
      "Please specify a compatability version level, or None.\n",
      "Will assume defaults for version 1.1\n",
      "  with initialize(config_path=\"tools/configs/\", job_name=\"config\"):\n"
     ]
    },
    {
     "name": "stdout",
     "output_type": "stream",
     "text": [
      "\u001b[31mUsing current time as run identifier: 20250415_215902\u001b[0m\n",
      "\u001b[31mProject name: kitti_20250415_215902\u001b[0m\n",
      "\u001b[34mWorld size: 2\u001b[0m\n",
      "Use GPU: 0 for printing\n",
      "\u001b[33mStarting distributed training\u001b[0m\n",
      "\u001b[33mInitialized distributed training\u001b[0m\n",
      "\u001b[31m{\n",
      "    \"backbone\": \"unet\",\n",
      "    \"data_dir\": \"/root/autodl-tmp/video_sequence\",\n",
      "    \"ema_kwargs\": {\n",
      "        \"decay\": 0.9999,\n",
      "        \"device\": \"cuda\"\n",
      "    },\n",
      "    \"ema_on\": false,\n",
      "    \"eval_kwargs\": {\n",
      "        \"batch_size\": 16,\n",
      "        \"count_th\": 512,\n",
      "        \"mask_th\": 0.5,\n",
      "        \"num_workers\": 2,\n",
      "        \"overlap_th\": 0.5,\n",
      "        \"print_freq\": 100,\n",
      "        \"vis_every\": 5000\n",
      "    },\n",
      "    \"eval_only\": false,\n",
      "    \"fill_value\": 0.5,\n",
      "    \"has_bg\": false,\n",
      "    \"ignore_label\": 0,\n",
      "    \"image_scaling_factor\": 0.18215,\n",
      "    \"inpainting_strength\": 0.0,\n",
      "    \"load_path\": null,\n",
      "    \"log_file\": \"/root/autodl-tmp/Video-latent-diffusion-panoptic-segmentation/simple_diffusion/kitti/run_20250415_215902/logger.txt\",\n",
      "    \"loss_kwargs\": {\n",
      "        \"cost_class\": 1.0,\n",
      "        \"cost_mask\": 1.0,\n",
      "        \"importance_sample_ratio\": 0.75,\n",
      "        \"num_points\": 12544,\n",
      "        \"oversample_ratio\": 3,\n",
      "        \"temperature\": 1.0\n",
      "    },\n",
      "    \"loss_weights\": {\n",
      "        \"ce\": 1.0,\n",
      "        \"kl\": 0.0,\n",
      "        \"mask\": 1.0\n",
      "    },\n",
      "    \"lr_scheduler_kwargs\": {\n",
      "        \"final_lr\": 1e-06,\n",
      "        \"warmup_iters\": 100\n",
      "    },\n",
      "    \"lr_scheduler_name\": \"warmup\",\n",
      "    \"model_kwargs\": {\n",
      "        \"add_adaptor\": false,\n",
      "        \"cond_channels\": 0,\n",
      "        \"in_channels\": 8,\n",
      "        \"init_mode_adaptor\": \"random\",\n",
      "        \"init_mode_image\": \"zero\",\n",
      "        \"init_mode_seg\": \"copy\",\n",
      "        \"separate_conv\": false,\n",
      "        \"separate_encoder\": false\n",
      "    },\n",
      "    \"name\": \"kitti_20250415_215902\",\n",
      "    \"noise_scheduler_kwargs\": {\n",
      "        \"beta_end\": 0.012,\n",
      "        \"beta_schedule\": \"scaled_linear\",\n",
      "        \"beta_start\": 0.00085,\n",
      "        \"clip_sample\": false,\n",
      "        \"clip_sample_range\": 1.0,\n",
      "        \"dynamic_thresholding_ratio\": 0.995,\n",
      "        \"max_snr\": 5.0,\n",
      "        \"num_train_timesteps\": 1000,\n",
      "        \"prediction_type\": \"epsilon\",\n",
      "        \"sample_max_value\": 1.0,\n",
      "        \"set_alpha_to_one\": false,\n",
      "        \"steps_offset\": 1,\n",
      "        \"thresholding\": false,\n",
      "        \"weight\": \"none\"\n",
      "    },\n",
      "    \"num_bits\": 7,\n",
      "    \"num_classes\": 128,\n",
      "    \"optimizer_backbone_multiplier\": 1.0,\n",
      "    \"optimizer_kwargs\": {\n",
      "        \"betas\": [\n",
      "            0.9,\n",
      "            0.999\n",
      "        ],\n",
      "        \"lr\": 0.0001,\n",
      "        \"weight_decay\": 0.0,\n",
      "        \"weight_decay_norm\": 0.0\n",
      "    },\n",
      "    \"optimizer_name\": \"adamw\",\n",
      "    \"optimizer_save_optim\": false,\n",
      "    \"optimizer_zero_redundancy\": false,\n",
      "    \"output_dir\": \"/root/autodl-tmp/Video-latent-diffusion-panoptic-segmentation/simple_diffusion/kitti/run_20250415_215902\",\n",
      "    \"pretrained_model_path\": \"/root/autodl-tmp/stable-diffusion-v1-4\",\n",
      "    \"sampling_kwargs\": {\n",
      "        \"block_size\": 2,\n",
      "        \"guidance_scale\": 7.5,\n",
      "        \"num_inference_steps\": 50,\n",
      "        \"prob_mask\": 0.5,\n",
      "        \"seed\": 0\n",
      "    },\n",
      "    \"save_dir\": \"/root/autodl-tmp/Video-latent-diffusion-panoptic-segmentation/simple_diffusion/kitti/run_20250415_215902/predictions\",\n",
      "    \"shared_vae_encoder\": false,\n",
      "    \"split\": \"train\",\n",
      "    \"train_db_name\": \"kitti\",\n",
      "    \"train_kwargs\": {\n",
      "        \"accumulate\": 1,\n",
      "        \"allow_tf32\": false,\n",
      "        \"batch_size\": 8,\n",
      "        \"caption_dropout\": 1.0,\n",
      "        \"caption_type\": \"none\",\n",
      "        \"clip_grad\": 3.0,\n",
      "        \"cond_noise_level\": 0,\n",
      "        \"cudnn\": false,\n",
      "        \"dropout\": 0.0,\n",
      "        \"encoding_mode\": \"bits\",\n",
      "        \"find_unused_parameters\": false,\n",
      "        \"fp16\": false,\n",
      "        \"freeze_layers\": [\n",
      "            \"time_embedding\"\n",
      "        ],\n",
      "        \"gradient_as_bucket_view\": false,\n",
      "        \"gradient_checkpointing\": false,\n",
      "        \"image_descriptors\": \"remove\",\n",
      "        \"inpaint_mask_size\": [\n",
      "            64,\n",
      "            64\n",
      "        ],\n",
      "        \"latent_mask\": false,\n",
      "        \"loss\": \"l2\",\n",
      "        \"min_noise_level\": 0,\n",
      "        \"num_workers\": 2,\n",
      "        \"ohem_ratio\": 1.0,\n",
      "        \"prob_inpainting\": 0.0,\n",
      "        \"prob_train_on_pred\": 0.0,\n",
      "        \"remap_seg\": true,\n",
      "        \"rgb_noise_level\": 0,\n",
      "        \"sample_posterior\": false,\n",
      "        \"sample_posterior_rgb\": false,\n",
      "        \"self_condition\": false,\n",
      "        \"train_num_steps\": 500,\n",
      "        \"type_mask\": \"ignore\",\n",
      "        \"use_xformers\": false,\n",
      "        \"weight_dtype\": \"float32\"\n",
      "    },\n",
      "    \"transformation_kwargs\": {\n",
      "        \"flip\": true,\n",
      "        \"max_scale\": 1.5,\n",
      "        \"max_size\": 512,\n",
      "        \"min_scale\": 0.5,\n",
      "        \"normalize\": false,\n",
      "        \"normalize_params\": {\n",
      "            \"mean\": [\n",
      "                0.485,\n",
      "                0.456,\n",
      "                0.406\n",
      "            ],\n",
      "            \"std\": [\n",
      "                0.229,\n",
      "                0.224,\n",
      "                0.225\n",
      "            ]\n",
      "        },\n",
      "        \"pad_value\": 0,\n",
      "        \"scales\": [\n",
      "            352,\n",
      "            384,\n",
      "            416,\n",
      "            448,\n",
      "            480,\n",
      "            512,\n",
      "            544,\n",
      "            576,\n",
      "            608,\n",
      "            640\n",
      "        ],\n",
      "        \"size\": 512,\n",
      "        \"size_rgb\": 512,\n",
      "        \"type\": \"crop_resize_pil\"\n",
      "    },\n",
      "    \"vae_model_kwargs\": {\n",
      "        \"act_fn\": \"none\",\n",
      "        \"block_out_channels\": [\n",
      "            32,\n",
      "            64,\n",
      "            128,\n",
      "            256\n",
      "        ],\n",
      "        \"clamp_output\": false,\n",
      "        \"freeze_codebook\": false,\n",
      "        \"fuse_rgb\": false,\n",
      "        \"in_channels\": 7,\n",
      "        \"int_channels\": 256,\n",
      "        \"latent_channels\": 4,\n",
      "        \"norm_num_groups\": 32,\n",
      "        \"num_latents\": 2,\n",
      "        \"num_mid_blocks\": 0,\n",
      "        \"num_upscalers\": 2,\n",
      "        \"out_channels\": 128,\n",
      "        \"parametrization\": \"gaussian\",\n",
      "        \"pretrained_path\": null,\n",
      "        \"resize_input\": false,\n",
      "        \"scaling_factor\": 0.2,\n",
      "        \"skip_encoder\": false,\n",
      "        \"upscale_channels\": 256\n",
      "    },\n",
      "    \"val_db_name\": \"kitti\",\n",
      "    \"wandb\": false\n",
      "}\u001b[0m\n",
      "\u001b[33m2025-04-15 21:59:06.687713\u001b[0m\n",
      "pretrained_model_path /root/autodl-tmp/stable-diffusion-v1-4\n",
      "Interpolation factor:  2\n",
      "Parametrization:  gaussian\n",
      "Activation function:  none\n",
      "GeneralVAESeg(\n",
      "  (encoder): Sequential(\n",
      "    (0): Conv2d(7, 32, kernel_size=(3, 3), stride=(1, 1), padding=(1, 1))\n",
      "    (1): SiLU()\n",
      "    (2): Conv2d(32, 32, kernel_size=(3, 3), stride=(1, 1), padding=(1, 1))\n",
      "    (3): Conv2d(32, 64, kernel_size=(3, 3), stride=(2, 2), padding=(1, 1))\n",
      "    (4): SiLU()\n",
      "    (5): Conv2d(64, 64, kernel_size=(3, 3), stride=(1, 1), padding=(1, 1))\n",
      "    (6): Conv2d(64, 128, kernel_size=(3, 3), stride=(2, 2), padding=(1, 1))\n",
      "    (7): SiLU()\n",
      "    (8): Conv2d(128, 128, kernel_size=(3, 3), stride=(1, 1), padding=(1, 1))\n",
      "    (9): Conv2d(128, 256, kernel_size=(3, 3), stride=(2, 2), padding=(1, 1))\n",
      "    (10): SiLU()\n",
      "    (11): Conv2d(256, 256, kernel_size=(3, 3), stride=(1, 1), padding=(1, 1))\n",
      "    (12): Identity()\n",
      "    (13): GroupNorm(32, 256, eps=1e-06, affine=True)\n",
      "    (14): SiLU()\n",
      "    (15): Conv2d(256, 8, kernel_size=(3, 3), stride=(1, 1), padding=(1, 1))\n",
      "  )\n",
      "  (decoder): Sequential(\n",
      "    (0): Conv2d(4, 256, kernel_size=(3, 3), stride=(1, 1), padding=(1, 1))\n",
      "    (1): Identity()\n",
      "    (2): ConvTranspose2d(256, 256, kernel_size=(2, 2), stride=(2, 2))\n",
      "    (3): LayerNorm2d()\n",
      "    (4): SiLU()\n",
      "    (5): ConvTranspose2d(256, 256, kernel_size=(2, 2), stride=(2, 2))\n",
      "    (6): LayerNorm2d()\n",
      "    (7): SiLU()\n",
      "    (8): GroupNorm(32, 256, eps=1e-05, affine=True)\n",
      "    (9): SiLU()\n",
      "    (10): Conv2d(256, 128, kernel_size=(3, 3), stride=(1, 1), padding=(1, 1))\n",
      "  )\n",
      ")\n",
      "\u001b[33mNumber of trainable parameters: 2.02M\u001b[0m\n",
      "\u001b[33mBatch size per process is 8\u001b[0m\n",
      "\u001b[33mWorkers per process is 2\u001b[0m\n",
      "\u001b[33mWarning -- Using gradient clipping of 3.0\u001b[0m\n",
      "\u001b[31mMost likely not enough memory for training\u001b[0m\n",
      "\u001b[31mPlease use zero redundancy optimizer with adamw\u001b[0m\n",
      "AdamW (\n",
      "Parameter Group 0\n",
      "    amsgrad: False\n",
      "    betas: [0.9, 0.999]\n",
      "    capturable: False\n",
      "    differentiable: False\n",
      "    eps: 1e-08\n",
      "    foreach: None\n",
      "    fused: None\n",
      "    lr: 0.0001\n",
      "    maximize: False\n",
      "    weight_decay: 0.0\n",
      ")\n",
      "Train transforms Compose(\n",
      "    RandomHorizontalFlip(p=0.5)\n",
      "    CropResize(size=(512, 512), crop_mode=None)\n",
      "    ToTensor\n",
      "    Identity()\n",
      ")\n",
      "Val transforms Compose(\n",
      "    CropResize(size=(512, 512), crop_mode=None)\n",
      "    ToTensor\n",
      "    Identity()\n",
      ")\n",
      "Split: train\n",
      "Initializing dataloader for KITTI train set\n",
      "Found 50 samples in split train\n",
      "Split: val\n",
      "Initializing dataloader for KITTI val set\n",
      "Found 100 samples in split val\n",
      "\u001b[34mThe dataset contains 50 samples\u001b[0m\n",
      "\u001b[33mtraining for 167 epochs or 3 iters per epoch or 501 iterations\u001b[0m\n",
      "\u001b[33mUsing lr scheduler warmup with effective lr: 1.000e-04, final lr: 1.000e-06, warmup iters 100\u001b[0m\n",
      "\u001b[34mNo saved model at /root/autodl-tmp/Video-latent-diffusion-panoptic-segmentation/simple_diffusion/kitti/run_20250415_215902/model.pt to resume ...\u001b[0m\n",
      "\u001b[34mDistributed evaluation on the validation set\u001b[0m\n",
      "Thresholding output\n"
     ]
    },
    {
     "name": "stderr",
     "output_type": "stream",
     "text": [
      "7it [00:04,  1.44it/s]\n",
      "7it [00:05,  1.39it/s]\n",
      "  0%|          | 0/7 [00:00<?, ?it/s]"
     ]
    },
    {
     "name": "stdout",
     "output_type": "stream",
     "text": [
      "images saved\n",
      "Evaluation for semantic segmentation - val set\n",
      "mIoU is 0.00\n"
     ]
    },
    {
     "name": "stderr",
     "output_type": "stream",
     "text": [
      "100%|██████████| 7/7 [00:03<00:00,  1.79it/s]\n",
      "100%|██████████| 7/7 [00:03<00:00,  1.78it/s]\n"
     ]
    },
    {
     "name": "stdout",
     "output_type": "stream",
     "text": [
      "KITTI 全景评价结果： {'pq': 0.0, 'sq': 0.0, 'rq': 0.0, 'iou_sum': 0.0, 'tp': 0, 'fp': 4050, 'fn': 0}\n",
      "\u001b[34m-------------------------\u001b[0m\n",
      "\u001b[34mStarting epoch 0\u001b[0m\n"
     ]
    },
    {
     "name": "stderr",
     "output_type": "stream",
     "text": [
      "0it [00:00, ?it/s]"
     ]
    },
    {
     "name": "stdout",
     "output_type": "stream",
     "text": [
      "Learning rate is set to: 0.000e+00\n",
      "\u001b[33mModel saved for run kitti_20250415_215902\u001b[0m\n",
      "\u001b[34mDistributed evaluation on the validation set\u001b[0m\n",
      "Thresholding output\n"
     ]
    },
    {
     "name": "stderr",
     "output_type": "stream",
     "text": [
      "7it [00:03,  1.77it/s]\n",
      "7it [00:03,  1.77it/s]\n",
      "  0%|          | 0/7 [00:00<?, ?it/s]"
     ]
    },
    {
     "name": "stdout",
     "output_type": "stream",
     "text": [
      "images saved\n",
      "Evaluation for semantic segmentation - val set\n",
      "mIoU is 0.00\n"
     ]
    },
    {
     "name": "stderr",
     "output_type": "stream",
     "text": [
      "100%|██████████| 7/7 [00:04<00:00,  1.75it/s]\n",
      "100%|██████████| 7/7 [00:04<00:00,  1.73it/s]\n"
     ]
    },
    {
     "name": "stdout",
     "output_type": "stream",
     "text": [
      "KITTI 全景评价结果： {'pq': 0.0, 'sq': 0.0, 'rq': 0.0, 'iou_sum': 0.0, 'tp': 0, 'fp': 4050, 'fn': 0}\n",
      "\u001b[33mAverage loss: nan\u001b[0m\n",
      "\u001b[33mEpoch took 0:00:11.625406\u001b[0m\n",
      "\u001b[33mETA: 0:57:03.535767\u001b[0m\n",
      "\u001b[34m-------------------------\u001b[0m\n",
      "\u001b[34mStarting epoch 1\u001b[0m\n"
     ]
    },
    {
     "name": "stderr",
     "output_type": "stream",
     "text": [
      "0it [00:00, ?it/s]"
     ]
    },
    {
     "name": "stdout",
     "output_type": "stream",
     "text": [
      "Learning rate is set to: 3.030e-06\n",
      "\u001b[33mModel saved for run kitti_20250415_215902\u001b[0m\n",
      "\u001b[34mDistributed evaluation on the validation set\u001b[0m\n",
      "Thresholding output\n"
     ]
    },
    {
     "name": "stderr",
     "output_type": "stream",
     "text": [
      "7it [00:03,  1.79it/s]\n",
      "7it [00:03,  1.75it/s]\n",
      "  0%|          | 0/7 [00:00<?, ?it/s]"
     ]
    },
    {
     "name": "stdout",
     "output_type": "stream",
     "text": [
      "images saved\n",
      "Evaluation for semantic segmentation - val set\n",
      "mIoU is 0.00\n"
     ]
    },
    {
     "name": "stderr",
     "output_type": "stream",
     "text": [
      "100%|██████████| 7/7 [00:03<00:00,  1.79it/s]\n",
      "100%|██████████| 7/7 [00:03<00:00,  1.76it/s]\n"
     ]
    },
    {
     "name": "stdout",
     "output_type": "stream",
     "text": [
      "KITTI 全景评价结果： {'pq': 0.0, 'sq': 0.0, 'rq': 0.0, 'iou_sum': 0.0, 'tp': 0, 'fp': 4050, 'fn': 0}\n",
      "\u001b[33mAverage loss: nan\u001b[0m\n",
      "\u001b[33mEpoch took 0:00:11.636567\u001b[0m\n",
      "\u001b[33mETA: 0:44:21.479976\u001b[0m\n",
      "\u001b[34m-------------------------\u001b[0m\n",
      "\u001b[34mStarting epoch 2\u001b[0m\n"
     ]
    },
    {
     "name": "stderr",
     "output_type": "stream",
     "text": [
      "0it [00:00, ?it/s]"
     ]
    },
    {
     "name": "stdout",
     "output_type": "stream",
     "text": [
      "Learning rate is set to: 6.061e-06\n",
      "\u001b[33mModel saved for run kitti_20250415_215902\u001b[0m\n",
      "\u001b[34mDistributed evaluation on the validation set\u001b[0m\n",
      "Thresholding output\n"
     ]
    },
    {
     "name": "stderr",
     "output_type": "stream",
     "text": [
      "7it [00:03,  1.79it/s]\n",
      "7it [00:04,  1.75it/s]\n",
      "  0%|          | 0/7 [00:00<?, ?it/s]"
     ]
    },
    {
     "name": "stdout",
     "output_type": "stream",
     "text": [
      "images saved\n",
      "Evaluation for semantic segmentation - val set\n",
      "mIoU is 0.00\n"
     ]
    },
    {
     "name": "stderr",
     "output_type": "stream",
     "text": [
      "100%|██████████| 7/7 [00:03<00:00,  1.79it/s]\n",
      "100%|██████████| 7/7 [00:03<00:00,  1.77it/s]\n"
     ]
    },
    {
     "name": "stdout",
     "output_type": "stream",
     "text": [
      "KITTI 全景评价结果： {'pq': 0.0, 'sq': 0.0, 'rq': 0.0, 'iou_sum': 0.0, 'tp': 0, 'fp': 4050, 'fn': 0}\n",
      "\u001b[33mAverage loss: nan\u001b[0m\n",
      "\u001b[33mEpoch took 0:00:11.562929\u001b[0m\n",
      "\u001b[33mETA: 0:39:55.677859\u001b[0m\n",
      "\u001b[34m-------------------------\u001b[0m\n",
      "\u001b[34mStarting epoch 3\u001b[0m\n"
     ]
    },
    {
     "name": "stderr",
     "output_type": "stream",
     "text": [
      "0it [00:00, ?it/s]"
     ]
    },
    {
     "name": "stdout",
     "output_type": "stream",
     "text": [
      "Learning rate is set to: 9.091e-06\n",
      "\u001b[33mModel saved for run kitti_20250415_215902\u001b[0m\n",
      "\u001b[34mDistributed evaluation on the validation set\u001b[0m\n",
      "Thresholding output\n"
     ]
    },
    {
     "name": "stderr",
     "output_type": "stream",
     "text": [
      "7it [00:03,  1.76it/s]\n",
      "7it [00:03,  1.75it/s]\n",
      "  0%|          | 0/7 [00:00<?, ?it/s]"
     ]
    },
    {
     "name": "stdout",
     "output_type": "stream",
     "text": [
      "images saved\n",
      "Evaluation for semantic segmentation - val set\n",
      "mIoU is 0.00\n"
     ]
    },
    {
     "name": "stderr",
     "output_type": "stream",
     "text": [
      "100%|██████████| 7/7 [00:03<00:00,  1.82it/s]\n",
      "100%|██████████| 7/7 [00:03<00:00,  1.80it/s]\n"
     ]
    },
    {
     "name": "stdout",
     "output_type": "stream",
     "text": [
      "KITTI 全景评价结果： {'pq': 0.0, 'sq': 0.0, 'rq': 0.0, 'iou_sum': 0.0, 'tp': 0, 'fp': 4050, 'fn': 0}\n",
      "\u001b[33mAverage loss: nan\u001b[0m\n",
      "\u001b[33mEpoch took 0:00:11.411560\u001b[0m\n",
      "\u001b[33mETA: 0:37:30.827081\u001b[0m\n",
      "\u001b[34m-------------------------\u001b[0m\n",
      "\u001b[34mStarting epoch 4\u001b[0m\n"
     ]
    },
    {
     "name": "stderr",
     "output_type": "stream",
     "text": [
      "0it [00:00, ?it/s]"
     ]
    },
    {
     "name": "stdout",
     "output_type": "stream",
     "text": [
      "Learning rate is set to: 1.212e-05\n",
      "\u001b[33mModel saved for run kitti_20250415_215902\u001b[0m\n",
      "\u001b[34mDistributed evaluation on the validation set\u001b[0m\n",
      "Thresholding output\n"
     ]
    },
    {
     "name": "stderr",
     "output_type": "stream",
     "text": [
      "7it [00:03,  1.82it/s]\n",
      "7it [00:03,  1.78it/s]\n",
      "  0%|          | 0/7 [00:00<?, ?it/s]"
     ]
    },
    {
     "name": "stdout",
     "output_type": "stream",
     "text": [
      "images saved\n",
      "Evaluation for semantic segmentation - val set\n",
      "mIoU is 0.00\n"
     ]
    },
    {
     "name": "stderr",
     "output_type": "stream",
     "text": [
      "100%|██████████| 7/7 [00:03<00:00,  1.79it/s]\n",
      "100%|██████████| 7/7 [00:03<00:00,  1.77it/s]\n"
     ]
    },
    {
     "name": "stdout",
     "output_type": "stream",
     "text": [
      "KITTI 全景评价结果： {'pq': 0.0, 'sq': 0.0, 'rq': 0.0, 'iou_sum': 0.0, 'tp': 0, 'fp': 4050, 'fn': 0}\n",
      "\u001b[33mAverage loss: nan\u001b[0m\n",
      "\u001b[33mEpoch took 0:00:11.338343\u001b[0m\n",
      "\u001b[33mETA: 0:35:56.979443\u001b[0m\n",
      "\u001b[34m-------------------------\u001b[0m\n",
      "\u001b[34mStarting epoch 5\u001b[0m\n"
     ]
    },
    {
     "name": "stderr",
     "output_type": "stream",
     "text": [
      "0it [00:00, ?it/s]"
     ]
    },
    {
     "name": "stdout",
     "output_type": "stream",
     "text": [
      "Learning rate is set to: 1.515e-05\n",
      "\u001b[33mModel saved for run kitti_20250415_215902\u001b[0m\n",
      "\u001b[34mDistributed evaluation on the validation set\u001b[0m\n",
      "Thresholding output\n"
     ]
    },
    {
     "name": "stderr",
     "output_type": "stream",
     "text": [
      "7it [00:03,  1.77it/s]\n",
      "7it [00:04,  1.75it/s]\n",
      "  0%|          | 0/7 [00:00<?, ?it/s]"
     ]
    },
    {
     "name": "stdout",
     "output_type": "stream",
     "text": [
      "images saved\n",
      "Evaluation for semantic segmentation - val set\n",
      "mIoU is 0.00\n"
     ]
    },
    {
     "name": "stderr",
     "output_type": "stream",
     "text": [
      "100%|██████████| 7/7 [00:03<00:00,  1.77it/s]\n",
      "100%|██████████| 7/7 [00:03<00:00,  1.76it/s]\n"
     ]
    },
    {
     "name": "stdout",
     "output_type": "stream",
     "text": [
      "KITTI 全景评价结果： {'pq': 0.0, 'sq': 0.0, 'rq': 0.0, 'iou_sum': 0.0, 'tp': 0, 'fp': 4050, 'fn': 0}\n",
      "\u001b[33mAverage loss: nan\u001b[0m\n",
      "\u001b[33mEpoch took 0:00:11.509883\u001b[0m\n",
      "\u001b[33mETA: 0:34:55.237830\u001b[0m\n",
      "\u001b[34m-------------------------\u001b[0m\n",
      "\u001b[34mStarting epoch 6\u001b[0m\n"
     ]
    },
    {
     "name": "stderr",
     "output_type": "stream",
     "text": [
      "0it [00:00, ?it/s]"
     ]
    },
    {
     "name": "stdout",
     "output_type": "stream",
     "text": [
      "Learning rate is set to: 1.818e-05\n",
      "\u001b[33mModel saved for run kitti_20250415_215902\u001b[0m\n",
      "\u001b[34mDistributed evaluation on the validation set\u001b[0m\n",
      "Thresholding output\n"
     ]
    },
    {
     "name": "stderr",
     "output_type": "stream",
     "text": [
      "7it [00:03,  1.77it/s]\n",
      "7it [00:04,  1.75it/s]\n",
      "  0%|          | 0/7 [00:00<?, ?it/s]"
     ]
    },
    {
     "name": "stdout",
     "output_type": "stream",
     "text": [
      "images saved\n",
      "Evaluation for semantic segmentation - val set\n",
      "mIoU is 0.00\n"
     ]
    },
    {
     "name": "stderr",
     "output_type": "stream",
     "text": [
      "100%|██████████| 7/7 [00:04<00:00,  1.75it/s]\n",
      "100%|██████████| 7/7 [00:04<00:00,  1.74it/s]\n"
     ]
    },
    {
     "name": "stdout",
     "output_type": "stream",
     "text": [
      "KITTI 全景评价结果： {'pq': 0.0, 'sq': 0.0, 'rq': 0.0, 'iou_sum': 0.0, 'tp': 0, 'fp': 4050, 'fn': 0}\n",
      "\u001b[33mAverage loss: nan\u001b[0m\n",
      "\u001b[33mEpoch took 0:00:11.623252\u001b[0m\n",
      "\u001b[33mETA: 0:34:10.439415\u001b[0m\n",
      "\u001b[34m-------------------------\u001b[0m\n",
      "\u001b[34mStarting epoch 7\u001b[0m\n"
     ]
    },
    {
     "name": "stderr",
     "output_type": "stream",
     "text": [
      "0it [00:00, ?it/s]"
     ]
    },
    {
     "name": "stdout",
     "output_type": "stream",
     "text": [
      "Learning rate is set to: 2.121e-05\n",
      "\u001b[33mModel saved for run kitti_20250415_215902\u001b[0m\n",
      "\u001b[34mDistributed evaluation on the validation set\u001b[0m\n",
      "Thresholding output\n"
     ]
    },
    {
     "name": "stderr",
     "output_type": "stream",
     "text": [
      "7it [00:03,  1.75it/s]\n",
      "7it [00:04,  1.73it/s]\n",
      "  0%|          | 0/7 [00:00<?, ?it/s]"
     ]
    },
    {
     "name": "stdout",
     "output_type": "stream",
     "text": [
      "images saved\n",
      "Evaluation for semantic segmentation - val set\n",
      "mIoU is 0.00\n"
     ]
    },
    {
     "name": "stderr",
     "output_type": "stream",
     "text": [
      "100%|██████████| 7/7 [00:04<00:00,  1.75it/s]\n",
      "100%|██████████| 7/7 [00:04<00:00,  1.74it/s]\n"
     ]
    },
    {
     "name": "stdout",
     "output_type": "stream",
     "text": [
      "KITTI 全景评价结果： {'pq': 0.0, 'sq': 0.0, 'rq': 0.0, 'iou_sum': 0.0, 'tp': 0, 'fp': 4050, 'fn': 0}\n",
      "\u001b[33mAverage loss: nan\u001b[0m\n",
      "\u001b[33mEpoch took 0:00:11.588434\u001b[0m\n",
      "\u001b[33mETA: 0:33:33.243225\u001b[0m\n",
      "\u001b[34m-------------------------\u001b[0m\n",
      "\u001b[34mStarting epoch 8\u001b[0m\n"
     ]
    },
    {
     "name": "stderr",
     "output_type": "stream",
     "text": [
      "0it [00:00, ?it/s]"
     ]
    },
    {
     "name": "stdout",
     "output_type": "stream",
     "text": [
      "Learning rate is set to: 2.424e-05\n",
      "\u001b[33mModel saved for run kitti_20250415_215902\u001b[0m\n",
      "\u001b[34mDistributed evaluation on the validation set\u001b[0m\n",
      "Thresholding output\n"
     ]
    },
    {
     "name": "stderr",
     "output_type": "stream",
     "text": [
      "7it [00:03,  1.77it/s]\n",
      "7it [00:03,  1.75it/s]\n",
      "  0%|          | 0/7 [00:00<?, ?it/s]"
     ]
    },
    {
     "name": "stdout",
     "output_type": "stream",
     "text": [
      "images saved\n",
      "Evaluation for semantic segmentation - val set\n",
      "mIoU is 0.00\n"
     ]
    },
    {
     "name": "stderr",
     "output_type": "stream",
     "text": [
      "100%|██████████| 7/7 [00:03<00:00,  1.80it/s]\n",
      "100%|██████████| 7/7 [00:03<00:00,  1.75it/s]\n"
     ]
    },
    {
     "name": "stdout",
     "output_type": "stream",
     "text": [
      "KITTI 全景评价结果： {'pq': 0.0, 'sq': 0.0, 'rq': 0.0, 'iou_sum': 0.0, 'tp': 0, 'fp': 4050, 'fn': 0}\n",
      "\u001b[33mAverage loss: nan\u001b[0m\n",
      "\u001b[33mEpoch took 0:00:11.523594\u001b[0m\n",
      "\u001b[33mETA: 0:33:00.599532\u001b[0m\n",
      "\u001b[34m-------------------------\u001b[0m\n",
      "\u001b[34mStarting epoch 9\u001b[0m\n"
     ]
    },
    {
     "name": "stderr",
     "output_type": "stream",
     "text": [
      "0it [00:00, ?it/s]"
     ]
    },
    {
     "name": "stdout",
     "output_type": "stream",
     "text": [
      "Learning rate is set to: 2.727e-05\n",
      "\u001b[33mModel saved for run kitti_20250415_215902\u001b[0m\n",
      "\u001b[34mDistributed evaluation on the validation set\u001b[0m\n",
      "Thresholding output\n"
     ]
    },
    {
     "name": "stderr",
     "output_type": "stream",
     "text": [
      "7it [00:03,  1.78it/s]\n",
      "7it [00:04,  1.75it/s]\n",
      "  0%|          | 0/7 [00:00<?, ?it/s]"
     ]
    },
    {
     "name": "stdout",
     "output_type": "stream",
     "text": [
      "images saved\n",
      "Evaluation for semantic segmentation - val set\n",
      "mIoU is 0.00\n"
     ]
    },
    {
     "name": "stderr",
     "output_type": "stream",
     "text": [
      "100%|██████████| 7/7 [00:03<00:00,  1.76it/s]\n",
      "\n"
     ]
    },
    {
     "name": "stdout",
     "output_type": "stream",
     "text": [
      "KITTI 全景评价结果： {'pq': 0.0, 'sq': 0.0, 'rq': 0.0, 'iou_sum': 0.0, 'tp': 0, 'fp': 4050, 'fn': 0}\n",
      "\u001b[33mAverage loss: nan\u001b[0m\n",
      "\u001b[33mEpoch took 0:00:11.507817\u001b[0m\n",
      "\u001b[33mETA: 0:32:31.931772\u001b[0m\n",
      "\u001b[34m-------------------------\u001b[0m\n",
      "\u001b[34mStarting epoch 10\u001b[0m\n"
     ]
    },
    {
     "name": "stderr",
     "output_type": "stream",
     "text": [
      "0it [00:00, ?it/s]"
     ]
    },
    {
     "name": "stdout",
     "output_type": "stream",
     "text": [
      "Learning rate is set to: 3.030e-05\n",
      "\u001b[33mModel saved for run kitti_20250415_215902\u001b[0m\n",
      "\u001b[34mDistributed evaluation on the validation set\u001b[0m\n",
      "Thresholding output\n"
     ]
    },
    {
     "name": "stderr",
     "output_type": "stream",
     "text": [
      "7it [00:03,  1.78it/s]\n",
      "7it [00:04,  1.70it/s]\n",
      "  0%|          | 0/7 [00:00<?, ?it/s]"
     ]
    },
    {
     "name": "stdout",
     "output_type": "stream",
     "text": [
      "images saved\n",
      "Evaluation for semantic segmentation - val set\n",
      "mIoU is 0.00\n"
     ]
    },
    {
     "name": "stderr",
     "output_type": "stream",
     "text": [
      "100%|██████████| 7/7 [00:04<00:00,  1.73it/s]\n",
      "100%|██████████| 7/7 [00:04<00:00,  1.72it/s]\n"
     ]
    },
    {
     "name": "stdout",
     "output_type": "stream",
     "text": [
      "KITTI 全景评价结果： {'pq': 0.0, 'sq': 0.0, 'rq': 0.0, 'iou_sum': 0.0, 'tp': 0, 'fp': 4050, 'fn': 0}\n",
      "\u001b[33mAverage loss: nan\u001b[0m\n",
      "\u001b[33mEpoch took 0:00:11.821774\u001b[0m\n",
      "\u001b[33mETA: 0:32:10.836173\u001b[0m\n",
      "\u001b[34m-------------------------\u001b[0m\n",
      "\u001b[34mStarting epoch 11\u001b[0m\n"
     ]
    },
    {
     "name": "stderr",
     "output_type": "stream",
     "text": [
      "0it [00:00, ?it/s]"
     ]
    },
    {
     "name": "stdout",
     "output_type": "stream",
     "text": [
      "Learning rate is set to: 3.333e-05\n",
      "\u001b[33mModel saved for run kitti_20250415_215902\u001b[0m\n",
      "\u001b[34mDistributed evaluation on the validation set\u001b[0m\n",
      "Thresholding output\n"
     ]
    },
    {
     "name": "stderr",
     "output_type": "stream",
     "text": [
      "7it [00:04,  1.68it/s]\n",
      "7it [00:04,  1.70it/s]\n"
     ]
    },
    {
     "name": "stdout",
     "output_type": "stream",
     "text": [
      "images saved\n",
      "Evaluation for semantic segmentation - val set\n",
      "mIoU is 0.00\n"
     ]
    },
    {
     "name": "stderr",
     "output_type": "stream",
     "text": [
      "100%|██████████| 7/7 [00:03<00:00,  1.76it/s]\n",
      "100%|██████████| 7/7 [00:03<00:00,  1.75it/s]\n"
     ]
    },
    {
     "name": "stdout",
     "output_type": "stream",
     "text": [
      "KITTI 全景评价结果： {'pq': 0.0, 'sq': 0.0, 'rq': 0.0, 'iou_sum': 0.0, 'tp': 0, 'fp': 4050, 'fn': 0}\n",
      "\u001b[33mAverage loss: nan\u001b[0m\n",
      "\u001b[33mEpoch took 0:00:11.881859\u001b[0m\n",
      "\u001b[33mETA: 0:31:52.062327\u001b[0m\n",
      "\u001b[34m-------------------------\u001b[0m\n",
      "\u001b[34mStarting epoch 12\u001b[0m\n"
     ]
    },
    {
     "name": "stderr",
     "output_type": "stream",
     "text": [
      "0it [00:00, ?it/s]"
     ]
    },
    {
     "name": "stdout",
     "output_type": "stream",
     "text": [
      "Learning rate is set to: 3.636e-05\n",
      "\u001b[33mModel saved for run kitti_20250415_215902\u001b[0m\n",
      "\u001b[34mDistributed evaluation on the validation set\u001b[0m\n",
      "Thresholding output\n"
     ]
    },
    {
     "name": "stderr",
     "output_type": "stream",
     "text": [
      "7it [00:03,  1.77it/s]\n",
      "7it [00:03,  1.76it/s]\n",
      "  0%|          | 0/7 [00:00<?, ?it/s]"
     ]
    },
    {
     "name": "stdout",
     "output_type": "stream",
     "text": [
      "images saved\n",
      "Evaluation for semantic segmentation - val set\n",
      "mIoU is 0.00\n"
     ]
    },
    {
     "name": "stderr",
     "output_type": "stream",
     "text": [
      "100%|██████████| 7/7 [00:03<00:00,  1.76it/s]\n",
      "100%|██████████| 7/7 [00:03<00:00,  1.76it/s]\n"
     ]
    },
    {
     "name": "stdout",
     "output_type": "stream",
     "text": [
      "KITTI 全景评价结果： {'pq': 0.0, 'sq': 0.0, 'rq': 0.0, 'iou_sum': 0.0, 'tp': 0, 'fp': 4050, 'fn': 0}\n",
      "\u001b[33mAverage loss: nan\u001b[0m\n",
      "\u001b[33mEpoch took 0:00:11.618328\u001b[0m\n",
      "\u001b[33mETA: 0:31:31.226928\u001b[0m\n",
      "\u001b[34m-------------------------\u001b[0m\n",
      "\u001b[34mStarting epoch 13\u001b[0m\n"
     ]
    },
    {
     "name": "stderr",
     "output_type": "stream",
     "text": [
      "0it [00:00, ?it/s]"
     ]
    },
    {
     "name": "stdout",
     "output_type": "stream",
     "text": [
      "Learning rate is set to: 3.939e-05\n",
      "\u001b[33mModel saved for run kitti_20250415_215902\u001b[0m\n",
      "\u001b[34mDistributed evaluation on the validation set\u001b[0m\n",
      "Thresholding output\n"
     ]
    },
    {
     "name": "stderr",
     "output_type": "stream",
     "text": [
      "7it [00:04,  1.74it/s]\n",
      "7it [00:03,  1.75it/s]\n",
      "  0%|          | 0/7 [00:00<?, ?it/s]"
     ]
    },
    {
     "name": "stdout",
     "output_type": "stream",
     "text": [
      "images saved\n",
      "Evaluation for semantic segmentation - val set\n",
      "mIoU is 0.00\n"
     ]
    },
    {
     "name": "stderr",
     "output_type": "stream",
     "text": [
      "100%|██████████| 7/7 [00:03<00:00,  1.79it/s]\n",
      "100%|██████████| 7/7 [00:03<00:00,  1.78it/s]\n"
     ]
    },
    {
     "name": "stdout",
     "output_type": "stream",
     "text": [
      "KITTI 全景评价结果： {'pq': 0.0, 'sq': 0.0, 'rq': 0.0, 'iou_sum': 0.0, 'tp': 0, 'fp': 4050, 'fn': 0}\n",
      "\u001b[33mAverage loss: nan\u001b[0m\n",
      "\u001b[33mEpoch took 0:00:11.591492\u001b[0m\n",
      "\u001b[33mETA: 0:31:11.414963\u001b[0m\n",
      "\u001b[34m-------------------------\u001b[0m\n",
      "\u001b[34mStarting epoch 14\u001b[0m\n"
     ]
    },
    {
     "name": "stderr",
     "output_type": "stream",
     "text": [
      "0it [00:00, ?it/s]"
     ]
    },
    {
     "name": "stdout",
     "output_type": "stream",
     "text": [
      "Learning rate is set to: 4.242e-05\n"
     ]
    },
    {
     "ename": "ProcessRaisedException",
     "evalue": "\n\n-- Process 0 terminated with the following error:\nTraceback (most recent call last):\n  File \"/root/miniconda3/envs/LDMSeg/lib/python3.11/site-packages/torch/multiprocessing/spawn.py\", line 69, in _wrap\n    fn(i, *args)\n  File \"/root/autodl-tmp/Video-latent-diffusion-panoptic-segmentation/main_worker_ae.py\", line 108, in main_worker\n    trainer.train_loop()\n  File \"/root/autodl-tmp/Video-latent-diffusion-panoptic-segmentation/ldmseg/trainers/trainers_ae.py\", line 406, in train_loop\n    self.save(epoch)\n  File \"/root/autodl-tmp/Video-latent-diffusion-panoptic-segmentation/ldmseg/trainers/trainers_ae.py\", line 507, in save\n    torch.save(data, str(self.results_folder / 'model.pt'))\n  File \"/root/miniconda3/envs/LDMSeg/lib/python3.11/site-packages/torch/serialization.py\", line 440, in save\n    with _open_zipfile_writer(f) as opened_zipfile:\n         ^^^^^^^^^^^^^^^^^^^^^^^\n  File \"/root/miniconda3/envs/LDMSeg/lib/python3.11/site-packages/torch/serialization.py\", line 315, in _open_zipfile_writer\n    return container(name_or_buffer)\n           ^^^^^^^^^^^^^^^^^^^^^^^^^\n  File \"/root/miniconda3/envs/LDMSeg/lib/python3.11/site-packages/torch/serialization.py\", line 288, in __init__\n    super().__init__(torch._C.PyTorchFileWriter(str(name)))\n                     ^^^^^^^^^^^^^^^^^^^^^^^^^^^^^^^^^^^^^\nRuntimeError: Parent directory /root/autodl-tmp/Video-latent-diffusion-panoptic-segmentation/simple_diffusion/kitti/run_20250415_215902 does not exist.\n",
     "output_type": "error",
     "traceback": [
      "\u001b[0;31m---------------------------------------------------------------------------\u001b[0m",
      "\u001b[0;31mProcessRaisedException\u001b[0m                    Traceback (most recent call last)",
      "Cell \u001b[0;32mIn[2], line 63\u001b[0m\n\u001b[1;32m     60\u001b[0m     main_worker(\u001b[38;5;241m0\u001b[39m, ngpus_per_node, cfg_dist, cfg_dataset, project_name)\n\u001b[1;32m     61\u001b[0m \u001b[38;5;28;01melse\u001b[39;00m:\n\u001b[1;32m     62\u001b[0m     \u001b[38;5;66;03m# 非 Debug 模式下使用 mp.spawn 启动分布式训练（注意：Notebook 中多进程可能会有额外问题）\u001b[39;00m\n\u001b[0;32m---> 63\u001b[0m     mp\u001b[38;5;241m.\u001b[39mspawn(main_worker, nprocs\u001b[38;5;241m=\u001b[39mngpus_per_node, args\u001b[38;5;241m=\u001b[39m(ngpus_per_node, cfg_dist, cfg_dataset, project_name))\n",
      "File \u001b[0;32m~/miniconda3/envs/LDMSeg/lib/python3.11/site-packages/torch/multiprocessing/spawn.py:239\u001b[0m, in \u001b[0;36mspawn\u001b[0;34m(fn, args, nprocs, join, daemon, start_method)\u001b[0m\n\u001b[1;32m    235\u001b[0m     msg \u001b[38;5;241m=\u001b[39m (\u001b[38;5;124m'\u001b[39m\u001b[38;5;124mThis method only supports start_method=spawn (got: \u001b[39m\u001b[38;5;132;01m%s\u001b[39;00m\u001b[38;5;124m).\u001b[39m\u001b[38;5;130;01m\\n\u001b[39;00m\u001b[38;5;124m'\u001b[39m\n\u001b[1;32m    236\u001b[0m            \u001b[38;5;124m'\u001b[39m\u001b[38;5;124mTo use a different start_method use:\u001b[39m\u001b[38;5;130;01m\\n\u001b[39;00m\u001b[38;5;130;01m\\t\u001b[39;00m\u001b[38;5;130;01m\\t\u001b[39;00m\u001b[38;5;124m'\u001b[39m\n\u001b[1;32m    237\u001b[0m            \u001b[38;5;124m'\u001b[39m\u001b[38;5;124m torch.multiprocessing.start_processes(...)\u001b[39m\u001b[38;5;124m'\u001b[39m \u001b[38;5;241m%\u001b[39m start_method)\n\u001b[1;32m    238\u001b[0m     warnings\u001b[38;5;241m.\u001b[39mwarn(msg)\n\u001b[0;32m--> 239\u001b[0m \u001b[38;5;28;01mreturn\u001b[39;00m start_processes(fn, args, nprocs, join, daemon, start_method\u001b[38;5;241m=\u001b[39m\u001b[38;5;124m'\u001b[39m\u001b[38;5;124mspawn\u001b[39m\u001b[38;5;124m'\u001b[39m)\n",
      "File \u001b[0;32m~/miniconda3/envs/LDMSeg/lib/python3.11/site-packages/torch/multiprocessing/spawn.py:197\u001b[0m, in \u001b[0;36mstart_processes\u001b[0;34m(fn, args, nprocs, join, daemon, start_method)\u001b[0m\n\u001b[1;32m    194\u001b[0m     \u001b[38;5;28;01mreturn\u001b[39;00m context\n\u001b[1;32m    196\u001b[0m \u001b[38;5;66;03m# Loop on join until it returns True or raises an exception.\u001b[39;00m\n\u001b[0;32m--> 197\u001b[0m \u001b[38;5;28;01mwhile\u001b[39;00m \u001b[38;5;129;01mnot\u001b[39;00m context\u001b[38;5;241m.\u001b[39mjoin():\n\u001b[1;32m    198\u001b[0m     \u001b[38;5;28;01mpass\u001b[39;00m\n",
      "File \u001b[0;32m~/miniconda3/envs/LDMSeg/lib/python3.11/site-packages/torch/multiprocessing/spawn.py:160\u001b[0m, in \u001b[0;36mProcessContext.join\u001b[0;34m(self, timeout)\u001b[0m\n\u001b[1;32m    158\u001b[0m msg \u001b[38;5;241m=\u001b[39m \u001b[38;5;124m\"\u001b[39m\u001b[38;5;130;01m\\n\u001b[39;00m\u001b[38;5;130;01m\\n\u001b[39;00m\u001b[38;5;124m-- Process \u001b[39m\u001b[38;5;132;01m%d\u001b[39;00m\u001b[38;5;124m terminated with the following error:\u001b[39m\u001b[38;5;130;01m\\n\u001b[39;00m\u001b[38;5;124m\"\u001b[39m \u001b[38;5;241m%\u001b[39m error_index\n\u001b[1;32m    159\u001b[0m msg \u001b[38;5;241m+\u001b[39m\u001b[38;5;241m=\u001b[39m original_trace\n\u001b[0;32m--> 160\u001b[0m \u001b[38;5;28;01mraise\u001b[39;00m ProcessRaisedException(msg, error_index, failed_process\u001b[38;5;241m.\u001b[39mpid)\n",
      "\u001b[0;31mProcessRaisedException\u001b[0m: \n\n-- Process 0 terminated with the following error:\nTraceback (most recent call last):\n  File \"/root/miniconda3/envs/LDMSeg/lib/python3.11/site-packages/torch/multiprocessing/spawn.py\", line 69, in _wrap\n    fn(i, *args)\n  File \"/root/autodl-tmp/Video-latent-diffusion-panoptic-segmentation/main_worker_ae.py\", line 108, in main_worker\n    trainer.train_loop()\n  File \"/root/autodl-tmp/Video-latent-diffusion-panoptic-segmentation/ldmseg/trainers/trainers_ae.py\", line 406, in train_loop\n    self.save(epoch)\n  File \"/root/autodl-tmp/Video-latent-diffusion-panoptic-segmentation/ldmseg/trainers/trainers_ae.py\", line 507, in save\n    torch.save(data, str(self.results_folder / 'model.pt'))\n  File \"/root/miniconda3/envs/LDMSeg/lib/python3.11/site-packages/torch/serialization.py\", line 440, in save\n    with _open_zipfile_writer(f) as opened_zipfile:\n         ^^^^^^^^^^^^^^^^^^^^^^^\n  File \"/root/miniconda3/envs/LDMSeg/lib/python3.11/site-packages/torch/serialization.py\", line 315, in _open_zipfile_writer\n    return container(name_or_buffer)\n           ^^^^^^^^^^^^^^^^^^^^^^^^^\n  File \"/root/miniconda3/envs/LDMSeg/lib/python3.11/site-packages/torch/serialization.py\", line 288, in __init__\n    super().__init__(torch._C.PyTorchFileWriter(str(name)))\n                     ^^^^^^^^^^^^^^^^^^^^^^^^^^^^^^^^^^^^^\nRuntimeError: Parent directory /root/autodl-tmp/Video-latent-diffusion-panoptic-segmentation/simple_diffusion/kitti/run_20250415_215902 does not exist.\n"
     ]
    }
   ],
   "source": [
    "# -------------------------------------------------------------------------------\n",
    "# Step 0: 清理 Notebook 自动传入的额外命令行参数\n",
    "sys.argv = sys.argv[:1]\n",
    "\n",
    "# -------------------------------------------------------------------------------\n",
    "# Step 1: 使用 Hydra API 加载配置\n",
    "# 请根据实际情况修改 config_path，例如你的配置文件存放在 \"configs/\" 文件夹下\n",
    "with initialize(config_path=\"tools/configs/\", job_name=\"config\"):\n",
    "    cfg = compose(config_name=\"config\")\n",
    "# 将 OmegaConf 对象转换为普通字典\n",
    "cfg = OmegaConf.to_object(cfg)\n",
    "\n",
    "# -------------------------------------------------------------------------------\n",
    "# Step 2: 配置分块、组合与预处理\n",
    "wandb.config = cfg\n",
    "# 这里假设配置文件中存在以下键；如果不存在，请在配置文件中添加或使用 .get() 方法提供默认值\n",
    "cfg_dist    = cfg['distributed']\n",
    "cfg_dataset = cfg['datasets']\n",
    "cfg_base    = cfg['base']\n",
    "project_dir = cfg['setup']\n",
    "\n",
    "# 合并 base 与数据集专用配置（让数据集配置覆盖 base 中的同名字段）\n",
    "cfg_dataset = {**cfg_base, **cfg_dataset}\n",
    "\n",
    "root_dir = os.path.join(cfg['env']['root_dir'], project_dir)\n",
    "data_dir = cfg['env']['data_dir']\n",
    "\n",
    "# 调用 prepare_config 进一步整理数据集配置，返回更新后的配置和项目名称\n",
    "cfg_dataset, project_name = prepare_config(cfg_dataset, root_dir, data_dir, run_idx=cfg['run_idx'])\n",
    "project_name = f\"{cfg_dataset['train_db_name']}_{project_name}\"\n",
    "print(colored(f\"Project name: {project_name}\", 'red'))\n",
    "\n",
    "# -------------------------------------------------------------------------------\n",
    "# Step 3: 配置分布式训练参数\n",
    "# 若配置中 world_size 为 -1 且 dist_url 为 \"env://\" 则根据环境变量 WORLD_SIZE 更新配置\n",
    "if cfg_dist['dist_url'] == \"env://\" and cfg_dist['world_size'] == -1:\n",
    "    cfg_dist['world_size'] = int(os.environ.get(\"WORLD_SIZE\", 1))\n",
    "cfg_dist['distributed'] = cfg_dist['world_size'] > 1 or cfg_dist['multiprocessing_distributed']\n",
    "\n",
    "# -------------------------------------------------------------------------------\n",
    "# Step 4: Debug 模式下特殊设置\n",
    "if cfg.get('debug', True):\n",
    "    print(colored(\"Running in debug mode!\", \"red\"))\n",
    "    cfg_dist['world_size'] = 1\n",
    "    os.environ['CUDA_VISIBLE_DEVICES'] = '0'\n",
    "    cfg_dataset['train_kwargs']['num_workers'] = 0\n",
    "    cfg_dataset['train_kwargs']['train_num_steps']=1\n",
    "\n",
    "ngpus_per_node = torch.cuda.device_count()\n",
    "# 根据 GPU 数量调整世界大小\n",
    "cfg_dist['world_size'] = ngpus_per_node * cfg_dist['world_size']\n",
    "print(colored(f\"World size: {cfg_dist['world_size']}\", 'blue'))\n",
    "\n",
    "# -------------------------------------------------------------------------------\n",
    "# Step 6: 启动训练\n",
    "cfg_dataset['train_kwargs']['train_num_steps']=500\n",
    "cfg_dataset['lr_scheduler_kwargs']['warmup_iters']=100\n",
    "if cfg.get('debug', True):\n",
    "    # Debug 模式下直接调用 main_worker（单 GPU 单进程）\n",
    "    main_worker(0, ngpus_per_node, cfg_dist, cfg_dataset, project_name)\n",
    "else:\n",
    "    # 非 Debug 模式下使用 mp.spawn 启动分布式训练（注意：Notebook 中多进程可能会有额外问题）\n",
    "    mp.spawn(main_worker, nprocs=ngpus_per_node, args=(ngpus_per_node, cfg_dist, cfg_dataset, project_name))"
   ]
  },
  {
   "cell_type": "code",
   "execution_count": null,
   "id": "8f02d1cc-82c5-4583-a579-8ef6617c66d5",
   "metadata": {},
   "outputs": [],
   "source": []
  },
  {
   "cell_type": "code",
   "execution_count": null,
   "id": "e32f1917-a12c-4458-8a7d-d62d02c1ced4",
   "metadata": {},
   "outputs": [],
   "source": []
  },
  {
   "cell_type": "code",
   "execution_count": null,
   "id": "f6222165-ebda-421e-a27c-b2bf3db56a36",
   "metadata": {},
   "outputs": [],
   "source": []
  }
 ],
 "metadata": {
  "kernelspec": {
   "display_name": "LDMSeg",
   "language": "python",
   "name": "ldmseg"
  },
  "language_info": {
   "codemirror_mode": {
    "name": "ipython",
    "version": 3
   },
   "file_extension": ".py",
   "mimetype": "text/x-python",
   "name": "python",
   "nbconvert_exporter": "python",
   "pygments_lexer": "ipython3",
   "version": "3.11.11"
  }
 },
 "nbformat": 4,
 "nbformat_minor": 5
}
