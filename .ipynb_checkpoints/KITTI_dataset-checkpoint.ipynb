{
 "cells": [
  {
   "cell_type": "code",
   "execution_count": 1,
   "id": "eb3571e5-a59f-4e49-a3a8-f1c6175ac94c",
   "metadata": {
    "tags": []
   },
   "outputs": [],
   "source": [
    "import os\n",
    "from PIL import Image\n",
    "from torch.utils.data import Dataset\n",
    "from torchvision import transforms"
   ]
  },
  {
   "cell_type": "code",
   "execution_count": 2,
   "id": "25383fbc-b41c-4701-8d00-f8ae214a13e2",
   "metadata": {
    "tags": []
   },
   "outputs": [],
   "source": [
    "class CustomDataset(Dataset):\n",
    "    def __init__(self, dataroot, side=256, split='train'):\n",
    "        \"\"\"\n",
    "        Args:\n",
    "            dataroot (str): 数据集根目录，目录下应包含 train 和 val 两个文件夹。\n",
    "            side (int): 图像裁剪/缩放后的尺寸（例如 256）。\n",
    "            split (str): 数据集分割，'train' 或 'val'。\n",
    "        \"\"\"\n",
    "        super().__init__()\n",
    "        self.dataroot = dataroot\n",
    "        self.split = split\n",
    "        self.img_dir = os.path.join(dataroot, split)\n",
    "        # 仅加载 jpg 或 png 文件\n",
    "        self.image_files = [os.path.join(self.img_dir, f) for f in os.listdir(self.img_dir) \n",
    "                            if f.lower().endswith(('.jpg', '.jpeg', '.png'))]\n",
    "        # 定义图像预处理，需和模型训练时的要求一致\n",
    "        self.transform = transforms.Compose([\n",
    "            transforms.Resize((side, side)),\n",
    "            transforms.ToTensor(),   # 将 [0,255] 转换到 [0,1]\n",
    "            transforms.Normalize([0.5]*3, [0.5]*3)  # 如果需要归一化到 [-1,1]\n",
    "        ])\n",
    "\n",
    "    def __len__(self):\n",
    "        return len(self.image_files)\n",
    "\n",
    "    def __getitem__(self, idx):\n",
    "        img_path = self.image_files[idx]\n",
    "        image = Image.open(img_path).convert(\"RGB\")\n",
    "        image = self.transform(image)\n",
    "        return {\"image\": image, \"path\": img_path}"
   ]
  },
  {
   "cell_type": "code",
   "execution_count": 3,
   "id": "5cc22b85-eeb4-4d58-89b4-6576712da49b",
   "metadata": {
    "tags": []
   },
   "outputs": [],
   "source": [
    "from PIL import Image\n",
    "import torchvision.transforms as transforms\n",
    "import matplotlib.pyplot as plt\n",
    "import numpy as np"
   ]
  },
  {
   "cell_type": "code",
   "execution_count": 4,
   "id": "3b77eece-f6e1-457e-9573-154d556be95d",
   "metadata": {
    "tags": []
   },
   "outputs": [],
   "source": [
    "gt_image = Image.open('/root/autodl-tmp/video_sequence/train/000000_000000_gtFine_instance.png')\n",
    "resize_transform = transforms.Resize((128, 416), interpolation=transforms.InterpolationMode.NEAREST)\n",
    "# 对图像进行 resize\n",
    "gt_resized = resize_transform(gt_image)"
   ]
  },
  {
   "cell_type": "code",
   "execution_count": 5,
   "id": "e3ec6060-8fc8-4fc4-a521-03cb3466e59e",
   "metadata": {
    "tags": []
   },
   "outputs": [
    {
     "name": "stdout",
     "output_type": "stream",
     "text": [
      "[  0   1 213 214 215 216 218]\n"
     ]
    }
   ],
   "source": [
    "img=np.array(gt_resized)\n",
    "unique_vals = np.unique(img)\n",
    "print(unique_vals)"
   ]
  },
  {
   "cell_type": "code",
   "execution_count": 6,
   "id": "ce1f29db-f127-49d7-875b-1166646cd86a",
   "metadata": {
    "tags": []
   },
   "outputs": [
    {
     "data": {
      "image/png": "[encoded data removed]",
      "text/plain": [
       "<Figure size 640x480 with 1 Axes>"
      ]
     },
     "metadata": {},
     "output_type": "display_data"
    }
   ],
   "source": [
    "\n",
    "# 保存处理后的图像\n",
    "plt.figure(\"class\")\n",
    "plt.imshow(img, cmap='PiYG')\n",
    "plt.show()"
   ]
  },
  {
   "cell_type": "code",
   "execution_count": 7,
   "id": "2c7d8c00-209a-4eb7-b192-316fdb0e1a96",
   "metadata": {},
   "outputs": [
    {
     "name": "stdout",
     "output_type": "stream",
     "text": [
      "[  8.20394698   8.45080666   8.74011842   9.11264349  10.\n",
      "  65.67764363  74.54972244  89.37253933  89.37253933 122.6942767\n",
      " 122.6942767 ]\n"
     ]
    },
    {
     "name": "stderr",
     "output_type": "stream",
     "text": [
      "/tmp/ipykernel_372283/2097280969.py:3: RuntimeWarning: invalid value encountered in divide\n",
      "  std=(img-mu)/sigma\n"
     ]
    }
   ],
   "source": [
    "mu = np.mean(img, axis=0)\n",
    "sigma = np.std(img, axis=0)\n",
    "std=(img-mu)/sigma\n",
    "std[np.isnan(std)] = 0\n",
    "std=(std+1)*10\n",
    "unique_vals = np.unique(std)\n",
    "print(unique_vals)"
   ]
  },
  {
   "cell_type": "code",
   "execution_count": 8,
   "id": "aef70aed-ab64-4d38-9990-3528373ee60e",
   "metadata": {
    "tags": []
   },
   "outputs": [
    {
     "data": {
      "image/png": "[encoded data removed]",
      "text/plain": [
       "<Figure size 640x480 with 1 Axes>"
      ]
     },
     "metadata": {},
     "output_type": "display_data"
    }
   ],
   "source": [
    "\n",
    "# 保存处理后的图像\n",
    "plt.figure(\"class\")\n",
    "plt.imshow(std, cmap='gist_ncar')\n",
    "plt.show()"
   ]
  },
  {
   "cell_type": "code",
   "execution_count": 9,
   "id": "b6ed7a3b-08ad-4600-b47f-03cce84420ba",
   "metadata": {},
   "outputs": [],
   "source": [
    "import os\n",
    "import numpy as np\n",
    "import torch\n",
    "from torch.utils.data import Dataset, DataLoader\n",
    "from PIL import Image\n",
    "import torchvision.transforms as transforms"
   ]
  },
  {
   "cell_type": "code",
   "execution_count": null,
   "id": "c09ffdec-d03b-40de-b7e7-71aae961f098",
   "metadata": {
    "tags": []
   },
   "outputs": [],
   "source": [
    "class SemKITTI_DVPS_Dataset(Dataset):\n",
    "    def __init__(self, root, split='train',\n",
    "                 image_transform=None,\n",
    "                 depth_transform=None,\n",
    "                 seg_transform=None,\n",
    "                 inst_transform=None):\n",
    "        \"\"\"\n",
    "        Args:\n",
    "            root (str): 数据集根目录，例如 '/path/to/dataset'\n",
    "            split (str): 数据集的划分，'train' 或 'val'\n",
    "            image_transform: 对 RGB 图像进行预处理的 transform\n",
    "            depth_transform: 对深度图进行预处理的 transform\n",
    "            seg_transform: 对语义分割标签进行预处理的 transform\n",
    "            inst_transform: 对实例分割标签进行预处理的 transform\n",
    "        \"\"\"\n",
    "        self.root = root\n",
    "        self.split = split\n",
    "        self.image_transform = image_transform\n",
    "        self.depth_transform = depth_transform\n",
    "        self.seg_transform = seg_transform\n",
    "        self.inst_transform = inst_transform\n",
    "        \n",
    "        self.samples = []  # 每个元素为一个字典，包含该样本的各个图片路径\n",
    "        split_dir = os.path.join(root, split)\n",
    "        all_files = sorted(os.listdir(split_dir))\n",
    "        \n",
    "        # 按照样本前缀分组，假设前缀为前4个字符（例如 \"0001\"）\n",
    "        \n",
    "        for file in all_files:\n",
    "            # 去除空格、统一小写\n",
    "            file_name_element = file.split(\"_\")#[00000_00000_depth_718]\n",
    "            scene=file_name_element[0]#标记场景\n",
    "            frame=file_name_element[1]#标记帧\n",
    "            if scene not in [\"000001\",\"000002\"]:\n",
    "                continue\n",
    "                \n",
    "            if scene not in sample_dict:\n",
    "                sample_dict[scene] = {}\n",
    "                if frame not in sample_dict[scene]:\n",
    "                    sample_dict[scene][frame]={}\n",
    "                else:\n",
    "                    pass\n",
    "            else:\n",
    "                if frame not in sample_dict[scene]:\n",
    "                    sample_dict[scene][frame]={}\n",
    "                else:\n",
    "                    pass\n",
    "            \n",
    "            # 根据文件名中包含的关键字确定图片类型\n",
    "            if 'depth' in file_name_element:\n",
    "                sample_dict[scene][frame]['depth'] = os.path.join(split_dir, file)\n",
    "                sample_dict[scene][frame]['focal'] = file_name_element[3].split(\".\")[0]\n",
    "            else:\n",
    "                pass\n",
    "            \n",
    "            if 'class.png' in file_name_element:\n",
    "                sample_dict[scene][frame]['class'] = os.path.join(split_dir, file)\n",
    "                \n",
    "            else:\n",
    "                pass\n",
    "            \n",
    "            if 'instance.png' in file_name_element:\n",
    "                sample_dict[scene][frame]['instance'] = os.path.join(split_dir, file)\n",
    "                \n",
    "            else:\n",
    "                pass\n",
    "            \n",
    "            if 'leftImg8bit.png' in file_name_element:\n",
    "                sample_dict[scene][frame]['Img'] = os.path.join(split_dir, file)\n",
    "                \n",
    "            else:\n",
    "                pass\n",
    "        print(sample_dict[scene][frame])    \n",
    "        # 过滤出包含所有四种图片的样本\n",
    "        \n",
    "        \n",
    "    def __len__(self):\n",
    "        return len(self.samples)\n",
    "\n",
    "    def __getitem__(self, idx):\n",
    "        sample = self.samples[idx]\n",
    "        # 加载 RGB 图像，并转换为 RGB 格式\n",
    "        image = Image.open(sample['Img']).convert('RGB')\n",
    "        # 加载深度图（深度图可能为单通道图像）\n",
    "        depth = Image.open(sample['depth'])\n",
    "        # 加载语义分割标签，通常为单通道标签图\n",
    "        seg = Image.open(sample['class'])\n",
    "        # 加载实例分割标签\n",
    "        inst = Image.open(sample['instance'])\n",
    "        \n",
    "        # 对图像应用预处理 transform\n",
    "        if self.image_transform:\n",
    "            image = self.image_transform(image)\n",
    "        else:\n",
    "            image = transforms.ToTensor()(image)\n",
    "        \n",
    "        \n",
    "        depth = transforms.ToTensor()(depth)\n",
    "        \n",
    "        seg = torch.from_numpy(np.array(seg))\n",
    "            \n",
    "        inst = torch.from_numpy(np.array(inst))\n",
    "        \n",
    "        return image, depth, seg, inst"
   ]
  },
  {
   "cell_type": "code",
   "execution_count": null,
   "id": "77eb7ad3-89ea-4204-984a-094bb50e609c",
   "metadata": {
    "tags": []
   },
   "outputs": [],
   "source": [
    "if __name__ == '__main__':\n",
    "    dataset_root = '/root/autodl-tmp/video_sequence'  # 修改为你的数据集根目录\n",
    "\n",
    "    # 定义图像预处理\n",
    "    image_transforms = transforms.Compose([\n",
    "        transforms.Resize((128, 416)),\n",
    "        transforms.ToTensor(),\n",
    "        transforms.Normalize(mean=[0.485, 0.456, 0.406],\n",
    "                             std=[0.229, 0.224, 0.225])\n",
    "    ])\n",
    "\n",
    "    # 可根据需要为深度图单独定义 transform，例如仅做 resize 和 ToTensor\n",
    "    # 对于 segment 和 instance，由于它们是标签，通常不希望有归一化操作，可以直接转换为 Tensor\n",
    "    # 这里我们在 __getitem__ 中已处理\n",
    "\n",
    "    # 构造训练集\n",
    "    train_dataset = SemKITTI_DVPS_Dataset(root=dataset_root,\n",
    "                                          split='train',\n",
    "                                          image_transform=image_transforms)\n",
    "    train_loader = DataLoader(train_dataset, batch_size=4, shuffle=True, num_workers=4)\n",
    "\n",
    "    # 测试加载数据\n",
    "    for images, depths, segments, instances in train_loader:\n",
    "        print(\"RGB 图像 batch 尺寸:\", images.shape)       # 例如 [4, 3, 256, 512]\n",
    "        print(\"深度图 batch 尺寸:\", depths.shape)          # 例如 [4, 1, 256, 512]\n",
    "        print(\"语义标签 batch 尺寸:\", segments.shape)       # 例如 [4, 256, 512]\n",
    "        print(\"实例标签 batch 尺寸:\", instances.shape)      # 例如 [4, 256, 512]\n",
    "        break\n"
   ]
  },
  {
   "cell_type": "code",
   "execution_count": null,
   "id": "ac58667e-3bb9-4e9d-bd8c-96550bb49849",
   "metadata": {},
   "outputs": [],
   "source": []
  }
 ],
 "metadata": {
  "kernelspec": {
   "display_name": "LDMSeg",
   "language": "python",
   "name": "ldmseg"
  },
  "language_info": {
   "codemirror_mode": {
    "name": "ipython",
    "version": 3
   },
   "file_extension": ".py",
   "mimetype": "text/x-python",
   "name": "python",
   "nbconvert_exporter": "python",
   "pygments_lexer": "ipython3",
   "version": "3.8.10"
  }
 },
 "nbformat": 4,
 "nbformat_minor": 5
}
